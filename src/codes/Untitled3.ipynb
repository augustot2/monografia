{
 "cells": [
  {
   "cell_type": "code",
   "execution_count": 94,
   "metadata": {
    "collapsed": true
   },
   "outputs": [],
   "source": [
    "using LaTeXStrings"
   ]
  },
  {
   "cell_type": "code",
   "execution_count": 126,
   "metadata": {
    "collapsed": false
   },
   "outputs": [
    {
     "data": {
      "text/plain": [
       "ξ (generic function with 1 method)"
      ]
     },
     "execution_count": 126,
     "metadata": {},
     "output_type": "execute_result"
    }
   ],
   "source": [
    "a=-1\n",
    "b= 1\n",
    "remap(x,a,b) = ((1-x).*a + (1+x).*b)/2\n",
    "\n",
    "ξ(x,a,b) = (2*x - (a+b))/(b-a)"
   ]
  },
  {
   "cell_type": "code",
   "execution_count": 128,
   "metadata": {
    "collapsed": false
   },
   "outputs": [
    {
     "data": {
      "text/plain": [
       "10.0"
      ]
     },
     "execution_count": 128,
     "metadata": {},
     "output_type": "execute_result"
    }
   ],
   "source": [
    "ξ(10,-1,1)"
   ]
  },
  {
   "cell_type": "code",
   "execution_count": 140,
   "metadata": {
    "collapsed": false
   },
   "outputs": [
    {
     "data": {
      "text/plain": [
       "2x4 Array{Float64,2}:\n",
       " 1.0  0.0  0.0  0.0\n",
       " 0.0  0.0  0.0  1.0"
      ]
     },
     "execution_count": 140,
     "metadata": {},
     "output_type": "execute_result"
    }
   ],
   "source": [
    "ϕ = zeros(2,Ndof) \n",
    "\n",
    "ϕ[1,1] = 1\n",
    "ϕ[end,end] = 1\n",
    "ϕ"
   ]
  },
  {
   "cell_type": "code",
   "execution_count": 141,
   "metadata": {
    "collapsed": false
   },
   "outputs": [
    {
     "data": {
      "text/plain": [
       "10-element Array{Float64,1}:\n",
       " 0.0\n",
       " 0.0\n",
       " 0.0\n",
       " 0.0\n",
       " 0.0\n",
       " 0.0\n",
       " 0.0\n",
       " 0.0\n",
       " 0.0\n",
       " 0.0"
      ]
     },
     "execution_count": 141,
     "metadata": {},
     "output_type": "execute_result"
    }
   ],
   "source": [
    "zeros(10)"
   ]
  },
  {
   "cell_type": "code",
   "execution_count": 125,
   "metadata": {
    "collapsed": false
   },
   "outputs": [
    {
     "data": {
      "text/plain": [
       "100.0"
      ]
     },
     "execution_count": 125,
     "metadata": {},
     "output_type": "execute_result"
    }
   ],
   "source": [
    "remap(,a,b)"
   ]
  },
  {
   "cell_type": "code",
   "execution_count": 6,
   "metadata": {
    "collapsed": false
   },
   "outputs": [
    {
     "data": {
      "text/plain": [
       "2x3 Array{Int64,2}:\n",
       " 1  2  3\n",
       " 2  3  4"
      ]
     },
     "execution_count": 6,
     "metadata": {},
     "output_type": "execute_result"
    }
   ],
   "source": [
    "Nel = 3\n",
    "dof_map = zeros(Int, 2, Nel)\n",
    "for i = 1:Nel\n",
    "  dof_map[1,i] = i\n",
    "  dof_map[2,i] = i+1\n",
    "end\n",
    "dof_map"
   ]
  },
  {
   "cell_type": "code",
   "execution_count": 118,
   "metadata": {
    "collapsed": false
   },
   "outputs": [
    {
     "name": "stdout",
     "output_type": "stream",
     "text": [
      "phig[1,1] += phi1[1,1]\n",
      "phig[2,1] += phi1[2,1]\n",
      "phig[1,2] += phi1[1,2]\n",
      "phig[2,2] += phi1[2,2]\n",
      "phig[2,2] += phi2[1,1]\n",
      "phig[3,2] += phi2[2,1]\n",
      "phig[2,3] += phi2[1,2]\n",
      "phig[3,3] += phi2[2,2]\n",
      "phig[3,3] += phi3[1,1]\n",
      "phig[4,3] += phi3[2,1]\n",
      "phig[3,4] += phi3[1,2]\n",
      "phig[4,4] += phi3[2,2]\n"
     ]
    }
   ],
   "source": [
    "Ndof = Nel + 1\n",
    "for e = 1:Nel\n",
    "    #dMe = dmass_matrix(xn[e], xn[e+1])\n",
    "    for i = 1:2\n",
    "        ig = dof_map[i,e]\n",
    "        for k = 1:2\n",
    "            kg = dof_map[k,e]\n",
    "            #dM[kg,ig] += dMe[k,i]\n",
    "            println(\"phig[$kg,$ig] += phi$e[$k,$i]\")\n",
    "        end\n",
    "    end\n",
    "end"
   ]
  },
  {
   "cell_type": "code",
   "execution_count": 87,
   "metadata": {
    "collapsed": false
   },
   "outputs": [
    {
     "ename": "LoadError",
     "evalue": "LoadError: syntax: invalid interpolation syntax: \"$ \"\nwhile loading In[87], in expression starting on line 3",
     "output_type": "error",
     "traceback": [
      "LoadError: syntax: invalid interpolation syntax: \"$ \"\nwhile loading In[87], in expression starting on line 3",
      ""
     ]
    }
   ],
   "source": [
    "i = 2\n",
    "for i in 1:10\n",
    "    println(latexstring(\"$ \\alpha + 2 $\"))\n",
    "end"
   ]
  },
  {
   "cell_type": "code",
   "execution_count": 109,
   "metadata": {
    "collapsed": false
   },
   "outputs": [
    {
     "data": {
      "text/latex": [
       "an equation: $1 + \\phi_2^2$"
      ],
      "text/plain": [
       "L\"an equation: $1 + \\phi_2^2$\""
      ]
     },
     "execution_count": 109,
     "metadata": {},
     "output_type": "execute_result"
    }
   ],
   "source": [
    "latexstring(\"an equation: \\$1 + \\\\phi_$i^2\\$\")"
   ]
  }
 ],
 "metadata": {
  "kernelspec": {
   "display_name": "Julia 0.4.2",
   "language": "julia",
   "name": "julia-0.4"
  },
  "language_info": {
   "file_extension": ".jl",
   "mimetype": "application/julia",
   "name": "julia",
   "version": "0.4.2"
  }
 },
 "nbformat": 4,
 "nbformat_minor": 0
}
