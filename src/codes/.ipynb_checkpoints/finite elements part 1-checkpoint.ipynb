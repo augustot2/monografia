{
 "cells": [
  {
   "cell_type": "markdown",
   "metadata": {},
   "source": [
    "## Elementos finitos linear 1D"
   ]
  },
  {
   "cell_type": "markdown",
   "metadata": {},
   "source": [
    "## Montar a matrix de massa"
   ]
  },
  {
   "cell_type": "code",
   "execution_count": 1,
   "metadata": {
    "collapsed": false
   },
   "outputs": [
    {
     "data": {
      "text/plain": [
       "stiff_matrix (generic function with 1 method)"
      ]
     },
     "execution_count": 1,
     "metadata": {},
     "output_type": "execute_result"
    }
   ],
   "source": [
    "ϕ₁(x, a, b)  = (b-x)/(b-a)\n",
    "ϕ₂(x, a, b)  = (x-a)/(b-a)\n",
    "dϕ₁(x, a, b)  = 1/(a-b)\n",
    "dϕ₂(x, a, b)  = 1/(b-a)\n",
    "mass_matrix(a, b) = [(b-a)/3 (b-a)/6; (b-a)/6 (b-a)/3]\n",
    "stiff_matrix(a, b)= [1/(b-a) -1/(b-a);-1/(b-a) 1/(b-a) ]"
   ]
  },
  {
   "cell_type": "code",
   "execution_count": 2,
   "metadata": {
    "collapsed": false
   },
   "outputs": [
    {
     "data": {
      "text/plain": [
       "2x2 Array{Float64,2}:\n",
       " 0.666667  0.333333\n",
       " 0.333333  0.666667"
      ]
     },
     "execution_count": 2,
     "metadata": {},
     "output_type": "execute_result"
    }
   ],
   "source": [
    "mass_matrix(-1,1)"
   ]
  },
  {
   "cell_type": "code",
   "execution_count": 3,
   "metadata": {
    "collapsed": false
   },
   "outputs": [
    {
     "data": {
      "text/plain": [
       "2x2 Array{Float64,2}:\n",
       "  1.0  -1.0\n",
       " -1.0   1.0"
      ]
     },
     "execution_count": 3,
     "metadata": {},
     "output_type": "execute_result"
    }
   ],
   "source": [
    "stiff_matrix(0,1)"
   ]
  },
  {
   "cell_type": "code",
   "execution_count": 4,
   "metadata": {
    "collapsed": false
   },
   "outputs": [
    {
     "ename": "LoadError",
     "evalue": "LoadError: UndefVarError: plot not defined\nwhile loading In[4], in expression starting on line 3",
     "output_type": "error",
     "traceback": [
      "LoadError: UndefVarError: plot not defined\nwhile loading In[4], in expression starting on line 3",
      ""
     ]
    }
   ],
   "source": [
    "x = linspace(-1,1,101)\n",
    "y1=[ϕ₁(x,-1,1) for x in linspace(-1,1,101)]\n",
    "plot(x,y1)"
   ]
  },
  {
   "cell_type": "code",
   "execution_count": 5,
   "metadata": {
    "collapsed": false
   },
   "outputs": [
    {
     "data": {
      "text/plain": [
       "2x2 Array{Float64,2}:\n",
       " 0.666667  0.333333\n",
       " 0.333333  0.666667"
      ]
     },
     "execution_count": 5,
     "metadata": {},
     "output_type": "execute_result"
    }
   ],
   "source": [
    "mass_matrix(-1,1)"
   ]
  },
  {
   "cell_type": "code",
   "execution_count": 6,
   "metadata": {
    "collapsed": false
   },
   "outputs": [
    {
     "data": {
      "text/plain": [
       "2x2 Array{Float64,2}:\n",
       " 0.333333  0.166667\n",
       " 0.166667  0.333333"
      ]
     },
     "execution_count": 6,
     "metadata": {},
     "output_type": "execute_result"
    }
   ],
   "source": [
    "mass_matrix(0,1)"
   ]
  },
  {
   "cell_type": "code",
   "execution_count": 7,
   "metadata": {
    "collapsed": false
   },
   "outputs": [],
   "source": [
    "Nel = 50\n",
    "a = -1.0\n",
    "b = 1.0\n",
    "Ndof = Nel + 1\n",
    "xn = [linspace(a,b,Nel+1);];\n"
   ]
  },
  {
   "cell_type": "code",
   "execution_count": 8,
   "metadata": {
    "collapsed": false
   },
   "outputs": [
    {
     "data": {
      "text/plain": [
       "2x50 Array{Int64,2}:\n",
       " 1  2  3  4  5  6  7  8   9  10  11  …  42  43  44  45  46  47  48  49  50\n",
       " 2  3  4  5  6  7  8  9  10  11  12     43  44  45  46  47  48  49  50  51"
      ]
     },
     "execution_count": 8,
     "metadata": {},
     "output_type": "execute_result"
    }
   ],
   "source": [
    "Nel = size(xn,1)-1\n",
    "dof_map = zeros(Int, 2, Nel)\n",
    "for i = 1:Nel\n",
    "    dof_map[1,i] = i\n",
    "    dof_map[2,i] = i+1\n",
    "end\n",
    "dof_map"
   ]
  },
  {
   "cell_type": "code",
   "execution_count": 9,
   "metadata": {
    "collapsed": false
   },
   "outputs": [
    {
     "data": {
      "text/plain": [
       "51x51 Array{Float64,2}:\n",
       " 0.0133333   0.00666667  0.0         …  0.0         0.0         0.0       \n",
       " 0.00666667  0.0266667   0.00666667     0.0         0.0         0.0       \n",
       " 0.0         0.00666667  0.0266667      0.0         0.0         0.0       \n",
       " 0.0         0.0         0.00666667     0.0         0.0         0.0       \n",
       " 0.0         0.0         0.0            0.0         0.0         0.0       \n",
       " 0.0         0.0         0.0         …  0.0         0.0         0.0       \n",
       " 0.0         0.0         0.0            0.0         0.0         0.0       \n",
       " 0.0         0.0         0.0            0.0         0.0         0.0       \n",
       " 0.0         0.0         0.0            0.0         0.0         0.0       \n",
       " 0.0         0.0         0.0            0.0         0.0         0.0       \n",
       " 0.0         0.0         0.0         …  0.0         0.0         0.0       \n",
       " 0.0         0.0         0.0            0.0         0.0         0.0       \n",
       " 0.0         0.0         0.0            0.0         0.0         0.0       \n",
       " ⋮                                   ⋱                          ⋮         \n",
       " 0.0         0.0         0.0            0.0         0.0         0.0       \n",
       " 0.0         0.0         0.0         …  0.0         0.0         0.0       \n",
       " 0.0         0.0         0.0            0.0         0.0         0.0       \n",
       " 0.0         0.0         0.0            0.0         0.0         0.0       \n",
       " 0.0         0.0         0.0            0.0         0.0         0.0       \n",
       " 0.0         0.0         0.0            0.0         0.0         0.0       \n",
       " 0.0         0.0         0.0         …  0.0         0.0         0.0       \n",
       " 0.0         0.0         0.0            0.0         0.0         0.0       \n",
       " 0.0         0.0         0.0            0.00666667  0.0         0.0       \n",
       " 0.0         0.0         0.0            0.0266667   0.00666667  0.0       \n",
       " 0.0         0.0         0.0            0.00666667  0.0266667   0.00666667\n",
       " 0.0         0.0         0.0         …  0.0         0.00666667  0.0133333 "
      ]
     },
     "execution_count": 9,
     "metadata": {},
     "output_type": "execute_result"
    }
   ],
   "source": [
    "M = zeros(Ndof, Ndof)\n",
    "\n",
    "for e = 1:Nel\n",
    "    Me = mass_matrix(xn[e], xn[e+1])\n",
    "    for i = 1:2\n",
    "        ig = dof_map[i,e]\n",
    "        for k = 1:2\n",
    "            kg = dof_map[k,e]\n",
    "            M[kg,ig] += Me[k,i]\n",
    "        end\n",
    "    end\n",
    "end\n",
    "M           "
   ]
  },
  {
   "cell_type": "markdown",
   "metadata": {},
   "source": [
    "## Montar o lado direito da equação:"
   ]
  },
  {
   "cell_type": "code",
   "execution_count": 10,
   "metadata": {
    "collapsed": false
   },
   "outputs": [
    {
     "data": {
      "text/plain": [
       "fun (generic function with 1 method)"
      ]
     },
     "execution_count": 10,
     "metadata": {},
     "output_type": "execute_result"
    }
   ],
   "source": [
    "#wolfram problem : y'' + y = -4*pi^2*cos(2*pi*x) + cos(2*pi*x),y'(-1) = 0,y'(1)=0\n",
    "#fun(x) = (1.0 - 4*pi^2)*sin(2*pi*x) \n",
    "fun(x) = sin(2*pi*x)\n"
   ]
  },
  {
   "cell_type": "code",
   "execution_count": 11,
   "metadata": {
    "collapsed": false
   },
   "outputs": [
    {
     "data": {
      "text/plain": [
       "51-element Array{Float64,1}:\n",
       "  2.44929e-16\n",
       "  0.24869    \n",
       "  0.481754   \n",
       "  0.684547   \n",
       "  0.844328   \n",
       "  0.951057   \n",
       "  0.998027   \n",
       "  0.982287   \n",
       "  0.904827   \n",
       "  0.770513   \n",
       "  0.587785   \n",
       "  0.368125   \n",
       "  0.125333   \n",
       "  ⋮          \n",
       " -0.368125   \n",
       " -0.587785   \n",
       " -0.770513   \n",
       " -0.904827   \n",
       " -0.982287   \n",
       " -0.998027   \n",
       " -0.951057   \n",
       " -0.844328   \n",
       " -0.684547   \n",
       " -0.481754   \n",
       " -0.24869    \n",
       " -2.44929e-16"
      ]
     },
     "execution_count": 11,
     "metadata": {},
     "output_type": "execute_result"
    }
   ],
   "source": [
    "fe = fun(xn)"
   ]
  },
  {
   "cell_type": "code",
   "execution_count": 12,
   "metadata": {
    "collapsed": false
   },
   "outputs": [],
   "source": [
    "F = zeros(Ndof)\n",
    "for e = 1:Nel\n",
    "    Me = mass_matrix(xn[e], xn[e+1])\n",
    "    Fe = Me * fun(xn[e:(e+1)])\n",
    "    for i = 1:2\n",
    "        ig = dof_map[i,e]\n",
    "        F[ig] += Fe[i]\n",
    "    end\n",
    "end\n",
    "    "
   ]
  },
  {
   "cell_type": "markdown",
   "metadata": {},
   "source": [
    "## Solução do problema"
   ]
  },
  {
   "cell_type": "code",
   "execution_count": 17,
   "metadata": {
    "collapsed": false
   },
   "outputs": [],
   "source": [
    "u = M\\F;"
   ]
  },
  {
   "cell_type": "code",
   "execution_count": 22,
   "metadata": {
    "collapsed": false
   },
   "outputs": [
    {
     "data": {
      "image/png": "[encoded data removed]",
      "text/plain": [
       "PyPlot.Figure(PyObject <matplotlib.figure.Figure object at 0x7fe720de3350>)"
      ]
     },
     "metadata": {},
     "output_type": "display_data"
    }
   ],
   "source": [
    "using PyPlot\n",
    "xx = linspace(a, b, 201)\n",
    "plot(xx, fun(xx))\n",
    "plot(xn, u, \"rs-\",label = \"u\")\n",
    "legend()\n",
    "u;"
   ]
  },
  {
   "cell_type": "code",
   "execution_count": 23,
   "metadata": {
    "collapsed": false
   },
   "outputs": [
    {
     "data": {
      "image/png": "[encoded data removed]",
      "text/plain": [
       "PyPlot.Figure(PyObject <matplotlib.figure.Figure object at 0x7fe720c1a350>)"
      ]
     },
     "metadata": {},
     "output_type": "display_data"
    },
    {
     "data": {
      "text/plain": [
       "PyObject <matplotlib.legend.Legend object at 0x7fe720b10250>"
      ]
     },
     "execution_count": 23,
     "metadata": {},
     "output_type": "execute_result"
    }
   ],
   "source": [
    "e1 = u - fun(xn)\n",
    "figure();\n",
    "plot(xn, e1, \"rs-\",label=\"erro 1\");\n",
    "legend()"
   ]
  },
  {
   "cell_type": "code",
   "execution_count": null,
   "metadata": {
    "collapsed": false
   },
   "outputs": [],
   "source": []
  },
  {
   "cell_type": "code",
   "execution_count": null,
   "metadata": {
    "collapsed": true
   },
   "outputs": [],
   "source": []
  },
  {
   "cell_type": "code",
   "execution_count": null,
   "metadata": {
    "collapsed": true
   },
   "outputs": [],
   "source": []
  },
  {
   "cell_type": "code",
   "execution_count": null,
   "metadata": {
    "collapsed": true
   },
   "outputs": [],
   "source": []
  }
 ],
 "metadata": {
  "kernelspec": {
   "display_name": "Julia 0.4.2",
   "language": "julia",
   "name": "julia-0.4"
  },
  "language_info": {
   "file_extension": ".jl",
   "mimetype": "application/julia",
   "name": "julia",
   "version": "0.4.2"
  }
 },
 "nbformat": 4,
 "nbformat_minor": 0
}
