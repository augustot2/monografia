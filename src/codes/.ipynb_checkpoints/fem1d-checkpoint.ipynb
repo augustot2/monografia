{
 "cells": [
  {
   "cell_type": "markdown",
   "metadata": {},
   "source": [
    "## Elementos finitos linear 1D"
   ]
  },
  {
   "cell_type": "markdown",
   "metadata": {},
   "source": [
    "## Montar a matrix de massa"
   ]
  },
  {
   "cell_type": "code",
   "execution_count": 111,
   "metadata": {
    "collapsed": false
   },
   "outputs": [
    {
     "data": {
      "text/plain": [
       "dmass_matrix (generic function with 1 method)"
      ]
     },
     "execution_count": 111,
     "metadata": {},
     "output_type": "execute_result"
    }
   ],
   "source": [
    "ϕ₁(x, a, b)  = (b-x)/(b-a)\n",
    "ϕ₂(x, a, b)  = (x-a)/(b-a)\n",
    "dϕ₁(x, a, b)  = -1/(b-a)\n",
    "dϕ₂(x, a, b)  = 1/(b-a)\n",
    "mass_matrix(a, b) = [(b-a)/3 (b-a)/6; (b-a)/6 (b-a)/3]\n",
    "dmass_matrix(a, b)= [2/(b-a) -2/(b-a); -2/(b-a) 2/(b-a) ]"
   ]
  },
  {
   "cell_type": "code",
   "execution_count": 112,
   "metadata": {
    "collapsed": false
   },
   "outputs": [
    {
     "data": {
      "text/plain": [
       "2x2 Array{Float64,2}:\n",
       " 0.666667  0.333333\n",
       " 0.333333  0.666667"
      ]
     },
     "execution_count": 112,
     "metadata": {},
     "output_type": "execute_result"
    }
   ],
   "source": [
    "mass_matrix(-1,1)"
   ]
  },
  {
   "cell_type": "code",
   "execution_count": 113,
   "metadata": {
    "collapsed": false
   },
   "outputs": [
    {
     "data": {
      "text/plain": [
       "2x2 Array{Float64,2}:\n",
       " 0.333333  0.166667\n",
       " 0.166667  0.333333"
      ]
     },
     "execution_count": 113,
     "metadata": {},
     "output_type": "execute_result"
    }
   ],
   "source": [
    "mass_matrix(0,1)"
   ]
  },
  {
   "cell_type": "code",
   "execution_count": 114,
   "metadata": {
    "collapsed": false
   },
   "outputs": [],
   "source": [
    "a = -1.0\n",
    "b = 1.0\n",
    "xn = [linspace(a,b,20);]\n",
    "Ndof = size(xn,1);"
   ]
  },
  {
   "cell_type": "code",
   "execution_count": 115,
   "metadata": {
    "collapsed": false
   },
   "outputs": [
    {
     "data": {
      "text/plain": [
       "20-element Array{Float64,1}:\n",
       " -1.0      \n",
       " -0.894737 \n",
       " -0.789474 \n",
       " -0.684211 \n",
       " -0.578947 \n",
       " -0.473684 \n",
       " -0.368421 \n",
       " -0.263158 \n",
       " -0.157895 \n",
       " -0.0526316\n",
       "  0.0526316\n",
       "  0.157895 \n",
       "  0.263158 \n",
       "  0.368421 \n",
       "  0.473684 \n",
       "  0.578947 \n",
       "  0.684211 \n",
       "  0.789474 \n",
       "  0.894737 \n",
       "  1.0      "
      ]
     },
     "execution_count": 115,
     "metadata": {},
     "output_type": "execute_result"
    }
   ],
   "source": [
    "xn"
   ]
  },
  {
   "cell_type": "code",
   "execution_count": 116,
   "metadata": {
    "collapsed": false
   },
   "outputs": [
    {
     "data": {
      "text/plain": [
       "2x19 Array{Int64,2}:\n",
       " 1  2  3  4  5  6  7  8   9  10  11  12  13  14  15  16  17  18  19\n",
       " 2  3  4  5  6  7  8  9  10  11  12  13  14  15  16  17  18  19  20"
      ]
     },
     "execution_count": 116,
     "metadata": {},
     "output_type": "execute_result"
    }
   ],
   "source": [
    "Nel = size(xn,1)-1\n",
    "dof_map = zeros(Int, 2, Nel)\n",
    "for i = 1:Nel\n",
    "    dof_map[1,i] = i\n",
    "    dof_map[2,i] = i+1\n",
    "end\n",
    "dof_map"
   ]
  },
  {
   "cell_type": "code",
   "execution_count": 117,
   "metadata": {
    "collapsed": false
   },
   "outputs": [
    {
     "data": {
      "text/plain": [
       "20x20 Array{Float64,2}:\n",
       "  18.9947  -19.0       0.0       0.0     …    0.0       0.0       0.0   \n",
       " -19.0      37.9678  -19.0       0.0          0.0       0.0       0.0   \n",
       "   0.0     -19.0      37.9428  -19.0          0.0       0.0       0.0   \n",
       "   0.0       0.0     -19.0      37.9194       0.0       0.0       0.0   \n",
       "   0.0       0.0       0.0     -19.0          0.0       0.0       0.0   \n",
       "   0.0       0.0       0.0       0.0     …    0.0       0.0       0.0   \n",
       "   0.0       0.0       0.0       0.0          0.0       0.0       0.0   \n",
       "   0.0       0.0       0.0       0.0          0.0       0.0       0.0   \n",
       "   0.0       0.0       0.0       0.0          0.0       0.0       0.0   \n",
       "   0.0       0.0       0.0       0.0          0.0       0.0       0.0   \n",
       "   0.0       0.0       0.0       0.0     …    0.0       0.0       0.0   \n",
       "   0.0       0.0       0.0       0.0          0.0       0.0       0.0   \n",
       "   0.0       0.0       0.0       0.0          0.0       0.0       0.0   \n",
       "   0.0       0.0       0.0       0.0          0.0       0.0       0.0   \n",
       "   0.0       0.0       0.0       0.0          0.0       0.0       0.0   \n",
       "   0.0       0.0       0.0       0.0     …    0.0       0.0       0.0   \n",
       "   0.0       0.0       0.0       0.0        -19.0       0.0       0.0   \n",
       "   0.0       0.0       0.0       0.0         37.9428  -19.0       0.0   \n",
       "   0.0       0.0       0.0       0.0        -19.0      37.9678  -19.0   \n",
       "   0.0       0.0       0.0       0.0          0.0     -19.0      18.9947"
      ]
     },
     "execution_count": 117,
     "metadata": {},
     "output_type": "execute_result"
    }
   ],
   "source": [
    "M = zeros(Ndof, Ndof)\n",
    "\n",
    "for e = 1:Nel\n",
    "    Me = mass_matrix(xn[e], xn[e+1])\n",
    "    for i = 1:2\n",
    "        ig = dof_map[i,e]\n",
    "        for k = 1:2\n",
    "            kg = dof_map[k,e]\n",
    "            M[kg,ig] += Me[k,i]\n",
    "        end\n",
    "    end\n",
    "end\n",
    "M\n",
    "\n",
    "dM = zeros(Ndof, Ndof)\n",
    "\n",
    "for e = 1:Nel\n",
    "    dMe = dmass_matrix(xn[e], xn[e+1])\n",
    "    for i = 1:2\n",
    "        ig = dof_map[i,e]\n",
    "        for k = 1:2\n",
    "            kg = dof_map[k,e]\n",
    "            dM[kg,ig] += dMe[k,i]\n",
    "        end\n",
    "    end\n",
    "end\n",
    "dM\n",
    "\n",
    "z = zglj(Ndof)\n",
    "w = wglj(z)\n",
    "for i in 1:Ndof\n",
    "    dM[i,i] = dM[i,i] - w[i]\n",
    "end\n",
    "\n",
    "dM\n",
    "            "
   ]
  },
  {
   "cell_type": "markdown",
   "metadata": {},
   "source": [
    "## Montar o lado direito da equação:"
   ]
  },
  {
   "cell_type": "code",
   "execution_count": 118,
   "metadata": {
    "collapsed": false
   },
   "outputs": [
    {
     "data": {
      "text/plain": [
       "fun (generic function with 1 method)"
      ]
     },
     "execution_count": 118,
     "metadata": {},
     "output_type": "execute_result"
    }
   ],
   "source": [
    "fun(x) = sin(2π*x)"
   ]
  },
  {
   "cell_type": "code",
   "execution_count": 119,
   "metadata": {
    "collapsed": false
   },
   "outputs": [
    {
     "data": {
      "text/plain": [
       "20-element Array{Float64,1}:\n",
       "  2.44929e-16\n",
       "  0.614213   \n",
       "  0.9694     \n",
       "  0.915773   \n",
       "  0.475947   \n",
       " -0.164595   \n",
       " -0.735724   \n",
       " -0.996584   \n",
       " -0.837166   \n",
       " -0.324699   \n",
       "  0.324699   \n",
       "  0.837166   \n",
       "  0.996584   \n",
       "  0.735724   \n",
       "  0.164595   \n",
       " -0.475947   \n",
       " -0.915773   \n",
       " -0.9694     \n",
       " -0.614213   \n",
       " -2.44929e-16"
      ]
     },
     "execution_count": 119,
     "metadata": {},
     "output_type": "execute_result"
    }
   ],
   "source": [
    "fe = fun(xn)"
   ]
  },
  {
   "cell_type": "code",
   "execution_count": 120,
   "metadata": {
    "collapsed": false
   },
   "outputs": [
    {
     "data": {
      "text/plain": [
       "20-element Array{Float64,1}:\n",
       " -1.0      \n",
       " -0.894737 \n",
       " -0.789474 \n",
       " -0.684211 \n",
       " -0.578947 \n",
       " -0.473684 \n",
       " -0.368421 \n",
       " -0.263158 \n",
       " -0.157895 \n",
       " -0.0526316\n",
       "  0.0526316\n",
       "  0.157895 \n",
       "  0.263158 \n",
       "  0.368421 \n",
       "  0.473684 \n",
       "  0.578947 \n",
       "  0.684211 \n",
       "  0.789474 \n",
       "  0.894737 \n",
       "  1.0      "
      ]
     },
     "execution_count": 120,
     "metadata": {},
     "output_type": "execute_result"
    }
   ],
   "source": [
    "xn"
   ]
  },
  {
   "cell_type": "code",
   "execution_count": 121,
   "metadata": {
    "collapsed": false
   },
   "outputs": [],
   "source": [
    "F = zeros(Ndof)\n",
    "for e = 1:Nel\n",
    "    Me = mass_matrix(xn[e], xn[e+1])\n",
    "    Fe = Me * fun(xn[e:(e+1)])\n",
    "    for i = 1:2\n",
    "        ig = dof_map[i,e]\n",
    "        F[ig] += Fe[i]\n",
    "    end\n",
    "end\n",
    "        \n",
    "\n",
    "# Calculando a integral de maneira mais exata:\n",
    "using Jacobi\n",
    "Q = 10\n",
    "z = zgj(Q)\n",
    "w = wgj(z)\n",
    "\n",
    "F2 = zeros(Ndof)\n",
    "for e = 1:Nel\n",
    "    Fe1 = 0.0\n",
    "    Fe2 = 0.0\n",
    "    a1 = xn[e]\n",
    "    b1 = xn[e+1]\n",
    "    x = ( (1-z)*a1 + (1+z)*b1 ) / 2\n",
    "    J = (b1-a1) / 2\n",
    "    for q = 1:Q\n",
    "        f = fun(x[q])\n",
    "        Fe1 += J * w[q] * f * ϕ₁(x[q], a1, b1)\n",
    "        Fe2 += J * w[q] * f * ϕ₂(x[q], a1, b1)\n",
    "    end\n",
    "    i1 = dof_map[1,e]\n",
    "    i2 = dof_map[2,e]\n",
    "    F2[i1] += Fe1\n",
    "    F2[i2] += Fe2\n",
    "end\n",
    "\n"
   ]
  },
  {
   "cell_type": "code",
   "execution_count": 122,
   "metadata": {
    "collapsed": false
   },
   "outputs": [
    {
     "data": {
      "text/plain": [
       "20-element Array{Float64,1}:\n",
       " -0.0107757\n",
       " -0.0601097\n",
       " -0.0948699\n",
       " -0.0896218\n",
       " -0.0465784\n",
       "  0.016108 \n",
       "  0.0720013\n",
       "  0.0975303\n",
       "  0.0819289\n",
       "  0.0317766\n",
       " -0.0317766\n",
       " -0.0819289\n",
       " -0.0975303\n",
       " -0.0720013\n",
       " -0.016108 \n",
       "  0.0465784\n",
       "  0.0896218\n",
       "  0.0948699\n",
       "  0.0601097\n",
       "  0.0107757"
      ]
     },
     "execution_count": 122,
     "metadata": {},
     "output_type": "execute_result"
    }
   ],
   "source": [
    "F = -F"
   ]
  },
  {
   "cell_type": "code",
   "execution_count": 123,
   "metadata": {
    "collapsed": false
   },
   "outputs": [
    {
     "data": {
      "text/plain": [
       "20-element Array{Float64,1}:\n",
       " -0.0113521\n",
       " -0.0623312\n",
       " -0.0983762\n",
       " -0.0929341\n",
       " -0.0482999\n",
       "  0.0167033\n",
       "  0.0746624\n",
       "  0.101135 \n",
       "  0.0849569\n",
       "  0.032951 \n",
       " -0.032951 \n",
       " -0.0849569\n",
       " -0.101135 \n",
       " -0.0746624\n",
       " -0.0167033\n",
       "  0.0482999\n",
       "  0.0929341\n",
       "  0.0983762\n",
       "  0.0623312\n",
       "  0.0113521"
      ]
     },
     "execution_count": 123,
     "metadata": {},
     "output_type": "execute_result"
    }
   ],
   "source": [
    "F2 = -F2"
   ]
  },
  {
   "cell_type": "markdown",
   "metadata": {},
   "source": [
    "## Solução do problema"
   ]
  },
  {
   "cell_type": "code",
   "execution_count": 124,
   "metadata": {
    "collapsed": false
   },
   "outputs": [
    {
     "data": {
      "text/plain": [
       "20-element Array{Float64,1}:\n",
       " -1.48319e-16\n",
       " -0.614213   \n",
       " -0.9694     \n",
       " -0.915773   \n",
       " -0.475947   \n",
       "  0.164595   \n",
       "  0.735724   \n",
       "  0.996584   \n",
       "  0.837166   \n",
       "  0.324699   \n",
       " -0.324699   \n",
       " -0.837166   \n",
       " -0.996584   \n",
       " -0.735724   \n",
       " -0.164595   \n",
       "  0.475947   \n",
       "  0.915773   \n",
       "  0.9694     \n",
       "  0.614213   \n",
       "  1.71264e-16"
      ]
     },
     "execution_count": 124,
     "metadata": {},
     "output_type": "execute_result"
    }
   ],
   "source": [
    "u = M\\F"
   ]
  },
  {
   "cell_type": "code",
   "execution_count": 125,
   "metadata": {
    "collapsed": false
   },
   "outputs": [
    {
     "data": {
      "text/plain": [
       "20x2 Array{Float64,2}:\n",
       " -0.0107757  -0.0113521\n",
       " -0.0601097  -0.0623312\n",
       " -0.0948699  -0.0983762\n",
       " -0.0896218  -0.0929341\n",
       " -0.0465784  -0.0482999\n",
       "  0.016108    0.0167033\n",
       "  0.0720013   0.0746624\n",
       "  0.0975303   0.101135 \n",
       "  0.0819289   0.0849569\n",
       "  0.0317766   0.032951 \n",
       " -0.0317766  -0.032951 \n",
       " -0.0819289  -0.0849569\n",
       " -0.0975303  -0.101135 \n",
       " -0.0720013  -0.0746624\n",
       " -0.016108   -0.0167033\n",
       "  0.0465784   0.0482999\n",
       "  0.0896218   0.0929341\n",
       "  0.0948699   0.0983762\n",
       "  0.0601097   0.0623312\n",
       "  0.0107757   0.0113521"
      ]
     },
     "execution_count": 125,
     "metadata": {},
     "output_type": "execute_result"
    }
   ],
   "source": [
    "hcat(F,F2)"
   ]
  },
  {
   "cell_type": "code",
   "execution_count": 126,
   "metadata": {
    "collapsed": false
   },
   "outputs": [
    {
     "data": {
      "text/plain": [
       "20-element Array{Float64,1}:\n",
       " -0.00586516\n",
       " -0.635342  \n",
       " -1.00565   \n",
       " -0.949506  \n",
       " -0.493568  \n",
       "  0.170686  \n",
       "  0.762913  \n",
       "  1.03342   \n",
       "  0.868107  \n",
       "  0.3367    \n",
       " -0.3367    \n",
       " -0.868107  \n",
       " -1.03342   \n",
       " -0.762913  \n",
       " -0.170686  \n",
       "  0.493568  \n",
       "  0.949506  \n",
       "  1.00565   \n",
       "  0.635342  \n",
       "  0.00586516"
      ]
     },
     "execution_count": 126,
     "metadata": {},
     "output_type": "execute_result"
    }
   ],
   "source": [
    "u2 = M\\F2"
   ]
  },
  {
   "cell_type": "code",
   "execution_count": 131,
   "metadata": {
    "collapsed": false
   },
   "outputs": [
    {
     "data": {
      "image/png": "[encoded data removed]",
      "text/plain": [
       "PyPlot.Figure(PyObject <matplotlib.figure.Figure object at 0x7f01861b6650>)"
      ]
     },
     "metadata": {},
     "output_type": "display_data"
    },
    {
     "data": {
      "text/plain": [
       "PyObject <matplotlib.legend.Legend object at 0x7f0185d07510>"
      ]
     },
     "execution_count": 131,
     "metadata": {},
     "output_type": "execute_result"
    }
   ],
   "source": [
    "using PyPlot\n",
    "xx = linspace(a, b, 201)\n",
    "#plot(xx, resp(xx))\n",
    "plot(xn, u, \"rs-\",label = \"u\")\n",
    "plot(xn, u2, \"bo--\",label = \"u2\")\n",
    "legend()"
   ]
  },
  {
   "cell_type": "code",
   "execution_count": 128,
   "metadata": {
    "collapsed": false
   },
   "outputs": [
    {
     "data": {
      "image/png": "[encoded data removed]",
      "text/plain": [
       "PyPlot.Figure(PyObject <matplotlib.figure.Figure object at 0x7f01861a4a10>)"
      ]
     },
     "metadata": {},
     "output_type": "display_data"
    },
    {
     "data": {
      "text/plain": [
       "PyObject <matplotlib.legend.Legend object at 0x7f0185f06c90>"
      ]
     },
     "execution_count": 128,
     "metadata": {},
     "output_type": "execute_result"
    }
   ],
   "source": [
    "e1 = u - fe\n",
    "e2 = u2 - fe\n",
    "figure()\n",
    "plot(xn, e1, \"rs-\",label=\"erro 1\")\n",
    "plot(xn, e2, \"go--\",label=\"erro 2\")\n",
    "legend()"
   ]
  },
  {
   "cell_type": "code",
   "execution_count": 129,
   "metadata": {
    "collapsed": false
   },
   "outputs": [
    {
     "data": {
      "text/plain": [
       "1.8508157176809255"
      ]
     },
     "execution_count": 129,
     "metadata": {},
     "output_type": "execute_result"
    }
   ],
   "source": [
    "sec(1)"
   ]
  },
  {
   "cell_type": "code",
   "execution_count": null,
   "metadata": {
    "collapsed": true
   },
   "outputs": [],
   "source": []
  },
  {
   "cell_type": "code",
   "execution_count": null,
   "metadata": {
    "collapsed": true
   },
   "outputs": [],
   "source": []
  }
 ],
 "metadata": {
  "kernelspec": {
   "display_name": "Julia 0.4.2",
   "language": "julia",
   "name": "julia-0.4"
  },
  "language_info": {
   "file_extension": ".jl",
   "mimetype": "application/julia",
   "name": "julia",
   "version": "0.4.2"
  }
 },
 "nbformat": 4,
 "nbformat_minor": 0
}
