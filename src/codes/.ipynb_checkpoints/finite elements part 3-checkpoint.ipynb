{
 "cells": [
  {
   "cell_type": "markdown",
   "metadata": {},
   "source": [
    "## Elementos finitos linear 1D"
   ]
  },
  {
   "cell_type": "markdown",
   "metadata": {},
   "source": [
    "## Montar a matrix de massa"
   ]
  },
  {
   "cell_type": "code",
   "execution_count": 58,
   "metadata": {
    "collapsed": true
   },
   "outputs": [],
   "source": [
    "using Jacobi"
   ]
  },
  {
   "cell_type": "markdown",
   "metadata": {},
   "source": [
    "## Funções"
   ]
  },
  {
   "cell_type": "code",
   "execution_count": 59,
   "metadata": {
    "collapsed": false
   },
   "outputs": [
    {
     "data": {
      "text/plain": [
       "remap (generic function with 1 method)"
      ]
     },
     "execution_count": 59,
     "metadata": {},
     "output_type": "execute_result"
    }
   ],
   "source": [
    "remap(x,a,b) = ((1-x)*a + (1+x)*b)/2"
   ]
  },
  {
   "cell_type": "code",
   "execution_count": 60,
   "metadata": {
    "collapsed": false
   },
   "outputs": [
    {
     "data": {
      "text/plain": [
       "ψj (generic function with 1 method)"
      ]
     },
     "execution_count": 60,
     "metadata": {},
     "output_type": "execute_result"
    }
   ],
   "source": [
    "function ψj(p,E,Q)\n",
    "    if(p == 1)\n",
    "     return  (1-E)/2\n",
    "        elseif(p == 2)\n",
    "     return  (1+E)/2\n",
    "    else\n",
    "     return  (1-E)*(1+E)/4 .* jacobi(E, p-3, 1, 1)\n",
    "    end\n",
    "end "
   ]
  },
  {
   "cell_type": "code",
   "execution_count": 61,
   "metadata": {
    "collapsed": false
   },
   "outputs": [
    {
     "data": {
      "text/plain": [
       "ϕ_matrix (generic function with 1 method)"
      ]
     },
     "execution_count": 61,
     "metadata": {},
     "output_type": "execute_result"
    }
   ],
   "source": [
    "function  ϕ_matrix(ψj,Q,M)\n",
    "    ϕ = zeros(Q,M)\n",
    "    ξ = zglj(Q)\n",
    "    for i in 1:M\n",
    "        for j in 1:Q\n",
    "            ϕ[j,i] = ψj(i,ξ[j],M)\n",
    "        end\n",
    "    end\n",
    "  return ϕ\n",
    "end"
   ]
  },
  {
   "cell_type": "code",
   "execution_count": 62,
   "metadata": {
    "collapsed": false
   },
   "outputs": [
    {
     "data": {
      "text/plain": [
       "ϕ_matrix_interp (generic function with 1 method)"
      ]
     },
     "execution_count": 62,
     "metadata": {},
     "output_type": "execute_result"
    }
   ],
   "source": [
    "function  ϕ_matrix_interp(ψj,Q,M)\n",
    "    ϕ = zeros(Q,M)\n",
    "    ξ = linspace(-1,1,Q)\n",
    "    for i in 1:M\n",
    "        for j in 1:Q\n",
    "            ϕ[j,i] = ψj(i,ξ[j],M)\n",
    "        end\n",
    "    end\n",
    "  return ϕ\n",
    "end"
   ]
  },
  {
   "cell_type": "code",
   "execution_count": 63,
   "metadata": {
    "collapsed": false
   },
   "outputs": [
    {
     "data": {
      "text/plain": [
       "Me_matrix (generic function with 1 method)"
      ]
     },
     "execution_count": 63,
     "metadata": {},
     "output_type": "execute_result"
    }
   ],
   "source": [
    "function Me_matrix(ϕ,w,M,Q,a,b)\n",
    "    L = zeros(M,M)\n",
    "    jac = (b-a)/2\n",
    "    for i in 1:M\n",
    "        for j in 1:M\n",
    "           m= 0.0\n",
    "            for q in 1:Q\n",
    "                m = m + ϕ[q,i]*ϕ[q,j]*w[q]*jac\n",
    "            end\n",
    "            L[i,j] = m\n",
    "        end\n",
    "    end\n",
    "    return L\n",
    "end"
   ]
  },
  {
   "cell_type": "markdown",
   "metadata": {},
   "source": [
    "### $ϕ$ e  matriz de massa"
   ]
  },
  {
   "cell_type": "code",
   "execution_count": 64,
   "metadata": {
    "collapsed": false
   },
   "outputs": [
    {
     "data": {
      "text/plain": [
       "7x5 Array{Float64,2}:\n",
       " -1.0       -0.6       -0.2        0.2       0.6     \n",
       " -0.966045  -0.566045  -0.166045   0.233955  0.633955\n",
       " -0.89377   -0.49377   -0.0937698  0.30623   0.70623 \n",
       " -0.8       -0.4        0.0        0.4       0.8     \n",
       " -0.70623   -0.30623    0.0937698  0.49377   0.89377 \n",
       " -0.633955  -0.233955   0.166045   0.566045  0.966045\n",
       " -0.6       -0.2        0.2        0.6       1.0     "
      ]
     },
     "execution_count": 64,
     "metadata": {},
     "output_type": "execute_result"
    }
   ],
   "source": [
    "Nel = 5\n",
    "I = 5\n",
    "nb = Nel + 1\n",
    "ni = (I-2)\n",
    "Q = I+2\n",
    "\n",
    "#indices locais\n",
    "ib = collect(1:2)\n",
    "ii = collect(3:I)\n",
    "\n",
    "#limites\n",
    "a = -1; \n",
    "b = 1;\n",
    "\n",
    "z = zglj(Q)\n",
    "w = wglj(z)\n",
    "ϕ = ϕ_matrix(ψj,Q,I);\n",
    "xn = [linspace(a,b,Nel+1);];\n",
    "X = zeros(Q,Nel)\n",
    "remap(x,a,b) = ((1-x)*a + (1+x)*b)/2\n",
    "for e in 1:Nel\n",
    "    X[:,e] = [remap(x,xn[e],xn[e+1]) for x in z]\n",
    "end\n",
    "X"
   ]
  },
  {
   "cell_type": "code",
   "execution_count": 65,
   "metadata": {
    "collapsed": false
   },
   "outputs": [
    {
     "data": {
      "text/plain": [
       "2x5 Array{Int64,2}:\n",
       " 1  2  3  4  5\n",
       " 2  3  4  5  6"
      ]
     },
     "execution_count": 65,
     "metadata": {},
     "output_type": "execute_result"
    }
   ],
   "source": [
    "\n",
    "dof_map = zeros(Int, 2, Nel)\n",
    "for i = 1:Nel\n",
    "    dof_map[1,i] = i\n",
    "    dof_map[2,i] = i+1\n",
    "end\n",
    "dof_map"
   ]
  },
  {
   "cell_type": "code",
   "execution_count": 66,
   "metadata": {
    "collapsed": true
   },
   "outputs": [],
   "source": [
    "\n",
    "using Base.LinAlg.BLAS.gemm!\n",
    "using Base.LinAlg.BLAS.gemv!\n",
    "using Base.LinAlg.LAPACK.potrf!\n",
    "using Base.LinAlg.LAPACK.potrs!"
   ]
  },
  {
   "cell_type": "markdown",
   "metadata": {},
   "source": [
    "### $ A_{bb}^* = (A_{bb} - A_{bi} A_{ii}^{-1} A_{ib})  $"
   ]
  },
  {
   "cell_type": "code",
   "execution_count": 67,
   "metadata": {
    "collapsed": false
   },
   "outputs": [],
   "source": [
    "Abb = zeros(Nel+1,Nel+1)\n",
    "M = Vector{Array{Float64,2}}(Nel)\n",
    "Mii = Vector{Array{Float64,2}}(Nel)\n",
    "for e in 1:Nel\n",
    "    Me = Me_matrix(ϕ, w, I, Q, xn[e], xn[e+1]) ;\n",
    "\n",
    "\n",
    "    \n",
    "    Mbb = Me[ib,ib]\n",
    "    Mbi = Me[ib,ii]\n",
    "    Mib = Me[ii,ib]\n",
    "    Mii[e] = Me[ii,ii]\n",
    "    \n",
    "    potrf!('L',Mii[e]); #Mii^-1\n",
    "    M[e] = copy(Mib)\n",
    "    potrs!('L',Mii[e],M[e]) # M = Mii^-1 * Mbi\n",
    "    gemm!('T', 'N', -1.0, M[e], Mib, 1.0, Mbb) # Mbb = -1*M*Mib + Mbb\n",
    "    \n",
    "    for i in 1:2\n",
    "        ig = dof_map[i,e]\n",
    "        for j in 1:2\n",
    "            jg = dof_map[j,e]\n",
    "            Abb[ig,jg] += Mbb[i,j]\n",
    "        end\n",
    "    end\n",
    "end\n",
    "\n",
    "potrf!('L',Abb);\n"
   ]
  },
  {
   "cell_type": "markdown",
   "metadata": {},
   "source": [
    "## RHS"
   ]
  },
  {
   "cell_type": "code",
   "execution_count": 68,
   "metadata": {
    "collapsed": false
   },
   "outputs": [
    {
     "data": {
      "text/plain": [
       "5x5 Array{Float64,2}:\n",
       "  0.114557    -0.164349     0.151365     -0.080565    -0.0210084 \n",
       " -0.0210084   -0.080565     0.151365     -0.164349     0.114557  \n",
       "  0.0175261   -0.045884     0.0567158    -0.045884     0.0175261 \n",
       " -0.0284294    0.0175703    8.67362e-19  -0.0175703    0.0284294 \n",
       " -0.00255244   0.00668237  -0.00825986    0.00668237  -0.00255244"
      ]
     },
     "execution_count": 68,
     "metadata": {},
     "output_type": "execute_result"
    }
   ],
   "source": [
    "fun(x) = cos(2*pi*x)\n",
    "#calcula F\n",
    "Fe = zeros(I,Nel)\n",
    "for e = 1:Nel\n",
    "    jac = (xn[e+1] - xn[e] )/2\n",
    "    for i in 1:I\n",
    "        temp = 0.0\n",
    "        for q in 1:Q\n",
    "            temp += fun(X[q,e])* ϕ[q,i] * w[q] * jac\n",
    "        end\n",
    "        Fe[i,e] = temp\n",
    "    end\n",
    "end\n",
    "Fe"
   ]
  },
  {
   "cell_type": "code",
   "execution_count": 69,
   "metadata": {
    "collapsed": false
   },
   "outputs": [],
   "source": [
    "B = Fe[:,1]\n",
    "Bb = B[ib]\n",
    "Bi = B[ii];"
   ]
  },
  {
   "cell_type": "markdown",
   "metadata": {},
   "source": [
    "### $f_b^* =f_b - A_{bi} A_{ii}^{-1} f_i$"
   ]
  },
  {
   "cell_type": "code",
   "execution_count": 70,
   "metadata": {
    "collapsed": false
   },
   "outputs": [
    {
     "data": {
      "text/plain": [
       "6-element Array{Float64,1}:\n",
       "  0.0193062\n",
       " -0.0312381\n",
       "  0.0119319\n",
       "  0.0119319\n",
       " -0.0312381\n",
       "  0.0193062"
      ]
     },
     "execution_count": 70,
     "metadata": {},
     "output_type": "execute_result"
    }
   ],
   "source": [
    "Fb = zeros(nb)\n",
    "\n",
    "for e in 1:Nel\n",
    "    fe  = Fe[:,e]\n",
    "    fb  = fe[ib]\n",
    "    fi  = fe[ii]\n",
    "    gemv!('T',-1.0,M[e],fi, 1.0, fb) #fbb = -1*M^T*fi + fb\n",
    "\n",
    "    for i in 1:2\n",
    "        ig = dof_map[i,e]\n",
    "        Fb[ig] += fb[i]\n",
    "    end\n",
    "\n",
    "end\n",
    "Fb"
   ]
  },
  {
   "cell_type": "markdown",
   "metadata": {},
   "source": [
    "# Solve   $A^*_{bb}\\ u_b =\\ f^*_b$"
   ]
  },
  {
   "cell_type": "code",
   "execution_count": 71,
   "metadata": {
    "collapsed": false
   },
   "outputs": [
    {
     "data": {
      "text/plain": [
       "6x6 Array{Float64,2}:\n",
       "  0.129099   -0.00333333   0.0          0.0          0.0          0.0       \n",
       " -0.0258199   0.180739    -0.00333333   0.0          0.0          0.0       \n",
       "  0.0        -0.0184428    0.18164     -0.00333333   0.0          0.0       \n",
       "  0.0         0.0         -0.0183513    0.18165     -0.00333333   0.0       \n",
       "  0.0         0.0          0.0         -0.0183504    0.18165     -0.00333333\n",
       "  0.0         0.0          0.0          0.0         -0.0183503    0.127789  "
      ]
     },
     "execution_count": 71,
     "metadata": {},
     "output_type": "execute_result"
    }
   ],
   "source": [
    "Abb"
   ]
  },
  {
   "cell_type": "code",
   "execution_count": 72,
   "metadata": {
    "collapsed": false
   },
   "outputs": [
    {
     "data": {
      "text/plain": [
       "6-element Array{Float64,1}:\n",
       "  0.997046\n",
       " -0.806627\n",
       "  0.308104\n",
       "  0.308104\n",
       " -0.806627\n",
       "  0.997046"
      ]
     },
     "execution_count": 72,
     "metadata": {},
     "output_type": "execute_result"
    }
   ],
   "source": [
    "Ue = zeros(I,Nel)\n",
    "\n",
    "potrs!('L',Abb,Fb)\n",
    "Ub = Fb\n"
   ]
  },
  {
   "cell_type": "markdown",
   "metadata": {},
   "source": [
    "### $u_i = A_{ii}^{-1}f_i - A_{ii}^{-1} A_{bi}^t u_b$"
   ]
  },
  {
   "cell_type": "code",
   "execution_count": 73,
   "metadata": {
    "collapsed": false
   },
   "outputs": [
    {
     "data": {
      "text/plain": [
       "5x5 Array{Float64,2}:\n",
       "  0.997046   -0.806627   0.308104     0.308104  -0.806627 \n",
       " -0.806627    0.308104   0.308104    -0.806627   0.997046 \n",
       "  0.83182    -2.17773    2.69183     -2.17773    0.83182  \n",
       " -0.574926    0.355324  -1.9984e-15  -0.355324   0.574926 \n",
       " -0.0307666   0.080548  -0.0995628    0.080548  -0.0307666"
      ]
     },
     "execution_count": 73,
     "metadata": {},
     "output_type": "execute_result"
    }
   ],
   "source": [
    "U = zeros(I,Nel)\n",
    "for e in 1:Nel\n",
    "    ub  = Ub[vec(dof_map[:,e])]\n",
    "    fe  = Fe[:,e]\n",
    "    fi  = fe[ii]\n",
    "\n",
    "    potrs!('L',Mii[e],fi)\n",
    "    gemv!('N',-1.0,M[e],ub,1.0,fi) #fi = -1*M*ub + fi\n",
    "    \n",
    "    U[ib,e]= ub\n",
    "    U[ii,e] = fi\n",
    "end\n",
    "U"
   ]
  },
  {
   "cell_type": "code",
   "execution_count": 74,
   "metadata": {
    "collapsed": false
   },
   "outputs": [
    {
     "data": {
      "text/plain": [
       "7x5 Array{Float64,2}:\n",
       "  0.997046  -0.806627  0.308104   0.308104  -0.806627\n",
       "  0.978326  -0.915522  0.50302    0.101618  -0.667442\n",
       "  0.784981  -0.999157  0.831689  -0.346544  -0.270969\n",
       "  0.308933  -0.808798  0.999729  -0.808798   0.308933\n",
       " -0.270969  -0.346544  0.831689  -0.999157   0.784981\n",
       " -0.667442   0.101618  0.50302   -0.915522   0.978326\n",
       " -0.806627   0.308104  0.308104  -0.806627   0.997046"
      ]
     },
     "execution_count": 74,
     "metadata": {},
     "output_type": "execute_result"
    }
   ],
   "source": [
    "Uh = zeros(Q,Nel)\n",
    "for e in 1:Nel\n",
    "    Uh[:,e] = ϕ*U[:,e]\n",
    "end\n",
    "Uh"
   ]
  },
  {
   "cell_type": "code",
   "execution_count": 75,
   "metadata": {
    "collapsed": true
   },
   "outputs": [],
   "source": [
    "using PyPlot"
   ]
  },
  {
   "cell_type": "code",
   "execution_count": 76,
   "metadata": {
    "collapsed": false
   },
   "outputs": [
    {
     "data": {
      "image/png": "[encoded data removed]",
      "text/plain": [
       "PyPlot.Figure(PyObject <matplotlib.figure.Figure object at 0x7ff4dda3bf90>)"
      ]
     },
     "metadata": {},
     "output_type": "display_data"
    }
   ],
   "source": [
    "for e in 1:Nel\n",
    "    plot(X[:,e],Uh[:,e])\n",
    "    plot(X[:,e],fun(X[:,e]),\"o\")\n",
    "#    legend()\n",
    "end\n"
   ]
  }
 ],
 "metadata": {
  "kernelspec": {
   "display_name": "Julia 0.4.2",
   "language": "julia",
   "name": "julia-0.4"
  },
  "language_info": {
   "file_extension": ".jl",
   "mimetype": "application/julia",
   "name": "julia",
   "version": "0.4.2"
  }
 },
 "nbformat": 4,
 "nbformat_minor": 0
}
