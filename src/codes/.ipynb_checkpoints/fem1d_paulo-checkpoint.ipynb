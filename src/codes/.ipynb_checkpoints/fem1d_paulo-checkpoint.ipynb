{
 "cells": [
  {
   "cell_type": "markdown",
   "metadata": {},
   "source": [
    "## Elementos finitos linear 1D"
   ]
  },
  {
   "cell_type": "markdown",
   "metadata": {},
   "source": [
    "## Montar a matrix de massa"
   ]
  },
  {
   "cell_type": "code",
   "execution_count": 175,
   "metadata": {
    "collapsed": false
   },
   "outputs": [
    {
     "data": {
      "text/plain": [
       "stiff_matrix (generic function with 1 method)"
      ]
     },
     "execution_count": 175,
     "metadata": {},
     "output_type": "execute_result"
    }
   ],
   "source": [
    "ϕ₁(x, a, b)  = (b-x)/(b-a)\n",
    "ϕ₂(x, a, b)  = (x-a)/(b-a)\n",
    "dϕ₁(x, a, b)  = 1/(a-b)\n",
    "dϕ₂(x, a, b)  = 1/(b-a)\n",
    "mass_matrix(a, b) = [(b-a)/3 (b-a)/6; (b-a)/6 (b-a)/3]\n",
    "stiff_matrix(a, b)= [1/(b-a) -1/(b-a);-1/(b-a) 1/(b-a) ]"
   ]
  },
  {
   "cell_type": "code",
   "execution_count": 176,
   "metadata": {
    "collapsed": false
   },
   "outputs": [
    {
     "data": {
      "text/plain": [
       "2x2 Array{Float64,2}:\n",
       " 0.666667  0.333333\n",
       " 0.333333  0.666667"
      ]
     },
     "execution_count": 176,
     "metadata": {},
     "output_type": "execute_result"
    }
   ],
   "source": [
    "mass_matrix(-1,1)"
   ]
  },
  {
   "cell_type": "code",
   "execution_count": 177,
   "metadata": {
    "collapsed": false
   },
   "outputs": [
    {
     "data": {
      "text/plain": [
       "2x2 Array{Float64,2}:\n",
       "  1.0  -1.0\n",
       " -1.0   1.0"
      ]
     },
     "execution_count": 177,
     "metadata": {},
     "output_type": "execute_result"
    }
   ],
   "source": [
    "stiff_matrix(0,1)"
   ]
  },
  {
   "cell_type": "code",
   "execution_count": 178,
   "metadata": {
    "collapsed": false
   },
   "outputs": [
    {
     "data": {
      "image/png": "[encoded data removed]",
      "text/plain": [
       "PyPlot.Figure(PyObject <matplotlib.figure.Figure object at 0x7efa6d1faa10>)"
      ]
     },
     "metadata": {},
     "output_type": "display_data"
    },
    {
     "data": {
      "text/plain": [
       "1-element Array{Any,1}:\n",
       " PyObject <matplotlib.lines.Line2D object at 0x7efa6c7ff390>"
      ]
     },
     "execution_count": 178,
     "metadata": {},
     "output_type": "execute_result"
    }
   ],
   "source": [
    "x = linspace(-1,1,101)\n",
    "y1=[ϕ₁(x,-1,1) for x in linspace(-1,1,101)]\n",
    "plot(x,y1)"
   ]
  },
  {
   "cell_type": "code",
   "execution_count": 179,
   "metadata": {
    "collapsed": false
   },
   "outputs": [
    {
     "data": {
      "text/plain": [
       "2x2 Array{Float64,2}:\n",
       " 0.666667  0.333333\n",
       " 0.333333  0.666667"
      ]
     },
     "execution_count": 179,
     "metadata": {},
     "output_type": "execute_result"
    }
   ],
   "source": [
    "mass_matrix(-1,1)"
   ]
  },
  {
   "cell_type": "code",
   "execution_count": 180,
   "metadata": {
    "collapsed": false
   },
   "outputs": [
    {
     "data": {
      "text/plain": [
       "2x2 Array{Float64,2}:\n",
       " 0.333333  0.166667\n",
       " 0.166667  0.333333"
      ]
     },
     "execution_count": 180,
     "metadata": {},
     "output_type": "execute_result"
    }
   ],
   "source": [
    "mass_matrix(0,1)"
   ]
  },
  {
   "cell_type": "code",
   "execution_count": 192,
   "metadata": {
    "collapsed": false
   },
   "outputs": [],
   "source": [
    "Nel = 50\n",
    "a = -1.0\n",
    "b = 1.0\n",
    "Ndof = Nel + 1\n",
    "xn = [linspace(a,b,Nel+1);];\n"
   ]
  },
  {
   "cell_type": "code",
   "execution_count": 193,
   "metadata": {
    "collapsed": false
   },
   "outputs": [
    {
     "data": {
      "text/plain": [
       "2x50 Array{Int64,2}:\n",
       " 1  2  3  4  5  6  7  8   9  10  11  …  42  43  44  45  46  47  48  49  50\n",
       " 2  3  4  5  6  7  8  9  10  11  12     43  44  45  46  47  48  49  50  51"
      ]
     },
     "execution_count": 193,
     "metadata": {},
     "output_type": "execute_result"
    }
   ],
   "source": [
    "Nel = size(xn,1)-1\n",
    "dof_map = zeros(Int, 2, Nel)\n",
    "for i = 1:Nel\n",
    "    dof_map[1,i] = i\n",
    "    dof_map[2,i] = i+1\n",
    "end\n",
    "dof_map"
   ]
  },
  {
   "cell_type": "code",
   "execution_count": 194,
   "metadata": {
    "collapsed": false
   },
   "outputs": [
    {
     "data": {
      "text/plain": [
       "49x49 Array{Float64,2}:\n",
       " -49.9733   25.0067    0.0       0.0     …    0.0       0.0       0.0   \n",
       "  25.0067  -49.9733   25.0067    0.0          0.0       0.0       0.0   \n",
       "   0.0      25.0067  -49.9733   25.0067       0.0       0.0       0.0   \n",
       "   0.0       0.0      25.0067  -49.9733       0.0       0.0       0.0   \n",
       "   0.0       0.0       0.0      25.0067       0.0       0.0       0.0   \n",
       "   0.0       0.0       0.0       0.0     …    0.0       0.0       0.0   \n",
       "   0.0       0.0       0.0       0.0          0.0       0.0       0.0   \n",
       "   0.0       0.0       0.0       0.0          0.0       0.0       0.0   \n",
       "   0.0       0.0       0.0       0.0          0.0       0.0       0.0   \n",
       "   0.0       0.0       0.0       0.0          0.0       0.0       0.0   \n",
       "   0.0       0.0       0.0       0.0     …    0.0       0.0       0.0   \n",
       "   0.0       0.0       0.0       0.0          0.0       0.0       0.0   \n",
       "   0.0       0.0       0.0       0.0          0.0       0.0       0.0   \n",
       "   ⋮                                     ⋱                              \n",
       "   0.0       0.0       0.0       0.0          0.0       0.0       0.0   \n",
       "   0.0       0.0       0.0       0.0          0.0       0.0       0.0   \n",
       "   0.0       0.0       0.0       0.0          0.0       0.0       0.0   \n",
       "   0.0       0.0       0.0       0.0     …    0.0       0.0       0.0   \n",
       "   0.0       0.0       0.0       0.0          0.0       0.0       0.0   \n",
       "   0.0       0.0       0.0       0.0          0.0       0.0       0.0   \n",
       "   0.0       0.0       0.0       0.0          0.0       0.0       0.0   \n",
       "   0.0       0.0       0.0       0.0          0.0       0.0       0.0   \n",
       "   0.0       0.0       0.0       0.0     …   25.0067    0.0       0.0   \n",
       "   0.0       0.0       0.0       0.0        -49.9733   25.0067    0.0   \n",
       "   0.0       0.0       0.0       0.0         25.0067  -49.9733   25.0067\n",
       "   0.0       0.0       0.0       0.0          0.0      25.0067  -49.9733"
      ]
     },
     "execution_count": 194,
     "metadata": {},
     "output_type": "execute_result"
    }
   ],
   "source": [
    "M = zeros(Ndof, Ndof)\n",
    "\n",
    "for e = 1:Nel\n",
    "    Me = mass_matrix(xn[e], xn[e+1])\n",
    "    for i = 1:2\n",
    "        ig = dof_map[i,e]\n",
    "        for k = 1:2\n",
    "            kg = dof_map[k,e]\n",
    "            M[kg,ig] += Me[k,i]\n",
    "        end\n",
    "    end\n",
    "end\n",
    "M\n",
    "\n",
    "dM = zeros(Ndof, Ndof)\n",
    "\n",
    "for e = 1:Nel\n",
    "    dMe = stiff_matrix(xn[e], xn[e+1])\n",
    "    for i = 1:2\n",
    "        ig = dof_map[i,e]\n",
    "        for k = 1:2\n",
    "            kg = dof_map[k,e]\n",
    "            dM[kg,ig] += dMe[k,i]\n",
    "        end\n",
    "    end\n",
    "end\n",
    "dM\n",
    "idx = 2:(Ndof-1)\n",
    "dM = (-dM + M)[idx,idx]\n",
    "            "
   ]
  },
  {
   "cell_type": "code",
   "execution_count": null,
   "metadata": {
    "collapsed": true
   },
   "outputs": [],
   "source": []
  },
  {
   "cell_type": "code",
   "execution_count": null,
   "metadata": {
    "collapsed": true
   },
   "outputs": [],
   "source": []
  },
  {
   "cell_type": "markdown",
   "metadata": {},
   "source": [
    "## Montar o lado direito da equação:"
   ]
  },
  {
   "cell_type": "code",
   "execution_count": 195,
   "metadata": {
    "collapsed": false
   },
   "outputs": [
    {
     "data": {
      "text/plain": [
       "resp (generic function with 1 method)"
      ]
     },
     "execution_count": 195,
     "metadata": {},
     "output_type": "execute_result"
    }
   ],
   "source": [
    "#wolfram problem : y'' + y = -4*pi^2*cos(2*pi*x) + cos(2*pi*x),y'(-1) = 0,y'(1)=0\n",
    "fun(x) = (1.0 - 4*pi^2)*sin(2*pi*x) \n",
    "resp(x) = sin(2*pi*x)\n"
   ]
  },
  {
   "cell_type": "code",
   "execution_count": 196,
   "metadata": {
    "collapsed": false
   },
   "outputs": [
    {
     "data": {
      "text/plain": [
       "51-element Array{Float64,1}:\n",
       "  -9.42449e-15\n",
       "  -9.56919    \n",
       " -18.5371     \n",
       " -26.3403     \n",
       " -32.4884     \n",
       " -36.5951     \n",
       " -38.4025     \n",
       " -37.7969     \n",
       " -34.8163     \n",
       " -29.6481     \n",
       " -22.617      \n",
       " -14.1649     \n",
       "  -4.82262    \n",
       "   ⋮          \n",
       "  14.1649     \n",
       "  22.617      \n",
       "  29.6481     \n",
       "  34.8163     \n",
       "  37.7969     \n",
       "  38.4025     \n",
       "  36.5951     \n",
       "  32.4884     \n",
       "  26.3403     \n",
       "  18.5371     \n",
       "   9.56919    \n",
       "   9.42449e-15"
      ]
     },
     "execution_count": 196,
     "metadata": {},
     "output_type": "execute_result"
    }
   ],
   "source": [
    "fe = fun(xn)"
   ]
  },
  {
   "cell_type": "code",
   "execution_count": 205,
   "metadata": {
    "collapsed": false
   },
   "outputs": [
    {
     "data": {
      "text/plain": [
       "49-element Array{Float64,1}:\n",
       " -0.378759\n",
       " -0.73372 \n",
       " -1.04258 \n",
       " -1.28593 \n",
       " -1.44848 \n",
       " -1.52001 \n",
       " -1.49604 \n",
       " -1.37807 \n",
       " -1.17351 \n",
       " -0.895208\n",
       " -0.56066 \n",
       " -0.190885\n",
       "  0.190885\n",
       "  ⋮       \n",
       "  0.190885\n",
       "  0.56066 \n",
       "  0.895208\n",
       "  1.17351 \n",
       "  1.37807 \n",
       "  1.49604 \n",
       "  1.52001 \n",
       "  1.44848 \n",
       "  1.28593 \n",
       "  1.04258 \n",
       "  0.73372 \n",
       "  0.378759"
      ]
     },
     "execution_count": 205,
     "metadata": {},
     "output_type": "execute_result"
    }
   ],
   "source": [
    "F = zeros(Ndof)\n",
    "for e = 1:Nel\n",
    "    Me = mass_matrix(xn[e], xn[e+1])\n",
    "    Fe = Me * fun(xn[e:(e+1)])\n",
    "    for i = 1:2\n",
    "        ig = dof_map[i,e]\n",
    "        F[ig] += Fe[i]\n",
    "    end\n",
    "end\n",
    "        \n",
    "F = F[idx]\n"
   ]
  },
  {
   "cell_type": "markdown",
   "metadata": {},
   "source": [
    "## Solução do problema"
   ]
  },
  {
   "cell_type": "code",
   "execution_count": 198,
   "metadata": {
    "collapsed": false
   },
   "outputs": [
    {
     "data": {
      "text/plain": [
       "49-element Array{Float64,1}:\n",
       "  0.247351\n",
       "  0.479161\n",
       "  0.680862\n",
       "  0.839783\n",
       "  0.945937\n",
       "  0.992655\n",
       "  0.977   \n",
       "  0.899957\n",
       "  0.766366\n",
       "  0.584621\n",
       "  0.366143\n",
       "  0.124659\n",
       " -0.124659\n",
       "  ⋮       \n",
       " -0.124659\n",
       " -0.366143\n",
       " -0.584621\n",
       " -0.766366\n",
       " -0.899957\n",
       " -0.977   \n",
       " -0.992655\n",
       " -0.945937\n",
       " -0.839783\n",
       " -0.680862\n",
       " -0.479161\n",
       " -0.247351"
      ]
     },
     "execution_count": 198,
     "metadata": {},
     "output_type": "execute_result"
    }
   ],
   "source": [
    "u = dM\\F"
   ]
  },
  {
   "cell_type": "code",
   "execution_count": 199,
   "metadata": {
    "collapsed": false
   },
   "outputs": [
    {
     "data": {
      "text/plain": [
       "51-element Array{Float64,1}:\n",
       "  0.0     \n",
       "  0.247351\n",
       "  0.479161\n",
       "  0.680862\n",
       "  0.839783\n",
       "  0.945937\n",
       "  0.992655\n",
       "  0.977   \n",
       "  0.899957\n",
       "  0.766366\n",
       "  0.584621\n",
       "  0.366143\n",
       "  0.124659\n",
       "  ⋮       \n",
       " -0.366143\n",
       " -0.584621\n",
       " -0.766366\n",
       " -0.899957\n",
       " -0.977   \n",
       " -0.992655\n",
       " -0.945937\n",
       " -0.839783\n",
       " -0.680862\n",
       " -0.479161\n",
       " -0.247351\n",
       "  0.0     "
      ]
     },
     "execution_count": 199,
     "metadata": {},
     "output_type": "execute_result"
    }
   ],
   "source": [
    "u = [0.0; u; 0.0]"
   ]
  },
  {
   "cell_type": "code",
   "execution_count": 200,
   "metadata": {
    "collapsed": false
   },
   "outputs": [
    {
     "data": {
      "image/png": "[encoded data removed]",
      "text/plain": [
       "PyPlot.Figure(PyObject <matplotlib.figure.Figure object at 0x7efa6cfa8f10>)"
      ]
     },
     "metadata": {},
     "output_type": "display_data"
    },
    {
     "data": {
      "text/plain": [
       "51-element Array{Float64,1}:\n",
       "  0.0     \n",
       "  0.247351\n",
       "  0.479161\n",
       "  0.680862\n",
       "  0.839783\n",
       "  0.945937\n",
       "  0.992655\n",
       "  0.977   \n",
       "  0.899957\n",
       "  0.766366\n",
       "  0.584621\n",
       "  0.366143\n",
       "  0.124659\n",
       "  ⋮       \n",
       " -0.366143\n",
       " -0.584621\n",
       " -0.766366\n",
       " -0.899957\n",
       " -0.977   \n",
       " -0.992655\n",
       " -0.945937\n",
       " -0.839783\n",
       " -0.680862\n",
       " -0.479161\n",
       " -0.247351\n",
       "  0.0     "
      ]
     },
     "execution_count": 200,
     "metadata": {},
     "output_type": "execute_result"
    }
   ],
   "source": [
    "using PyPlot\n",
    "xx = linspace(a, b, 201)\n",
    "plot(xx, resp(xx))\n",
    "plot(xn, u, \"rs-\",label = \"u\")\n",
    "legend()\n",
    "u"
   ]
  },
  {
   "cell_type": "code",
   "execution_count": 201,
   "metadata": {
    "collapsed": false
   },
   "outputs": [
    {
     "data": {
      "text/plain": [
       "0.5877852522924731"
      ]
     },
     "execution_count": 201,
     "metadata": {},
     "output_type": "execute_result"
    }
   ],
   "source": [
    "resp(0.1)"
   ]
  },
  {
   "cell_type": "code",
   "execution_count": 204,
   "metadata": {
    "collapsed": false
   },
   "outputs": [
    {
     "data": {
      "image/png": "[encoded data removed]",
      "text/plain": [
       "PyPlot.Figure(PyObject <matplotlib.figure.Figure object at 0x7efa6c74c4d0>)"
      ]
     },
     "metadata": {},
     "output_type": "display_data"
    },
    {
     "data": {
      "text/plain": [
       "PyObject <matplotlib.legend.Legend object at 0x7efa6c541610>"
      ]
     },
     "execution_count": 204,
     "metadata": {},
     "output_type": "execute_result"
    }
   ],
   "source": [
    "e1 = u - resp(xn)\n",
    "figure()\n",
    "plot(xn, e1, \"rs-\",label=\"erro 1\")\n",
    "legend()"
   ]
  },
  {
   "cell_type": "code",
   "execution_count": null,
   "metadata": {
    "collapsed": false
   },
   "outputs": [],
   "source": []
  },
  {
   "cell_type": "code",
   "execution_count": null,
   "metadata": {
    "collapsed": true
   },
   "outputs": [],
   "source": []
  },
  {
   "cell_type": "code",
   "execution_count": null,
   "metadata": {
    "collapsed": true
   },
   "outputs": [],
   "source": []
  },
  {
   "cell_type": "code",
   "execution_count": null,
   "metadata": {
    "collapsed": true
   },
   "outputs": [],
   "source": []
  }
 ],
 "metadata": {
  "kernelspec": {
   "display_name": "Julia 0.4.2",
   "language": "julia",
   "name": "julia-0.4"
  },
  "language_info": {
   "file_extension": ".jl",
   "mimetype": "application/julia",
   "name": "julia",
   "version": "0.4.2"
  }
 },
 "nbformat": 4,
 "nbformat_minor": 0
}
