{
 "cells": [
  {
   "cell_type": "code",
   "execution_count": 270,
   "metadata": {
    "collapsed": false
   },
   "outputs": [],
   "source": [
    "include(\"biblioteca.jl\")\n",
    "using PyPlot"
   ]
  },
  {
   "cell_type": "code",
   "execution_count": 271,
   "metadata": {
    "collapsed": false
   },
   "outputs": [
    {
     "data": {
      "text/plain": [
       "ϕ_matrix (generic function with 1 method)"
      ]
     },
     "execution_count": 271,
     "metadata": {},
     "output_type": "execute_result"
    }
   ],
   "source": [
    "function  ϕ_matrix(ψ,Q,M)\n",
    "    ϕ = zeros(Q,M)\n",
    "    ξ = zgj(Q)\n",
    "    w = wgj(ξ,0.,0.)\n",
    "    for i in 1:M\n",
    "        for j in 1:Q\n",
    "            ϕ[j,i] = ψ(i,ξ[j],Q)\n",
    "        end\n",
    "    end\n",
    "  return ϕ\n",
    "end"
   ]
  },
  {
   "cell_type": "code",
   "execution_count": 272,
   "metadata": {
    "collapsed": false
   },
   "outputs": [
    {
     "data": {
      "text/plain": [
       "Mass_matrix (generic function with 2 methods)"
      ]
     },
     "execution_count": 272,
     "metadata": {},
     "output_type": "execute_result"
    }
   ],
   "source": [
    "function Mass_matrix(ϕ,w,Q,M)\n",
    "    M = zeros(Q,Q)\n",
    "for i in 1:Q\n",
    "    for j in i:Q\n",
    "       m= 0.0\n",
    "        for q in 1:Q\n",
    "            m = m + ϕ[q,i]*ϕ[q,j]*w[q]\n",
    "        end\n",
    "        M[i,j] = m\n",
    "        M[j,i] = m\n",
    "    end\n",
    "end\n",
    "M\n",
    "end"
   ]
  },
  {
   "cell_type": "code",
   "execution_count": 273,
   "metadata": {
    "collapsed": false
   },
   "outputs": [
    {
     "data": {
      "text/plain": [
       "ψj (generic function with 1 method)"
      ]
     },
     "execution_count": 273,
     "metadata": {},
     "output_type": "execute_result"
    }
   ],
   "source": [
    "function ψj(p,E,Q)\n",
    "    if(p == 1)\n",
    "     return  (1-E)/2\n",
    "        elseif(p == 2)\n",
    "     return  (1+E)/2\n",
    "    else\n",
    "     return  (1-E)*(1+E)/4 * jacobi(E, p-3, 1, 1)\n",
    "    end\n",
    "end "
   ]
  },
  {
   "cell_type": "code",
   "execution_count": 274,
   "metadata": {
    "collapsed": false
   },
   "outputs": [],
   "source": [
    "#######################\n",
    "fun(x) = sin(pi*x)\n",
    "#######################\n",
    "Q = 10\n",
    "I = 15\n",
    "ϕ = zeros(Q,I)\n",
    "ξ = zgj(Q)\n",
    "w = wgj(ξ,0.,0.)\n",
    "for i in 1:I\n",
    "    for j in 1:Q\n",
    "        ϕ[j,i] = ψj(i,ξ[j],Q)\n",
    "    end\n",
    "end\n",
    "#plot(ξ,ϕ[:,4])\n"
   ]
  },
  {
   "cell_type": "code",
   "execution_count": 275,
   "metadata": {
    "collapsed": true
   },
   "outputs": [],
   "source": [
    "M = zeros(I,I)\n",
    "for i in 1:I\n",
    "    for j in i:I\n",
    "       m= 0.0\n",
    "        for q in 1:Q\n",
    "            m = m + ϕ[q,i]*ϕ[q,j]*w[q]\n",
    "        end\n",
    "        M[i,j] = m\n",
    "        M[j,i] = m\n",
    "    end\n",
    "end"
   ]
  },
  {
   "cell_type": "code",
   "execution_count": 276,
   "metadata": {
    "collapsed": false
   },
   "outputs": [
    {
     "data": {
      "text/plain": [
       "15-element Array{Float64,1}:\n",
       " -0.31831    \n",
       "  0.31831    \n",
       " -7.46744e-18\n",
       "  0.193509   \n",
       "  3.33392e-18\n",
       " -0.0823994  \n",
       " -1.89735e-18\n",
       "  0.00971304 \n",
       "  1.51788e-18\n",
       " -0.000539409\n",
       "  5.42101e-19\n",
       "  3.34043e-5 \n",
       "  2.1684e-19 \n",
       " -0.0004138  \n",
       "  1.35525e-19"
      ]
     },
     "execution_count": 276,
     "metadata": {},
     "output_type": "execute_result"
    }
   ],
   "source": [
    "fr = zeros(I)\n",
    "for i in 1:I\n",
    "    temp = 0.0\n",
    "    for q in 1:Q\n",
    "        temp = temp + fun(ξ[q])*ϕ[q,i]*w[q]\n",
    "    end\n",
    "    fr[i]= temp\n",
    "end\n",
    "fr"
   ]
  },
  {
   "cell_type": "code",
   "execution_count": 279,
   "metadata": {
    "collapsed": false
   },
   "outputs": [
    {
     "data": {
      "text/plain": [
       "10-element Array{Float64,1}:\n",
       " -0.00817275\n",
       " -0.239271  \n",
       " -0.267145  \n",
       " -1.09403   \n",
       " -0.7978    \n",
       "  0.467624  \n",
       "  1.3696    \n",
       "  0.0314372 \n",
       "  0.519689  \n",
       "  0.524243  "
      ]
     },
     "execution_count": 279,
     "metadata": {},
     "output_type": "execute_result"
    }
   ],
   "source": [
    "uh = solver_beta(M,fr,0)\n",
    "uq = ϕ*uh"
   ]
  },
  {
   "cell_type": "code",
   "execution_count": 280,
   "metadata": {
    "collapsed": false
   },
   "outputs": [
    {
     "data": {
      "image/png": "[encoded data removed]",
      "text/plain": [
       "PyPlot.Figure(PyObject <matplotlib.figure.Figure object at 0x7f10ec4228d0>)"
      ]
     },
     "metadata": {},
     "output_type": "display_data"
    },
    {
     "data": {
      "text/plain": [
       "0.5781750975953474"
      ]
     },
     "execution_count": 280,
     "metadata": {},
     "output_type": "execute_result"
    }
   ],
   "source": [
    "ue = [fun(i) for i in ξ] \n",
    "erro = uq - ue\n",
    "plot(ξ,uq,\"-s\",label= \"aprox\")\n",
    "plot(ξ,ue,label=\"exata\")\n",
    "legend()\n",
    "\n",
    "maximum(erro)"
   ]
  },
  {
   "cell_type": "code",
   "execution_count": null,
   "metadata": {
    "collapsed": true
   },
   "outputs": [],
   "source": []
  }
 ],
 "metadata": {
  "kernelspec": {
   "display_name": "Julia 0.4.2",
   "language": "julia",
   "name": "julia-0.4"
  },
  "language_info": {
   "file_extension": ".jl",
   "mimetype": "application/julia",
   "name": "julia",
   "version": "0.4.2"
  }
 },
 "nbformat": 4,
 "nbformat_minor": 0
}
