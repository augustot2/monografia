{
 "cells": [
  {
   "cell_type": "markdown",
   "metadata": {},
   "source": [
    "## Elementos finitos linear 1D"
   ]
  },
  {
   "cell_type": "markdown",
   "metadata": {},
   "source": [
    "## Montar a matrix de massa"
   ]
  },
  {
   "cell_type": "code",
   "execution_count": 163,
   "metadata": {
    "collapsed": true
   },
   "outputs": [],
   "source": [
    "using Jacobi"
   ]
  },
  {
   "cell_type": "markdown",
   "metadata": {},
   "source": [
    "## Funções"
   ]
  },
  {
   "cell_type": "code",
   "execution_count": 164,
   "metadata": {
    "collapsed": false
   },
   "outputs": [
    {
     "data": {
      "text/plain": [
       "remap (generic function with 1 method)"
      ]
     },
     "execution_count": 164,
     "metadata": {},
     "output_type": "execute_result"
    }
   ],
   "source": [
    "remap(x,a,b) = ((1-x)*a + (1+x)*b)/2"
   ]
  },
  {
   "cell_type": "code",
   "execution_count": 165,
   "metadata": {
    "collapsed": false
   },
   "outputs": [
    {
     "data": {
      "text/plain": [
       "ψj (generic function with 1 method)"
      ]
     },
     "execution_count": 165,
     "metadata": {},
     "output_type": "execute_result"
    }
   ],
   "source": [
    "function ψj(p,E,Q)\n",
    "    if(p == 1)\n",
    "     return  (1-E)/2\n",
    "        elseif(p == 2)\n",
    "     return  (1+E)/2\n",
    "    else\n",
    "     return  (1-E)*(1+E)/4 .* jacobi(E, p-3, 1, 1)\n",
    "    end\n",
    "end "
   ]
  },
  {
   "cell_type": "code",
   "execution_count": 166,
   "metadata": {
    "collapsed": false
   },
   "outputs": [
    {
     "data": {
      "text/plain": [
       "ϕ_matrix (generic function with 1 method)"
      ]
     },
     "execution_count": 166,
     "metadata": {},
     "output_type": "execute_result"
    }
   ],
   "source": [
    "function  ϕ_matrix(ψj,Q,M)\n",
    "    ϕ = zeros(Q,M)\n",
    "    ξ = zglj(Q)\n",
    "    for i in 1:M\n",
    "        for j in 1:Q\n",
    "            ϕ[j,i] = ψj(i,ξ[j],M)\n",
    "        end\n",
    "    end\n",
    "  return ϕ\n",
    "end"
   ]
  },
  {
   "cell_type": "code",
   "execution_count": 167,
   "metadata": {
    "collapsed": false
   },
   "outputs": [
    {
     "data": {
      "text/plain": [
       "ϕ_matrix_interp (generic function with 1 method)"
      ]
     },
     "execution_count": 167,
     "metadata": {},
     "output_type": "execute_result"
    }
   ],
   "source": [
    "function  ϕ_matrix_interp(ψj,Q,M)\n",
    "    ϕ = zeros(Q,M)\n",
    "    ξ = linspace(-1,1,Q)\n",
    "    for i in 1:M\n",
    "        for j in 1:Q\n",
    "            ϕ[j,i] = ψj(i,ξ[j],M)\n",
    "        end\n",
    "    end\n",
    "  return ϕ\n",
    "end"
   ]
  },
  {
   "cell_type": "code",
   "execution_count": 168,
   "metadata": {
    "collapsed": false
   },
   "outputs": [
    {
     "data": {
      "text/plain": [
       "Me_matrix (generic function with 1 method)"
      ]
     },
     "execution_count": 168,
     "metadata": {},
     "output_type": "execute_result"
    }
   ],
   "source": [
    "function Me_matrix(ϕ,w,M,Q,a,b)\n",
    "    L = zeros(M,M)\n",
    "    jac = (b-a)/2\n",
    "    for i in 1:M\n",
    "        for j in 1:M\n",
    "           m= 0.0\n",
    "            for q in 1:Q\n",
    "                m = m + ϕ[q,i]*ϕ[q,j]*w[q]*jac\n",
    "            end\n",
    "            L[i,j] = m\n",
    "        end\n",
    "    end\n",
    "    return L\n",
    "end"
   ]
  },
  {
   "cell_type": "markdown",
   "metadata": {},
   "source": [
    "### $ϕ$ e  matriz de massa"
   ]
  },
  {
   "cell_type": "code",
   "execution_count": 169,
   "metadata": {
    "collapsed": false
   },
   "outputs": [
    {
     "data": {
      "text/plain": [
       "6x80 Array{Float64,2}:\n",
       " -1.0       -0.975     -0.95      -0.925     …  0.925     0.95      0.975   \n",
       " -0.997063  -0.972063  -0.947063  -0.922063     0.927937  0.952937  0.977937\n",
       " -0.991065  -0.966065  -0.941065  -0.916065     0.933935  0.958935  0.983935\n",
       " -0.983935  -0.958935  -0.933935  -0.908935     0.941065  0.966065  0.991065\n",
       " -0.977937  -0.952937  -0.927937  -0.902937     0.947063  0.972063  0.997063\n",
       " -0.975     -0.95      -0.925     -0.9       …  0.95      0.975     1.0     "
      ]
     },
     "execution_count": 169,
     "metadata": {},
     "output_type": "execute_result"
    }
   ],
   "source": [
    "Nel = 80\n",
    "I = 4\n",
    "nb = Nel + 1\n",
    "ni = (I-2)\n",
    "Q = I+2\n",
    "\n",
    "#indices locais\n",
    "ib = collect(1:2)\n",
    "ii = collect(3:I)\n",
    "\n",
    "#limites\n",
    "a = -1; \n",
    "b = 1;\n",
    "\n",
    "z = zglj(Q)\n",
    "w = wglj(z)\n",
    "ϕ = ϕ_matrix(ψj,Q,I);\n",
    "xn = [linspace(a,b,Nel+1);];\n",
    "X = zeros(Q,Nel)\n",
    "remap(x,a,b) = ((1-x)*a + (1+x)*b)/2\n",
    "for e in 1:Nel\n",
    "    X[:,e] = [remap(x,xn[e],xn[e+1]) for x in z]\n",
    "end\n",
    "X"
   ]
  },
  {
   "cell_type": "code",
   "execution_count": 170,
   "metadata": {
    "collapsed": false
   },
   "outputs": [
    {
     "data": {
      "text/plain": [
       "2x80 Array{Int64,2}:\n",
       " 1  2  3  4  5  6  7  8   9  10  11  …  72  73  74  75  76  77  78  79  80\n",
       " 2  3  4  5  6  7  8  9  10  11  12     73  74  75  76  77  78  79  80  81"
      ]
     },
     "execution_count": 170,
     "metadata": {},
     "output_type": "execute_result"
    }
   ],
   "source": [
    "\n",
    "dof_map = zeros(Int, 2, Nel)\n",
    "for i = 1:Nel\n",
    "    dof_map[1,i] = i\n",
    "    dof_map[2,i] = i+1\n",
    "end\n",
    "dof_map"
   ]
  },
  {
   "cell_type": "code",
   "execution_count": 171,
   "metadata": {
    "collapsed": true
   },
   "outputs": [],
   "source": [
    "\n",
    "using Base.LinAlg.BLAS.gemm!\n",
    "using Base.LinAlg.BLAS.gemv!\n",
    "using Base.LinAlg.LAPACK.potrf!\n",
    "using Base.LinAlg.LAPACK.potrs!"
   ]
  },
  {
   "cell_type": "markdown",
   "metadata": {},
   "source": [
    "### $ A_{bb}^* = (A_{bb} - A_{bi} A_{ii}^{-1} A_{ib})  $"
   ]
  },
  {
   "cell_type": "code",
   "execution_count": 172,
   "metadata": {
    "collapsed": false
   },
   "outputs": [
    {
     "data": {
      "text/plain": [
       "81x81 SymTridiagonal{Float64}:\n",
       " 0.00166667   0.000416667  0.0          …  0.0          0.0        \n",
       " 0.000416667  0.00333333   0.000416667     0.0          0.0        \n",
       " 0.0          0.000416667  0.00333333      0.0          0.0        \n",
       " 0.0          0.0          0.000416667     0.0          0.0        \n",
       " 0.0          0.0          0.0             0.0          0.0        \n",
       " 0.0          0.0          0.0          …  0.0          0.0        \n",
       " 0.0          0.0          0.0             0.0          0.0        \n",
       " 0.0          0.0          0.0             0.0          0.0        \n",
       " 0.0          0.0          0.0             0.0          0.0        \n",
       " 0.0          0.0          0.0             0.0          0.0        \n",
       " 0.0          0.0          0.0          …  0.0          0.0        \n",
       " 0.0          0.0          0.0             0.0          0.0        \n",
       " 0.0          0.0          0.0             0.0          0.0        \n",
       " ⋮                                      ⋱               ⋮          \n",
       " 0.0          0.0          0.0             0.0          0.0        \n",
       " 0.0          0.0          0.0          …  0.0          0.0        \n",
       " 0.0          0.0          0.0             0.0          0.0        \n",
       " 0.0          0.0          0.0             0.0          0.0        \n",
       " 0.0          0.0          0.0             0.0          0.0        \n",
       " 0.0          0.0          0.0             0.0          0.0        \n",
       " 0.0          0.0          0.0          …  0.0          0.0        \n",
       " 0.0          0.0          0.0             0.0          0.0        \n",
       " 0.0          0.0          0.0             0.0          0.0        \n",
       " 0.0          0.0          0.0             0.000416667  0.0        \n",
       " 0.0          0.0          0.0             0.00333333   0.000416667\n",
       " 0.0          0.0          0.0          …  0.000416667  0.00166667 "
      ]
     },
     "execution_count": 172,
     "metadata": {},
     "output_type": "execute_result"
    }
   ],
   "source": [
    "dp  = zeros(Nel +1)\n",
    "dl  = zeros(Nel)\n",
    "M = Vector{Array{Float64,2}}(Nel)\n",
    "Mii = Vector{Array{Float64,2}}(Nel)\n",
    "for e in 1:Nel\n",
    "    Me = Me_matrix(ϕ, w, I, Q, xn[e], xn[e+1]) ;\n",
    "\n",
    "\n",
    "    \n",
    "    Mbb = Me[ib,ib]\n",
    "    Mbi = Me[ib,ii]\n",
    "    Mib = Me[ii,ib]\n",
    "    Mii[e] = Me[ii,ii]\n",
    "    \n",
    "    potrf!('L',Mii[e]); #Mii^-1\n",
    "    M[e] = copy(Mib)\n",
    "    potrs!('L',Mii[e],M[e]) # M = Mii^-1 * Mbi\n",
    "    gemm!('T', 'N', -1.0, M[e], Mib, 1.0, Mbb) # Mbb = -1*M*Mib + Mbb\n",
    "    \n",
    "    for i in 1:2\n",
    "        ig = dof_map[i,e]\n",
    "        for j in 1:2\n",
    "            jg = dof_map[j,e]\n",
    "            if jg == ig #principal\n",
    "                dp[jg] += Mbb[i,j]\n",
    "            end\n",
    "            if jg == ig + 1 && jg > 1#low\n",
    "              dl[jg-1] += Mbb[i,j] \n",
    "            end\n",
    "        end\n",
    "    end\n",
    "end\n",
    "Abb = SymTridiagonal(dp,dl) \n",
    "#potrf!('L',Abb);\n",
    "Abb"
   ]
  },
  {
   "cell_type": "code",
   "execution_count": 173,
   "metadata": {
    "collapsed": false
   },
   "outputs": [
    {
     "data": {
      "text/plain": [
       "Base.LinAlg.LDLt{Float64,SymTridiagonal{Float64}}(81x81 SymTridiagonal{Float64}:\n",
       " 0.00166667  0.25        0.0         …  0.0         0.0         0.0       \n",
       " 0.25        0.00322917  0.129032       0.0         0.0         0.0       \n",
       " 0.0         0.129032    0.00327957     0.0         0.0         0.0       \n",
       " 0.0         0.0         0.127049       0.0         0.0         0.0       \n",
       " 0.0         0.0         0.0            0.0         0.0         0.0       \n",
       " 0.0         0.0         0.0         …  0.0         0.0         0.0       \n",
       " 0.0         0.0         0.0            0.0         0.0         0.0       \n",
       " 0.0         0.0         0.0            0.0         0.0         0.0       \n",
       " 0.0         0.0         0.0            0.0         0.0         0.0       \n",
       " 0.0         0.0         0.0            0.0         0.0         0.0       \n",
       " 0.0         0.0         0.0         …  0.0         0.0         0.0       \n",
       " 0.0         0.0         0.0            0.0         0.0         0.0       \n",
       " 0.0         0.0         0.0            0.0         0.0         0.0       \n",
       " ⋮                                   ⋱                          ⋮         \n",
       " 0.0         0.0         0.0            0.0         0.0         0.0       \n",
       " 0.0         0.0         0.0         …  0.0         0.0         0.0       \n",
       " 0.0         0.0         0.0            0.0         0.0         0.0       \n",
       " 0.0         0.0         0.0            0.0         0.0         0.0       \n",
       " 0.0         0.0         0.0            0.0         0.0         0.0       \n",
       " 0.0         0.0         0.0            0.0         0.0         0.0       \n",
       " 0.0         0.0         0.0         …  0.0         0.0         0.0       \n",
       " 0.0         0.0         0.0            0.0         0.0         0.0       \n",
       " 0.0         0.0         0.0            0.127017    0.0         0.0       \n",
       " 0.0         0.0         0.0            0.00328041  0.127017    0.0       \n",
       " 0.0         0.0         0.0            0.127017    0.00328041  0.127017  \n",
       " 0.0         0.0         0.0         …  0.0         0.127017    0.00161374)"
      ]
     },
     "execution_count": 173,
     "metadata": {},
     "output_type": "execute_result"
    }
   ],
   "source": [
    "fact = ldltfact!(Abb)"
   ]
  },
  {
   "cell_type": "code",
   "execution_count": null,
   "metadata": {
    "collapsed": true
   },
   "outputs": [],
   "source": []
  },
  {
   "cell_type": "markdown",
   "metadata": {},
   "source": [
    "## RHS"
   ]
  },
  {
   "cell_type": "code",
   "execution_count": 174,
   "metadata": {
    "collapsed": false
   },
   "outputs": [
    {
     "data": {
      "text/plain": [
       "4x80 Array{Float64,2}:\n",
       "  0.0124743    0.0122185    0.0116618   …  0.0114115   0.0120658   0.012423  \n",
       "  0.012423     0.0120658    0.0114115      0.0116618   0.0122185   0.0124743 \n",
       "  0.00415126   0.00404904   0.00384712     0.00384712  0.00404904  0.00415126\n",
       " -1.02657e-5  -3.05445e-5  -5.00711e-5     5.00711e-5  3.05445e-5  1.02657e-5"
      ]
     },
     "execution_count": 174,
     "metadata": {},
     "output_type": "execute_result"
    }
   ],
   "source": [
    "fun(x) = cos(2*pi*x)\n",
    "#calcula F\n",
    "Fe = zeros(I,Nel)\n",
    "for e = 1:Nel\n",
    "    jac = (xn[e+1] - xn[e] )/2\n",
    "    for i in 1:I\n",
    "        temp = 0.0\n",
    "        for q in 1:Q\n",
    "            temp += fun(X[q,e])* ϕ[q,i] * w[q] * jac\n",
    "        end\n",
    "        Fe[i,e] = temp\n",
    "    end\n",
    "end\n",
    "Fe"
   ]
  },
  {
   "cell_type": "markdown",
   "metadata": {},
   "source": [
    "### $f_b^* =f_b - A_{bi} A_{ii}^{-1} f_i$"
   ]
  },
  {
   "cell_type": "code",
   "execution_count": 175,
   "metadata": {
    "collapsed": false
   },
   "outputs": [
    {
     "data": {
      "text/plain": [
       "81-element Array{Float64,1}:\n",
       "  0.0020782  \n",
       "  0.00410523 \n",
       "  0.00395298 \n",
       "  0.00370338 \n",
       "  0.0033626  \n",
       "  0.00293902 \n",
       "  0.00244307 \n",
       "  0.00188697 \n",
       "  0.0012844  \n",
       "  0.000650205\n",
       " -6.50521e-19\n",
       " -0.000650205\n",
       " -0.0012844  \n",
       "  ⋮          \n",
       " -0.000650205\n",
       " -6.50521e-19\n",
       "  0.000650205\n",
       "  0.0012844  \n",
       "  0.00188697 \n",
       "  0.00244307 \n",
       "  0.00293902 \n",
       "  0.0033626  \n",
       "  0.00370338 \n",
       "  0.00395298 \n",
       "  0.00410523 \n",
       "  0.0020782  "
      ]
     },
     "execution_count": 175,
     "metadata": {},
     "output_type": "execute_result"
    }
   ],
   "source": [
    "Fb = zeros(nb)\n",
    "\n",
    "for e in 1:Nel\n",
    "    fe  = Fe[:,e]\n",
    "    fb  = fe[ib]\n",
    "    fi  = fe[ii]\n",
    "    gemv!('T',-1.0,M[e],fi, 1.0, fb) #fbb = -1*M^T*fi + fb\n",
    "\n",
    "    for i in 1:2\n",
    "        ig = dof_map[i,e]\n",
    "        Fb[ig] += fb[i]\n",
    "    end\n",
    "\n",
    "end\n",
    "Fb"
   ]
  },
  {
   "cell_type": "markdown",
   "metadata": {},
   "source": [
    "# Solve   $A^*_{bb}\\ u_b =\\ f^*_b$"
   ]
  },
  {
   "cell_type": "code",
   "execution_count": 176,
   "metadata": {
    "collapsed": false
   },
   "outputs": [
    {
     "data": {
      "text/plain": [
       "81-element Array{Float64,1}:\n",
       "  1.0        \n",
       "  0.987688   \n",
       "  0.951056   \n",
       "  0.891006   \n",
       "  0.809017   \n",
       "  0.707107   \n",
       "  0.587785   \n",
       "  0.45399    \n",
       "  0.309017   \n",
       "  0.156434   \n",
       " -1.42247e-16\n",
       " -0.156434   \n",
       " -0.309017   \n",
       "  ⋮          \n",
       " -0.156434   \n",
       " -1.76942e-16\n",
       "  0.156434   \n",
       "  0.309017   \n",
       "  0.45399    \n",
       "  0.587785   \n",
       "  0.707107   \n",
       "  0.809017   \n",
       "  0.891006   \n",
       "  0.951056   \n",
       "  0.987688   \n",
       "  1.0        "
      ]
     },
     "execution_count": 176,
     "metadata": {},
     "output_type": "execute_result"
    }
   ],
   "source": [
    "Ue = zeros(I,Nel)\n",
    "\n",
    "#potrs!('L',Abb,Fb)\n",
    "Ub = fact\\Fb\n"
   ]
  },
  {
   "cell_type": "markdown",
   "metadata": {},
   "source": [
    "### $u_i = A_{ii}^{-1}f_i - A_{ii}^{-1} A_{bi}^t u_b$"
   ]
  },
  {
   "cell_type": "code",
   "execution_count": 177,
   "metadata": {
    "collapsed": false
   },
   "outputs": [
    {
     "data": {
      "text/plain": [
       "4x80 Array{Float64,2}:\n",
       "  1.0         0.987688    0.951056    …  0.891006    0.951056   0.987688 \n",
       "  0.987688    0.951056    0.891006       0.951056    0.987688   1.0      \n",
       "  0.0122936   0.0119908   0.0113929      0.0113929   0.0119908  0.0122936\n",
       " -1.2673e-5  -3.7707e-5  -6.18126e-5     6.18126e-5  3.7707e-5  1.2673e-5"
      ]
     },
     "execution_count": 177,
     "metadata": {},
     "output_type": "execute_result"
    }
   ],
   "source": [
    "U = zeros(I,Nel)\n",
    "for e in 1:Nel\n",
    "    ub  = Ub[vec(dof_map[:,e])]\n",
    "    fe  = Fe[:,e]\n",
    "    fi  = fe[ii]\n",
    "\n",
    "    potrs!('L',Mii[e],fi)\n",
    "    gemv!('N',-1.0,M[e],ub,1.0,fi) #fi = -1*M*ub + fi\n",
    "    \n",
    "    U[ib,e]= ub\n",
    "    U[ii,e] = fi\n",
    "end\n",
    "U"
   ]
  },
  {
   "cell_type": "code",
   "execution_count": 178,
   "metadata": {
    "collapsed": false
   },
   "outputs": [
    {
     "data": {
      "text/plain": [
       "6x80 Array{Float64,2}:\n",
       " 1.0       0.987688  0.951056  0.891006  …  0.891006  0.951056  0.987688\n",
       " 0.99983   0.984634  0.945193  0.882478     0.899232  0.956597  0.990407\n",
       " 0.998425  0.977355  0.93222   0.86413      0.915076  0.966897  0.99491 \n",
       " 0.99491   0.966897  0.915076  0.840722     0.93222   0.977355  0.998425\n",
       " 0.990407  0.956597  0.899232  0.819725     0.945193  0.984634  0.99983 \n",
       " 0.987688  0.951056  0.891006  0.809017  …  0.951056  0.987688  1.0     "
      ]
     },
     "execution_count": 178,
     "metadata": {},
     "output_type": "execute_result"
    }
   ],
   "source": [
    "Uh = zeros(Q,Nel)\n",
    "for e in 1:Nel\n",
    "    Uh[:,e] = ϕ*U[:,e]\n",
    "end\n",
    "Uh"
   ]
  },
  {
   "cell_type": "code",
   "execution_count": 179,
   "metadata": {
    "collapsed": true
   },
   "outputs": [],
   "source": [
    "using PyPlot"
   ]
  },
  {
   "cell_type": "code",
   "execution_count": 180,
   "metadata": {
    "collapsed": false
   },
   "outputs": [
    {
     "data": {
      "image/png": "[encoded data removed]",
      "text/plain": [
       "PyPlot.Figure(PyObject <matplotlib.figure.Figure object at 0x7f7c6883ce90>)"
      ]
     },
     "metadata": {},
     "output_type": "display_data"
    }
   ],
   "source": [
    "Ue = fun(X)\n",
    "erro = Uh - Ue\n",
    "for e in 1:Nel\n",
    "    plot(X[:,e],Uh[:,e])\n",
    "    plot(X[:,e],fun(X[:,e]),\"o\")\n",
    "#    legend()\n",
    "end\n"
   ]
  },
  {
   "cell_type": "code",
   "execution_count": 181,
   "metadata": {
    "collapsed": false
   },
   "outputs": [
    {
     "data": {
      "text/plain": [
       "(241,3.621847660673083e-7)"
      ]
     },
     "execution_count": 181,
     "metadata": {},
     "output_type": "execute_result"
    }
   ],
   "source": [
    "Ndof = nb + Nel*(ni)\n",
    "Ndof,maxabs(erro)"
   ]
  }
 ],
 "metadata": {
  "kernelspec": {
   "display_name": "Julia 0.4.2",
   "language": "julia",
   "name": "julia-0.4"
  },
  "language_info": {
   "file_extension": ".jl",
   "mimetype": "application/julia",
   "name": "julia",
   "version": "0.4.2"
  }
 },
 "nbformat": 4,
 "nbformat_minor": 0
}
