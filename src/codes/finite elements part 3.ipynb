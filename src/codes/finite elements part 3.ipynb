{
 "cells": [
  {
   "cell_type": "markdown",
   "metadata": {},
   "source": [
    "## Elementos finitos linear 1D"
   ]
  },
  {
   "cell_type": "markdown",
   "metadata": {},
   "source": [
    "## Montar a matrix de massa"
   ]
  },
  {
   "cell_type": "code",
   "execution_count": 1,
   "metadata": {
    "collapsed": true
   },
   "outputs": [],
   "source": [
    "using Jacobi"
   ]
  },
  {
   "cell_type": "markdown",
   "metadata": {},
   "source": [
    "## Funções"
   ]
  },
  {
   "cell_type": "code",
   "execution_count": 2,
   "metadata": {
    "collapsed": false
   },
   "outputs": [
    {
     "data": {
      "text/plain": [
       "remap (generic function with 1 method)"
      ]
     },
     "execution_count": 2,
     "metadata": {},
     "output_type": "execute_result"
    }
   ],
   "source": [
    "remap(x,a,b) = ((1-x)*a + (1+x)*b)/2"
   ]
  },
  {
   "cell_type": "code",
   "execution_count": 3,
   "metadata": {
    "collapsed": false
   },
   "outputs": [
    {
     "data": {
      "text/plain": [
       "ψj (generic function with 1 method)"
      ]
     },
     "execution_count": 3,
     "metadata": {},
     "output_type": "execute_result"
    }
   ],
   "source": [
    "function ψj(p,E,Q)\n",
    "    if(p == 1)\n",
    "     return  (1-E)/2\n",
    "        elseif(p == 2)\n",
    "     return  (1+E)/2\n",
    "    else\n",
    "     return  (1-E)*(1+E)/4 .* jacobi(E, p-3, 1, 1)\n",
    "    end\n",
    "end "
   ]
  },
  {
   "cell_type": "code",
   "execution_count": 4,
   "metadata": {
    "collapsed": false
   },
   "outputs": [
    {
     "data": {
      "text/plain": [
       "dψj (generic function with 1 method)"
      ]
     },
     "execution_count": 4,
     "metadata": {},
     "output_type": "execute_result"
    }
   ],
   "source": [
    "function dψj(p,E,Q)\n",
    "    if(p == 1)\n",
    "     return  (-1)/2\n",
    "        elseif(p == 2)\n",
    "     return  (1)/2\n",
    "    else\n",
    "        return  -E/2 *jacobi(E, p-3, 1, 1) + (1+E)*(1-E)/4 * djacobi(E,p-3,1,1)\n",
    "    end\n",
    "end "
   ]
  },
  {
   "cell_type": "code",
   "execution_count": 5,
   "metadata": {
    "collapsed": false
   },
   "outputs": [
    {
     "data": {
      "text/plain": [
       "ϕ_matrix (generic function with 1 method)"
      ]
     },
     "execution_count": 5,
     "metadata": {},
     "output_type": "execute_result"
    }
   ],
   "source": [
    "function  ϕ_matrix(ψj,Q,M)\n",
    "    ϕ = zeros(Q,M)\n",
    "    ξ = zglj(Q)\n",
    "    for i in 1:M\n",
    "        for j in 1:Q\n",
    "            ϕ[j,i] = ψj(i,ξ[j],M)\n",
    "        end\n",
    "    end\n",
    "  return ϕ\n",
    "end"
   ]
  },
  {
   "cell_type": "code",
   "execution_count": 6,
   "metadata": {
    "collapsed": false
   },
   "outputs": [
    {
     "data": {
      "text/plain": [
       "ϕ_matrix_interp (generic function with 1 method)"
      ]
     },
     "execution_count": 6,
     "metadata": {},
     "output_type": "execute_result"
    }
   ],
   "source": [
    "function  ϕ_matrix_interp(ψj,Q,M)\n",
    "    ϕ = zeros(Q,M)\n",
    "    ξ = linspace(-1,1,Q)\n",
    "    for i in 1:M\n",
    "        for j in 1:Q\n",
    "            ϕ[j,i] = ψj(i,ξ[j],M)\n",
    "        end\n",
    "    end\n",
    "  return ϕ\n",
    "end"
   ]
  },
  {
   "cell_type": "code",
   "execution_count": 7,
   "metadata": {
    "collapsed": false
   },
   "outputs": [
    {
     "data": {
      "text/plain": [
       "Me_matrix (generic function with 1 method)"
      ]
     },
     "execution_count": 7,
     "metadata": {},
     "output_type": "execute_result"
    }
   ],
   "source": [
    "function Me_matrix(ϕ,w,M,Q,a,b)\n",
    "    L = zeros(M,M)\n",
    "    jac = (b-a)/2\n",
    "    for i in 1:M\n",
    "        for j in 1:M\n",
    "           m= 0.0\n",
    "            for q in 1:Q\n",
    "                m = m + ϕ[q,i]*ϕ[q,j]*w[q]*jac\n",
    "            end\n",
    "            L[i,j] = m\n",
    "        end\n",
    "    end\n",
    "    return L\n",
    "end"
   ]
  },
  {
   "cell_type": "code",
   "execution_count": 8,
   "metadata": {
    "collapsed": false
   },
   "outputs": [
    {
     "data": {
      "text/plain": [
       "Se_matrix (generic function with 1 method)"
      ]
     },
     "execution_count": 8,
     "metadata": {},
     "output_type": "execute_result"
    }
   ],
   "source": [
    "function Se_matrix(ϕ,w,M,Q,a,b)\n",
    "    L = zeros(M,M)\n",
    "    jac = (b-a)/2\n",
    "    for i in 1:M\n",
    "        for j in 1:M\n",
    "           m= 0.0\n",
    "            for q in 1:Q\n",
    "                m = m + ϕ[q,i]*ϕ[q,j]*w[q]*jac^-1\n",
    "            end\n",
    "            L[i,j] = m\n",
    "        end\n",
    "    end\n",
    "    return L\n",
    "end"
   ]
  },
  {
   "cell_type": "markdown",
   "metadata": {},
   "source": [
    "### $ϕ$ e  matriz de massa"
   ]
  },
  {
   "cell_type": "code",
   "execution_count": 9,
   "metadata": {
    "collapsed": false
   },
   "outputs": [],
   "source": [
    "Nel = 10\n",
    "I = 5\n",
    "nb = Nel + 1\n",
    "ni = (I-2)\n",
    "Q = I+2\n",
    "\n",
    "#indices locais\n",
    "ib = collect(1:2)\n",
    "ii = collect(3:I)\n",
    "\n",
    "#limites\n",
    "a = -1; \n",
    "b = 1;\n",
    "#problema\n",
    "fun(x) = (1.0 - 4*pi^2)*sin(2*pi*x) \n",
    "resp(x) = sin(2*pi*x)\n",
    "cond_dir = [0.0,0.0]\n",
    "\n",
    "z = zglj(Q)\n",
    "w = wglj(z)\n",
    "ϕ = ϕ_matrix(ψj,Q,I);\n",
    "dϕ = ϕ_matrix(dψj,Q,I)\n",
    "xn = [linspace(a,b,Nel+1);];\n",
    "X = zeros(Q,Nel)\n",
    "remap(x,a,b) = ((1-x)*a + (1+x)*b)/2\n",
    "for e in 1:Nel\n",
    "    X[:,e] = [remap(x,xn[e],xn[e+1]) for x in z]\n",
    "end\n",
    "X;"
   ]
  },
  {
   "cell_type": "code",
   "execution_count": 10,
   "metadata": {
    "collapsed": false
   },
   "outputs": [
    {
     "data": {
      "text/plain": [
       "2x10 Array{Int64,2}:\n",
       " 1  2  3  4  5  6  7  8   9  10\n",
       " 2  3  4  5  6  7  8  9  10  11"
      ]
     },
     "execution_count": 10,
     "metadata": {},
     "output_type": "execute_result"
    }
   ],
   "source": [
    "\n",
    "dof_map = zeros(Int, 2, Nel)\n",
    "for i = 1:Nel\n",
    "    dof_map[1,i] = i\n",
    "    dof_map[2,i] = i+1\n",
    "end\n",
    "dof_map"
   ]
  },
  {
   "cell_type": "code",
   "execution_count": 11,
   "metadata": {
    "collapsed": true
   },
   "outputs": [],
   "source": [
    "\n",
    "using Base.LinAlg.BLAS.gemm!\n",
    "using Base.LinAlg.BLAS.gemv!\n",
    "using Base.LinAlg.LAPACK.potrf!\n",
    "using Base.LinAlg.LAPACK.potrs!"
   ]
  },
  {
   "cell_type": "markdown",
   "metadata": {},
   "source": [
    "### $ A_{bb}^* = (A_{bb} - A_{bi} A_{ii}^{-1} A_{ib})  $"
   ]
  },
  {
   "cell_type": "code",
   "execution_count": 12,
   "metadata": {
    "collapsed": false
   },
   "outputs": [
    {
     "data": {
      "text/plain": [
       "11x11 SymTridiagonal{Float64}:\n",
       " 1.0e10    5.03324   0.0       0.0      …   0.0       0.0      0.0    \n",
       " 5.03324  -9.86687   5.03324   0.0          0.0       0.0      0.0    \n",
       " 0.0       5.03324  -9.86687   5.03324      0.0       0.0      0.0    \n",
       " 0.0       0.0       5.03324  -9.86687      0.0       0.0      0.0    \n",
       " 0.0       0.0       0.0       5.03324      0.0       0.0      0.0    \n",
       " 0.0       0.0       0.0       0.0      …   0.0       0.0      0.0    \n",
       " 0.0       0.0       0.0       0.0          0.0       0.0      0.0    \n",
       " 0.0       0.0       0.0       0.0          5.03324   0.0      0.0    \n",
       " 0.0       0.0       0.0       0.0         -9.86687   5.03324  0.0    \n",
       " 0.0       0.0       0.0       0.0          5.03324  -9.86687  5.03324\n",
       " 0.0       0.0       0.0       0.0      …   0.0       5.03324  1.0e10 "
      ]
     },
     "execution_count": 12,
     "metadata": {},
     "output_type": "execute_result"
    }
   ],
   "source": [
    "dp  = zeros(Nel +1)\n",
    "dl  = zeros(Nel)\n",
    "M = Vector{Array{Float64,2}}(Nel)\n",
    "Mii = Vector{Array{Float64,2}}(Nel)\n",
    "for e in 1:Nel\n",
    "    Me = Me_matrix(ϕ, w, I, Q, xn[e], xn[e+1]) ;  #mass matrix\n",
    "    Se = Se_matrix(dϕ, w, I, Q, xn[e], xn[e+1]) ; #stiff matrix\n",
    "    Mbb = Me[ib,ib] - Se[ib,ib]\n",
    "    Mbi = Me[ib,ii] - Se[ib,ii]\n",
    "    Mib = Me[ii,ib] - Se[ii,ib]\n",
    "    Mii[e] = Me[ii,ii] - Se[ii,ii]\n",
    "    \n",
    "    potrf!('L',Mii[e]); #Mii^-1\n",
    "    M[e] = copy(Mib)\n",
    "    potrs!('L',Mii[e],M[e]) # M = Mii^-1 * Mbi\n",
    "    gemm!('T', 'N', -1.0, M[e], Mib, 1.0, Mbb) # Mbb = -1*M*Mib + Mbb\n",
    "    \n",
    "    for i in 1:2\n",
    "        ig = dof_map[i,e]\n",
    "        for j in 1:2\n",
    "            jg = dof_map[j,e]\n",
    "            if jg == ig #principal\n",
    "                dp[jg] += Mbb[i,j]\n",
    "            end\n",
    "            if jg == ig + 1 && jg > 1#low\n",
    "              dl[jg-1] += Mbb[i,j] \n",
    "            end\n",
    "        end\n",
    "    end\n",
    "end\n",
    "dp[1],dp[end] = 10^10,10^10\n",
    "Abb = SymTridiagonal(dp,dl); \n",
    "Abb"
   ]
  },
  {
   "cell_type": "code",
   "execution_count": 13,
   "metadata": {
    "collapsed": false
   },
   "outputs": [],
   "source": [
    "fact = ldltfact!(Abb);"
   ]
  },
  {
   "cell_type": "markdown",
   "metadata": {},
   "source": [
    "## RHS"
   ]
  },
  {
   "cell_type": "code",
   "execution_count": 14,
   "metadata": {
    "collapsed": false
   },
   "outputs": [
    {
     "data": {
      "text/plain": [
       "0"
      ]
     },
     "execution_count": 14,
     "metadata": {},
     "output_type": "execute_result"
    }
   ],
   "source": [
    "\n",
    "#calcula F\n",
    "Fe = zeros(I,Nel)\n",
    "for e = 1:Nel\n",
    "    jac = (xn[e+1] - xn[e] )/2\n",
    "    for i in 1:I\n",
    "        temp = 0.0\n",
    "        for q in 1:Q\n",
    "            temp += fun(X[q,e])* ϕ[q,i] * w[q] * jac\n",
    "        end\n",
    "        Fe[i,e] = temp\n",
    "    end\n",
    "end\n",
    "Fe[1,1] = 0; Fe[2,end]= 0;#arrumar"
   ]
  },
  {
   "cell_type": "code",
   "execution_count": 15,
   "metadata": {
    "collapsed": false
   },
   "outputs": [
    {
     "data": {
      "text/plain": [
       "5x10 Array{Float64,2}:\n",
       "  0.0        -3.66278    -0.77452       3.1841     …   3.1841      2.7424   \n",
       " -2.7424     -3.1841      0.77452       3.66278        3.66278     0.0      \n",
       " -0.724555   -1.17236     1.59595e-16   1.17236        1.17236     0.724555 \n",
       " -0.253518    0.0968351   0.313365      0.0968351      0.0968351  -0.253518 \n",
       "  0.0249565   0.0403804   2.77556e-17  -0.0403804     -0.0403804  -0.0249565"
      ]
     },
     "execution_count": 15,
     "metadata": {},
     "output_type": "execute_result"
    }
   ],
   "source": [
    "Fe = Fe "
   ]
  },
  {
   "cell_type": "markdown",
   "metadata": {},
   "source": [
    "### $f_b^* =f_b - A_{bi} A_{ii}^{-1} f_i$"
   ]
  },
  {
   "cell_type": "code",
   "execution_count": 16,
   "metadata": {
    "collapsed": false
   },
   "outputs": [],
   "source": [
    "Fb = zeros(nb)\n",
    "\n",
    "for e in 1:Nel\n",
    "    fe  = Fe[:,e]\n",
    "    fb  = fe[ib]\n",
    "    fi  = fe[ii]\n",
    "    gemv!('T',-1.0,M[e],fi, 1.0, fb) #fbb = -1*M^T*fi + fb\n",
    "\n",
    "    for i in 1:2\n",
    "        ig = dof_map[i,e]\n",
    "        Fb[ig] += fb[i]\n",
    "    end\n",
    "\n",
    "end\n",
    "Fb;"
   ]
  },
  {
   "cell_type": "markdown",
   "metadata": {},
   "source": [
    "# Solve   $A^*_{bb}\\ u_b =\\ f^*_b$"
   ]
  },
  {
   "cell_type": "code",
   "execution_count": 17,
   "metadata": {
    "collapsed": false
   },
   "outputs": [
    {
     "data": {
      "text/plain": [
       "11-element Array{Float64,1}:\n",
       " -4.75882e-10\n",
       "  0.94633    \n",
       "  0.584864   \n",
       " -0.584864   \n",
       " -0.94633    \n",
       "  6.66134e-16\n",
       "  0.94633    \n",
       "  0.584864   \n",
       " -0.584864   \n",
       " -0.94633    \n",
       "  4.75882e-10"
      ]
     },
     "execution_count": 17,
     "metadata": {},
     "output_type": "execute_result"
    }
   ],
   "source": [
    "Ue = zeros(I,Nel)\n",
    "\n",
    "#potrs!('L',Abb,Fb)\n",
    "Ub = fact\\Fb\n"
   ]
  },
  {
   "cell_type": "markdown",
   "metadata": {},
   "source": [
    "### $u_i = A_{ii}^{-1}f_i - A_{ii}^{-1} A_{bi}^t u_b$"
   ]
  },
  {
   "cell_type": "code",
   "execution_count": 18,
   "metadata": {
    "collapsed": false
   },
   "outputs": [
    {
     "data": {
      "text/plain": [
       "5x10 Array{Float64,2}:\n",
       " -4.75882e-10   0.94633      0.584864     …  -0.584864    -0.94633    \n",
       "  0.94633       0.584864    -0.584864        -0.94633      4.75882e-10\n",
       " -0.268663     -0.434707     3.26122e-12      0.434707     0.268663   \n",
       " -0.0162701     0.00621464   0.020111         0.00621464  -0.0162701  \n",
       "  0.000619853   0.00100294  -1.86419e-16     -0.00100294  -0.000619853"
      ]
     },
     "execution_count": 18,
     "metadata": {},
     "output_type": "execute_result"
    }
   ],
   "source": [
    "U = zeros(I,Nel)\n",
    "for e in 1:Nel\n",
    "    ub  = Ub[vec(dof_map[:,e])]\n",
    "    fe  = Fe[:,e]\n",
    "    fi  = fe[ii]\n",
    "\n",
    "    potrs!('L',Mii[e],fi)\n",
    "    gemv!('N',-1.0,M[e],ub,1.0,fi) #fi = -1*M*ub + fi\n",
    "    \n",
    "    U[ib,e] = ub\n",
    "    U[ii,e] = fi\n",
    "end\n",
    "U "
   ]
  },
  {
   "cell_type": "code",
   "execution_count": 19,
   "metadata": {
    "collapsed": false
   },
   "outputs": [
    {
     "data": {
      "text/plain": [
       "7x10 Array{Float64,2}:\n",
       " -4.75882e-10  0.94633    0.584864     -0.584864  …  -0.584864  -0.94633    \n",
       "  0.0616487    0.881218   0.482974     -0.582724     -0.582724  -0.843117   \n",
       "  0.201905     0.764424   0.270535     -0.597224     -0.597224  -0.639639   \n",
       "  0.405883     0.656732  -2.68774e-10  -0.656732     -0.656732  -0.405883   \n",
       "  0.639639     0.597224  -0.270535     -0.764424     -0.764424  -0.201905   \n",
       "  0.843117     0.582724  -0.482974     -0.881218  …  -0.881218  -0.0616487  \n",
       "  0.94633      0.584864  -0.584864     -0.94633      -0.94633    4.75882e-10"
      ]
     },
     "execution_count": 19,
     "metadata": {},
     "output_type": "execute_result"
    }
   ],
   "source": [
    "Uh = zeros(Q,Nel)\n",
    "for e in 1:Nel\n",
    "    Uh[:,e] = ϕ*U[:,e]\n",
    "end\n",
    "Uh"
   ]
  },
  {
   "cell_type": "code",
   "execution_count": 20,
   "metadata": {
    "collapsed": true
   },
   "outputs": [],
   "source": [
    "using PyPlot"
   ]
  },
  {
   "cell_type": "code",
   "execution_count": 21,
   "metadata": {
    "collapsed": false
   },
   "outputs": [
    {
     "data": {
      "image/png": "[encoded data removed]",
      "text/plain": [
       "PyPlot.Figure(PyObject <matplotlib.figure.Figure object at 0x7f50ded0c390>)"
      ]
     },
     "metadata": {},
     "output_type": "display_data"
    }
   ],
   "source": [
    "\n",
    "for e in 1:Nel\n",
    "    plot(X[:,e],Uh[:,e],\"o\")\n",
    "    y = [fun(x) for x in X[:,e] ]\n",
    "    plot(X[:,e],[resp(x) for x in X[:,e] ])\n",
    "    #legend()\n",
    "end\n"
   ]
  },
  {
   "cell_type": "code",
   "execution_count": 22,
   "metadata": {
    "collapsed": false
   },
   "outputs": [
    {
     "data": {
      "image/png": "[encoded data removed]",
      "text/plain": [
       "PyPlot.Figure(PyObject <matplotlib.figure.Figure object at 0x7f50dc55dbd0>)"
      ]
     },
     "metadata": {},
     "output_type": "display_data"
    }
   ],
   "source": [
    "\n",
    "for e in 1:Nel\n",
    "    plot(X[:,e],[resp(x) for x in X[:,e] ])\n",
    "    plot(X[:,e],Uh[:,e])\n",
    "end\n"
   ]
  },
  {
   "cell_type": "code",
   "execution_count": 23,
   "metadata": {
    "collapsed": false
   },
   "outputs": [
    {
     "ename": "LoadError",
     "evalue": "LoadError: UndefVarError: x not defined\nwhile loading In[23], in expression starting on line 1",
     "output_type": "error",
     "traceback": [
      "LoadError: UndefVarError: x not defined\nwhile loading In[23], in expression starting on line 1",
      ""
     ]
    }
   ],
   "source": [
    "Ue = resp(x)\n",
    "erro = Uh - Ue\n",
    "Ndof = nb + Nel*(ni)\n",
    "Ndof,maxabs(erro)"
   ]
  },
  {
   "cell_type": "code",
   "execution_count": null,
   "metadata": {
    "collapsed": true
   },
   "outputs": [],
   "source": []
  },
  {
   "cell_type": "code",
   "execution_count": null,
   "metadata": {
    "collapsed": true
   },
   "outputs": [],
   "source": []
  },
  {
   "cell_type": "code",
   "execution_count": null,
   "metadata": {
    "collapsed": true
   },
   "outputs": [],
   "source": []
  },
  {
   "cell_type": "code",
   "execution_count": null,
   "metadata": {
    "collapsed": true
   },
   "outputs": [],
   "source": []
  }
 ],
 "metadata": {
  "kernelspec": {
   "display_name": "Julia 0.4.5",
   "language": "julia",
   "name": "julia-0.4"
  },
  "language_info": {
   "file_extension": ".jl",
   "mimetype": "application/julia",
   "name": "julia",
   "version": "0.4.5"
  }
 },
 "nbformat": 4,
 "nbformat_minor": 0
}
