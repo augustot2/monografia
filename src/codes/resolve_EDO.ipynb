{
 "cells": [
  {
   "cell_type": "code",
   "execution_count": 19,
   "metadata": {
    "collapsed": true
   },
   "outputs": [],
   "source": [
    "using Jacobi\n",
    "using PyPlot\n",
    "using LaTeXStrings"
   ]
  },
  {
   "cell_type": "code",
   "execution_count": 40,
   "metadata": {
    "collapsed": false
   },
   "outputs": [
    {
     "data": {
      "text/plain": [
       "plot_matrix (generic function with 3 methods)"
      ]
     },
     "execution_count": 40,
     "metadata": {},
     "output_type": "execute_result"
    }
   ],
   "source": [
    "function plot_matrix(M, posneg=true,eps=1e-5)\n",
    "\n",
    "    nrow = size(M,1)\n",
    "    ncol = size(M,2)\n",
    "\n",
    "    ntot = nrow * ncol\n",
    "\n",
    "    A = reshape(M, ntot)\n",
    "\n",
    "    irow = zeros(Int,ntot)\n",
    "    icol = zeros(Int,ntot)\n",
    "\n",
    "    er = maxabs(A)*eps\n",
    "    \n",
    "    cnt = 1\n",
    "    for j = 1:ncol\n",
    "        for i = 1:nrow\n",
    "            irow[cnt] = i\n",
    "            icol[cnt] = j\n",
    "            cnt = cnt + 1\n",
    "        end\n",
    "    end\n",
    "\n",
    "    if posneg\n",
    "        ipos = A .> er\n",
    "        ineg = A .< -er\n",
    "        \n",
    "        plot(icol[ipos], nrow + 1 - irow[ipos], \"ro\",label=\"positive\")\n",
    "        plot(icol[ineg], nrow + 1 - irow[ineg], \"bo\",label=\"negative\")\n",
    "        legend(bbox_to_anchor=(1.05, 1), loc=2, borderaxespad=0.)        \n",
    "    else\n",
    "        idx = abs(A) .> er\n",
    "        plot(icol[idx], nrow + 1 - irow[idx], \"o\", color=\"black\")\n",
    "    end\n",
    "    return\n",
    "end"
   ]
  },
  {
   "cell_type": "code",
   "execution_count": 20,
   "metadata": {
    "collapsed": false
   },
   "outputs": [
    {
     "data": {
      "text/plain": [
       "solver_beta (generic function with 1 method)"
      ]
     },
     "execution_count": 20,
     "metadata": {},
     "output_type": "execute_result"
    }
   ],
   "source": [
    "#resolve A*X = B\n",
    "function solver_beta(A,B,nb)\n",
    "  Abb = A[1:nb,1:nb]\n",
    "  Abi = A[1:nb,(nb+1):end]\n",
    "  Aii = A[(nb+1):end,(nb+1):end]\n",
    "  Aib = A[(nb+1):end,1:nb]\n",
    "  #########################\n",
    "  #                       #\n",
    "  #  |Abb Abi| |xb| = |Bb|#\n",
    "  #  |Aib Aii| |xi|   |Bi|#\n",
    "  #########################\n",
    "\n",
    "  Bi = B[(nb+1):end]\n",
    "  Bb = B[1:nb]\n",
    "\n",
    "  Xb = inv(Abb - Abi*inv(Aii)*Aib)* (Bb - Abi*inv(Aii)*Bi)\n",
    "  Xi = inv(Aii)*Bi - inv(Aii)*transpose(Abi)*Xb\n",
    "\n",
    "  X = [Xb;Xi]\n",
    "end\n"
   ]
  },
  {
   "cell_type": "code",
   "execution_count": 36,
   "metadata": {
    "collapsed": false
   },
   "outputs": [
    {
     "data": {
      "text/plain": [
       "ϕ_matrix (generic function with 1 method)"
      ]
     },
     "execution_count": 36,
     "metadata": {},
     "output_type": "execute_result"
    }
   ],
   "source": [
    "function ϕ_matrix(ψ,Q,M)\n",
    "    ϕ = zeros(Q,M)\n",
    "    ξ = zgj(Q)\n",
    "    for i in 1:M\n",
    "        for j in 1:Q\n",
    "            ϕ[j,i] = ψ(i,ξ[j],Q)\n",
    "        end\n",
    "    end\n",
    "    return ϕ\n",
    "end"
   ]
  },
  {
   "cell_type": "code",
   "execution_count": 22,
   "metadata": {
    "collapsed": false
   },
   "outputs": [
    {
     "data": {
      "text/plain": [
       "Mass_matrix (generic function with 1 method)"
      ]
     },
     "execution_count": 22,
     "metadata": {},
     "output_type": "execute_result"
    }
   ],
   "source": [
    "function Mass_matrix(ϕ,Q,M)\n",
    "    L = zeros(M,M)\n",
    "    ξ = zgj(Q)\n",
    "    w = wgj(ξ,0.,0.)\n",
    "    for i in 1:M\n",
    "        for j in 1:M\n",
    "           m= 0.0\n",
    "            for q in 1:Q\n",
    "                m = m + ϕ[q,i]*ϕ[q,j]*w[q]\n",
    "            end\n",
    "            L[i,j] = m\n",
    "        end\n",
    "    end\n",
    "    return L\n",
    "end\n"
   ]
  },
  {
   "cell_type": "code",
   "execution_count": 49,
   "metadata": {
    "collapsed": false
   },
   "outputs": [
    {
     "data": {
      "text/plain": [
       "Dϕ_matrix (generic function with 1 method)"
      ]
     },
     "execution_count": 49,
     "metadata": {},
     "output_type": "execute_result"
    }
   ],
   "source": [
    "function Dϕ_matrix(dψ,Q,M)\n",
    "    ϕ = zeros(Q,M)\n",
    "    ξ = zgj(Q)\n",
    "    for i in 1:M\n",
    "        for j in 1:Q\n",
    "            ϕ[j,i] = dψ(i,ξ[j],Q)\n",
    "        end\n",
    "    end\n",
    "    return ϕ\n",
    "end\n"
   ]
  },
  {
   "cell_type": "code",
   "execution_count": 23,
   "metadata": {
    "collapsed": false
   },
   "outputs": [
    {
     "data": {
      "text/plain": [
       "ψj (generic function with 1 method)"
      ]
     },
     "execution_count": 23,
     "metadata": {},
     "output_type": "execute_result"
    }
   ],
   "source": [
    "function ψj(p,E,Q)\n",
    "    if(p == 1)\n",
    "     return  (1-E)/2\n",
    "        elseif(p == Q)\n",
    "     return  (1+E)/2\n",
    "    else\n",
    "     return  (1-E)*(1+E)/4 * jacobi(E, p-2, 1, 1)\n",
    "    end\n",
    "end "
   ]
  },
  {
   "cell_type": "code",
   "execution_count": 60,
   "metadata": {
    "collapsed": false
   },
   "outputs": [
    {
     "data": {
      "text/plain": [
       "fr (generic function with 2 methods)"
      ]
     },
     "execution_count": 60,
     "metadata": {},
     "output_type": "execute_result"
    }
   ],
   "source": [
    "function fr(fun,ϕ,Q,M)\n",
    "    ξ = zgj(Q)\n",
    "    w = wgj(ξ,0.,0.)\n",
    "    fr = zeros(M)\n",
    "    for i in 1:M\n",
    "        temp = 0.0\n",
    "        for q in 1:Q\n",
    "            temp = temp + fun(ξ[q])*ϕ[q,i]*w[q]\n",
    "        end\n",
    "        fr[i]= temp\n",
    "    end\n",
    "return fr\n",
    "end"
   ]
  },
  {
   "cell_type": "code",
   "execution_count": 24,
   "metadata": {
    "collapsed": false
   },
   "outputs": [
    {
     "data": {
      "text/plain": [
       "ψle (generic function with 1 method)"
      ]
     },
     "execution_count": 24,
     "metadata": {},
     "output_type": "execute_result"
    }
   ],
   "source": [
    "\n",
    "function ψle(p,E,Q)\n",
    "   legendre(E, p-1)\n",
    "end "
   ]
  },
  {
   "cell_type": "code",
   "execution_count": 48,
   "metadata": {
    "collapsed": false
   },
   "outputs": [
    {
     "data": {
      "text/plain": [
       "dψle (generic function with 1 method)"
      ]
     },
     "execution_count": 48,
     "metadata": {},
     "output_type": "execute_result"
    }
   ],
   "source": [
    "\n",
    "function dψle(p,E,Q)\n",
    "    dlegendre(E, p-1)\n",
    "end "
   ]
  },
  {
   "cell_type": "code",
   "execution_count": 25,
   "metadata": {
    "collapsed": false
   },
   "outputs": [
    {
     "data": {
      "text/plain": [
       "ψla (generic function with 1 method)"
      ]
     },
     "execution_count": 25,
     "metadata": {},
     "output_type": "execute_result"
    }
   ],
   "source": [
    "function ψla(p,E,Q)\n",
    "    z = zgj(Q)\n",
    "    lagrange(p,E,z)\n",
    "end"
   ]
  },
  {
   "cell_type": "markdown",
   "metadata": {},
   "source": [
    "#  Solver"
   ]
  },
  {
   "cell_type": "code",
   "execution_count": 121,
   "metadata": {
    "collapsed": false
   },
   "outputs": [
    {
     "data": {
      "text/plain": [
       "f (generic function with 1 method)"
      ]
     },
     "execution_count": 121,
     "metadata": {},
     "output_type": "execute_result"
    }
   ],
   "source": [
    "\n",
    "f(x) = 4*x^2"
   ]
  },
  {
   "cell_type": "code",
   "execution_count": 144,
   "metadata": {
    "collapsed": false
   },
   "outputs": [
    {
     "data": {
      "text/plain": [
       "10x10 Array{Float64,2}:\n",
       "  2.0          -5.55112e-17   5.96745e-16  …    3.60822e-16    0.0        \n",
       " -5.55112e-17  -1.33333      -1.38778e-17      -2.22045e-16   -2.0        \n",
       "  5.96745e-16  -1.38778e-17  -5.6              -6.0            1.73472e-18\n",
       "  0.0          -2.0          -6.93889e-18       0.0          -12.0        \n",
       "  4.996e-16     0.0          -6.0             -20.0           -1.77549e-15\n",
       "  0.0          -2.0           0.0          …    1.73472e-18  -30.0        \n",
       "  3.747e-16     2.22045e-16  -6.0             -42.0            8.67362e-19\n",
       "  0.0          -2.0          -4.44089e-16      -2.60209e-18  -56.0        \n",
       "  3.60822e-16  -2.22045e-16  -6.0             -71.8824         1.04083e-17\n",
       "  0.0          -2.0           1.73472e-18       1.04083e-17  -89.8947     "
      ]
     },
     "execution_count": 144,
     "metadata": {},
     "output_type": "execute_result"
    }
   ],
   "source": [
    "ϕ  = ϕ_matrix(ψle,10,10)\n",
    "Dϕ = ϕ_matrix(dψle,10,10)\n",
    "DM = Mass_matrix(Dϕ,10,10)\n",
    "M  = Mass_matrix(ϕ,10,10)\n",
    "fn = fr(f,ϕ,10,10)\n",
    "Mn =-DM + M"
   ]
  },
  {
   "cell_type": "code",
   "execution_count": 148,
   "metadata": {
    "collapsed": false
   },
   "outputs": [
    {
     "ename": "LoadError",
     "evalue": "LoadError: Base.LinAlg.SingularException(1)\nwhile loading In[148], in expression starting on line 2",
     "output_type": "error",
     "traceback": [
      "LoadError: Base.LinAlg.SingularException(1)\nwhile loading In[148], in expression starting on line 2",
      "",
      " in inv at linalg/lu.jl:213",
      " in inv at linalg/dense.jl:360",
      " in ^ at linalg/dense.jl:172"
     ]
    }
   ],
   "source": [
    "#plot_matrix(DM)\n",
    "DM^-1"
   ]
  },
  {
   "cell_type": "code",
   "execution_count": 142,
   "metadata": {
    "collapsed": false
   },
   "outputs": [
    {
     "ename": "LoadError",
     "evalue": "LoadError: Base.LinAlg.SingularException(1)\nwhile loading In[142], in expression starting on line 2",
     "output_type": "error",
     "traceback": [
      "LoadError: Base.LinAlg.SingularException(1)\nwhile loading In[142], in expression starting on line 2",
      "",
      " in inv at linalg/lu.jl:213",
      " in inv at linalg/dense.jl:360",
      " in solver_beta at In[20]:16"
     ]
    }
   ],
   "source": [
    "\n",
    "uh = solver_beta(DM,fn,0)\n",
    "\n",
    "uq = ϕ*uh"
   ]
  },
  {
   "cell_type": "markdown",
   "metadata": {},
   "source": [
    "\\begin{equation}\n",
    "\\nabla^2 u + u = f(x)\n",
    "\\end{equation}\n"
   ]
  },
  {
   "cell_type": "code",
   "execution_count": 136,
   "metadata": {
    "collapsed": false
   },
   "outputs": [
    {
     "data": {
      "image/png": "[encoded data removed]",
      "text/plain": [
       "PyPlot.Figure(PyObject <matplotlib.figure.Figure object at 0x7fa694645b10>)"
      ]
     },
     "metadata": {},
     "output_type": "display_data"
    },
    {
     "data": {
      "text/plain": [
       "PyObject <matplotlib.legend.Legend object at 0x7fa69397e890>"
      ]
     },
     "execution_count": 136,
     "metadata": {},
     "output_type": "execute_result"
    }
   ],
   "source": [
    "sol(x) = (x^4 -4*x -5)/3 \n",
    "ue = [sol(ξ) for ξ in zgj(10)]\n",
    "ξ= zgj(10)\n",
    "plot(ξ,uq,label = \"aprox\")\n",
    "plot(ξ,ue,label = \"exact\")\n",
    "legend()"
   ]
  },
  {
   "cell_type": "code",
   "execution_count": null,
   "metadata": {
    "collapsed": false
   },
   "outputs": [],
   "source": []
  },
  {
   "cell_type": "code",
   "execution_count": null,
   "metadata": {
    "collapsed": false
   },
   "outputs": [],
   "source": []
  }
 ],
 "metadata": {
  "kernelspec": {
   "display_name": "Julia 0.4.2",
   "language": "julia",
   "name": "julia-0.4"
  },
  "language_info": {
   "file_extension": ".jl",
   "mimetype": "application/julia",
   "name": "julia",
   "version": "0.4.2"
  }
 },
 "nbformat": 4,
 "nbformat_minor": 0
}
