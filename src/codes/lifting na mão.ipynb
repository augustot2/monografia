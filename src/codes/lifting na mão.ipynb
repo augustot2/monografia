{
 "cells": [
  {
   "cell_type": "code",
   "execution_count": 1,
   "metadata": {
    "collapsed": false
   },
   "outputs": [
    {
     "data": {
      "text/plain": [
       "HPFEM"
      ]
     },
     "execution_count": 1,
     "metadata": {},
     "output_type": "execute_result"
    }
   ],
   "source": [
    "include(\"../../../HPFEM.jl/src/HPFEM.jl\")"
   ]
  },
  {
   "cell_type": "code",
   "execution_count": 2,
   "metadata": {
    "collapsed": false
   },
   "outputs": [
    {
     "data": {
      "text/plain": [
       "\"/home/augusto\""
      ]
     },
     "execution_count": 2,
     "metadata": {},
     "output_type": "execute_result"
    }
   ],
   "source": [
    "homedir()"
   ]
  },
  {
   "cell_type": "code",
   "execution_count": null,
   "metadata": {
    "collapsed": false
   },
   "outputs": [],
   "source": [
    "M = 4\n",
    "A = rand(M,M)\n",
    "id = [2,3]\n",
    "ih = setdiff([1:M],id) #complementar\n",
    "\n",
    "u = rand(M)\n",
    "f = rand(M)"
   ]
  },
  {
   "cell_type": "code",
   "execution_count": null,
   "metadata": {
    "collapsed": false
   },
   "outputs": [],
   "source": [
    "Ahh = A[ih,ih]\n",
    "Ahd = A[ih,id]\n",
    "fh  = f[ih] - Ahd * u[id]\n",
    "\n",
    "uh = Ahh\\fh"
   ]
  },
  {
   "cell_type": "code",
   "execution_count": null,
   "metadata": {
    "collapsed": false
   },
   "outputs": [],
   "source": [
    "function test(A0::AbstractArray{Float64,2}, idir)\n",
    "    M = size(A0,1)\n",
    "    nd = length(idir)\n",
    "    nh = M - nd\n",
    "\n",
    "    A = zeros(Float64, nh, nd)\n",
    "\n",
    "    ih = zeros(Int, nh)\n",
    "    id = zeros(Int, nd)\n",
    "    isx = falses(M)\n",
    "\n",
    "    for i in 1:nd\n",
    "        isx[idir[i]] = true\n",
    "        id[i] = idir[i]\n",
    "    end\n",
    "\n",
    "    count = 1\n",
    "    for i = 1:M\n",
    "        if !isx[i]\n",
    "            ih[count] = i\n",
    "            count = count + 1\n",
    "        end\n",
    "    end\n",
    "  \n",
    "    for j = 1:nd\n",
    "        for k = 1:nh\n",
    "            A[k,j] = A0[ih[k], id[k]]\n",
    "        end\n",
    "    end\n",
    "\n",
    "    new(M, nh, nd, A, ih, id)\n",
    "\n",
    "end"
   ]
  },
  {
   "cell_type": "code",
   "execution_count": null,
   "metadata": {
    "collapsed": false
   },
   "outputs": [],
   "source": [
    "A0 = copy(A)\n",
    "L = test(A0,id)"
   ]
  }
 ],
 "metadata": {
  "kernelspec": {
   "display_name": "Julia 0.4.5",
   "language": "julia",
   "name": "julia-0.4"
  },
  "language_info": {
   "file_extension": ".jl",
   "mimetype": "application/julia",
   "name": "julia",
   "version": "0.4.5"
  }
 },
 "nbformat": 4,
 "nbformat_minor": 0
}
