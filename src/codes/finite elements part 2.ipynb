{
 "cells": [
  {
   "cell_type": "markdown",
   "metadata": {},
   "source": [
    "## Elementos finitos linear 1D"
   ]
  },
  {
   "cell_type": "markdown",
   "metadata": {},
   "source": [
    "## Montar a matrix de massa"
   ]
  },
  {
   "cell_type": "code",
   "execution_count": 100,
   "metadata": {
    "collapsed": true
   },
   "outputs": [],
   "source": [
    "using Jacobi"
   ]
  },
  {
   "cell_type": "markdown",
   "metadata": {},
   "source": [
    "## Funções"
   ]
  },
  {
   "cell_type": "code",
   "execution_count": 101,
   "metadata": {
    "collapsed": false
   },
   "outputs": [
    {
     "data": {
      "text/plain": [
       "remap (generic function with 1 method)"
      ]
     },
     "execution_count": 101,
     "metadata": {},
     "output_type": "execute_result"
    }
   ],
   "source": [
    "remap(x,a,b) = ((1-x)*a + (1+x)*b)/2"
   ]
  },
  {
   "cell_type": "code",
   "execution_count": 102,
   "metadata": {
    "collapsed": false
   },
   "outputs": [
    {
     "data": {
      "text/plain": [
       "ψj (generic function with 1 method)"
      ]
     },
     "execution_count": 102,
     "metadata": {},
     "output_type": "execute_result"
    }
   ],
   "source": [
    "function ψj(p,E,Q)\n",
    "    if(p == 1)\n",
    "     return  (1-E)/2\n",
    "        elseif(p == 2)\n",
    "     return  (1+E)/2\n",
    "    else\n",
    "     return  (1-E)*(1+E)/4 .* jacobi(E, p-3, 1, 1)\n",
    "    end\n",
    "end "
   ]
  },
  {
   "cell_type": "code",
   "execution_count": 103,
   "metadata": {
    "collapsed": false
   },
   "outputs": [
    {
     "data": {
      "text/plain": [
       "ϕ_matrix (generic function with 1 method)"
      ]
     },
     "execution_count": 103,
     "metadata": {},
     "output_type": "execute_result"
    }
   ],
   "source": [
    "function  ϕ_matrix(ψj,Q,M)\n",
    "    ϕ = zeros(Q,M)\n",
    "    ξ = zglj(Q)\n",
    "    for i in 1:M\n",
    "        for j in 1:Q\n",
    "            ϕ[j,i] = ψj(i,ξ[j],M)\n",
    "        end\n",
    "    end\n",
    "  return ϕ\n",
    "end"
   ]
  },
  {
   "cell_type": "code",
   "execution_count": 104,
   "metadata": {
    "collapsed": false
   },
   "outputs": [
    {
     "data": {
      "text/plain": [
       "ϕ_matrix_interp (generic function with 1 method)"
      ]
     },
     "execution_count": 104,
     "metadata": {},
     "output_type": "execute_result"
    }
   ],
   "source": [
    "function  ϕ_matrix_interp(ψj,Q,M)\n",
    "    ϕ = zeros(Q,M)\n",
    "    ξ = linspace(-1,1,Q)\n",
    "    for i in 1:M\n",
    "        for j in 1:Q\n",
    "            ϕ[j,i] = ψj(i,ξ[j],M)\n",
    "        end\n",
    "    end\n",
    "  return ϕ\n",
    "end"
   ]
  },
  {
   "cell_type": "code",
   "execution_count": 105,
   "metadata": {
    "collapsed": false
   },
   "outputs": [
    {
     "data": {
      "text/plain": [
       "Me_matrix (generic function with 1 method)"
      ]
     },
     "execution_count": 105,
     "metadata": {},
     "output_type": "execute_result"
    }
   ],
   "source": [
    "function Me_matrix(ϕ,w,M,Q,a,b)\n",
    "    L = zeros(M,M)\n",
    "    jac = (b-a)/2\n",
    "    for i in 1:M\n",
    "        for j in 1:M\n",
    "           m= 0.0\n",
    "            for q in 1:Q\n",
    "                m = m + ϕ[q,i]*ϕ[q,j]*w[q]*jac\n",
    "            end\n",
    "            L[i,j] = m\n",
    "        end\n",
    "    end\n",
    "    return L\n",
    "end"
   ]
  },
  {
   "cell_type": "markdown",
   "metadata": {},
   "source": [
    "### $ϕ$ e  matriz de massa"
   ]
  },
  {
   "cell_type": "code",
   "execution_count": 106,
   "metadata": {
    "collapsed": false
   },
   "outputs": [],
   "source": [
    "Nel = 2\n",
    "I = 3\n",
    "nb = Nel + 1\n",
    "Q = 10\n",
    "\n",
    "#indices locais\n",
    "ib = 1:2\n",
    "ii = [3:I]\n",
    "\n",
    "#limites\n",
    "a = -1; \n",
    "b = 1;\n",
    "\n",
    "z = zglj(Q)\n",
    "w = wglj(z)\n",
    "ϕ = ϕ_matrix(ψj,Q,I);\n",
    "xn = [linspace(a,b,Nel+1);];"
   ]
  },
  {
   "cell_type": "code",
   "execution_count": 107,
   "metadata": {
    "collapsed": false
   },
   "outputs": [
    {
     "data": {
      "text/plain": [
       "2x2 Array{Int64,2}:\n",
       " 1  2\n",
       " 2  3"
      ]
     },
     "execution_count": 107,
     "metadata": {},
     "output_type": "execute_result"
    }
   ],
   "source": [
    "\n",
    "dof_map = zeros(Int, 2, Nel)\n",
    "for i = 1:Nel\n",
    "    dof_map[1,i] = i\n",
    "    dof_map[2,i] = i+1\n",
    "end\n",
    "dof_map"
   ]
  },
  {
   "cell_type": "code",
   "execution_count": 108,
   "metadata": {
    "collapsed": true
   },
   "outputs": [],
   "source": [
    "using ArrayViews\n",
    "using Base.LinAlg.BLAS.gemm!\n",
    "using Base.LinAlg.BLAS.gemv!\n",
    "using Base.LinAlg.LAPACK.potrf!\n",
    "using Base.LinAlg.LAPACK.potrs!"
   ]
  },
  {
   "cell_type": "code",
   "execution_count": 109,
   "metadata": {
    "collapsed": false
   },
   "outputs": [
    {
     "data": {
      "text/plain": [
       "3x3 Array{Float64,2}:\n",
       "  0.353553  -0.0416667   0.0      \n",
       " -0.117851   0.333333   -0.0416667\n",
       "  0.0       -0.125       0.330719 "
      ]
     },
     "execution_count": 109,
     "metadata": {},
     "output_type": "execute_result"
    }
   ],
   "source": [
    "ib = 1:2\n",
    "ii = [3]\n",
    "\n",
    "Abb = zeros(Nel+1,Nel+1)\n",
    "\n",
    "for e in 1:Nel\n",
    "    Me = Me_matrix(ϕ, w, I, Q, xn[e], xn[e+1]) ;\n",
    "    Mbb = Me[ib,ib]\n",
    "    Mbi = Me[ib,ii]\n",
    "    Mib = Me[ii,ib]\n",
    "    Mii = Me[ii,ii]\n",
    "    \n",
    "    potrf!('L',Mii); #Mii^-1\n",
    "    M = copy(Mib)\n",
    "    potrs!('L',Mii,M) # M = Mii^-1 * Mbi\n",
    "    gemm!('T', 'N', -1.0, Mib, M, 1.0, Mbb) # Mbb = -1*M*Mib + Mbb\n",
    "    \n",
    "    for i in 1:2\n",
    "        ig = dof_map[e,i]\n",
    "        for j in 1:2\n",
    "            jg = dof_map[e,j]\n",
    "            Abb[ig,jg] = Mbb[i,j]\n",
    "        end\n",
    "    end\n",
    "end\n",
    "potrf!('L',Abb)\n",
    "Abb"
   ]
  },
  {
   "cell_type": "markdown",
   "metadata": {},
   "source": [
    "## RHS"
   ]
  },
  {
   "cell_type": "code",
   "execution_count": 110,
   "metadata": {
    "collapsed": false
   },
   "outputs": [
    {
     "data": {
      "text/plain": [
       "5-element Array{Float64,1}:\n",
       "  0.25     \n",
       "  0.166667 \n",
       " -0.0833333\n",
       "  0.25     \n",
       "  0.25     "
      ]
     },
     "execution_count": 110,
     "metadata": {},
     "output_type": "execute_result"
    }
   ],
   "source": [
    "fun(x) = cos(2*pi*x)\n",
    "#calcula F\n",
    "\n",
    "F = zeros(Nel+1 + Nel*(I-2))\n",
    "for e = 1:Nel\n",
    "    Me = Me_matrix(ϕ, w, I, Q, xn[e], xn[e+1]) ;\n",
    "    Fe = Me * fun(linspace(xn[e],xn[e+1],I))\n",
    "    for i = 1:2\n",
    "        ig = dof_map[i,e]\n",
    "        F[ig] += Fe[i]\n",
    "    end\n",
    "    for i = 1:I-2\n",
    "        ig = nb +(e -1)*(I-2) + i\n",
    "        F[ig] += Fe[i]\n",
    "    end\n",
    "end\n",
    "F"
   ]
  },
  {
   "cell_type": "code",
   "execution_count": 111,
   "metadata": {
    "collapsed": false
   },
   "outputs": [],
   "source": [
    "for e in 1:Nel\n",
    "    Me = Me_matrix(ϕ, w, I, Q, xn[e], xn[e+1]) ;\n",
    "    Mbb = Me[ib,ib]\n",
    "    Mbi = Me[ib,ii]\n",
    "    Mib = Me[ii,ib]\n",
    "    Mii = Me[ii,ii]\n",
    "    fb  = F[dof_map[e,:]]\n",
    "    i_g = nb + (e -1)*(I-2) + collect(1:I-2)\n",
    "    fi  = F[i_g]\n",
    "      \n",
    "    potrf!('L',Mii);\n",
    "    M = copy(Mib)\n",
    "    potrs!('L',Mii,M) # M = Mii^-1 * M\n",
    "    gemv!('T',-1.0,M,vec(fi), 1.0, vec(fb)) #fbb = -1*M^T*fi + fb\n",
    "    for i in 1:2\n",
    "        ig = dof_map[e,i]\n",
    "        F[ig] = fb[i]\n",
    "    end\n",
    "    \n",
    "end\n"
   ]
  },
  {
   "cell_type": "markdown",
   "metadata": {},
   "source": [
    "# Solve $A^*_{bb}\\ u_b =\\ f^*_b$"
   ]
  },
  {
   "cell_type": "code",
   "execution_count": 112,
   "metadata": {
    "collapsed": false
   },
   "outputs": [],
   "source": [
    "U = zeros(Nel+1+Nel*(I-2))\n",
    "Ub = sub(U,1:Nel+1)\n",
    "Ui = sub(U,(Nel+2):length(U))\n",
    "Ub = Abb\\Fb\n",
    "U[1:Nel+1] = Ub;"
   ]
  },
  {
   "cell_type": "markdown",
   "metadata": {},
   "source": [
    "### $u_i = A_{ii}^{-1}f_i - A_{ii}^{-1} A_{bi}^t u_b$"
   ]
  },
  {
   "cell_type": "code",
   "execution_count": 113,
   "metadata": {
    "collapsed": false
   },
   "outputs": [],
   "source": [
    "\n",
    "for e in 1:Nel\n",
    "    Me = Me_matrix(ϕ, w, I, Q, xn[e], xn[e+1]) ;\n",
    "    Mbb = Me[ib,ib]\n",
    "    Mbi = Me[ib,ii]\n",
    "    Mib = Me[ii,ib]\n",
    "    Mii = Me[ii,ii]\n",
    "    \n",
    "    ub  = U[dof_map[e,:]]\n",
    "    i_g = nb + (e -1)*(I-2) + collect(1:I-2)\n",
    "    fi  = F[i_g]\n",
    "\n",
    "    potrf!('L',Mii);\n",
    "    M = copy(Mbi)\n",
    "   \n",
    "    gemv!('T',-1.0,M,vec(ub), 1.0, vec(fi)) #fi = -1*M^T*ub + fi\n",
    "   \n",
    "    potrs!('L',Mii,fi) #fi = Mii^-1 * fi\n",
    "    \n",
    "    for i in 1:I-2\n",
    "        ig = nb + (e -1)*(I-2) + i \n",
    "        U[ig] = fi[i]\n",
    "    end\n",
    "    \n",
    "end"
   ]
  },
  {
   "cell_type": "code",
   "execution_count": 114,
   "metadata": {
    "collapsed": false
   },
   "outputs": [
    {
     "data": {
      "text/plain": [
       "5-element Array{Float64,1}:\n",
       " -3.30074e-16\n",
       " -5.96404e-16\n",
       " -1.63703e-16\n",
       "  7.5        \n",
       "  7.5        "
      ]
     },
     "execution_count": 114,
     "metadata": {},
     "output_type": "execute_result"
    }
   ],
   "source": [
    "U"
   ]
  },
  {
   "cell_type": "code",
   "execution_count": 115,
   "metadata": {
    "collapsed": false
   },
   "outputs": [
    {
     "data": {
      "text/plain": [
       "5-element Array{Float64,1}:\n",
       "  1.0\n",
       " -1.0\n",
       "  1.0\n",
       " -1.0\n",
       "  1.0"
      ]
     },
     "execution_count": 115,
     "metadata": {},
     "output_type": "execute_result"
    }
   ],
   "source": [
    "fun(linspace(-1,1,5))"
   ]
  },
  {
   "cell_type": "code",
   "execution_count": 116,
   "metadata": {
    "collapsed": false
   },
   "outputs": [
    {
     "data": {
      "text/plain": [
       "5-element Array{Float64,1}:\n",
       " -1.0\n",
       " -0.5\n",
       "  0.0\n",
       "  0.5\n",
       "  1.0"
      ]
     },
     "execution_count": 116,
     "metadata": {},
     "output_type": "execute_result"
    }
   ],
   "source": [
    "[-1:.5:1]"
   ]
  }
 ],
 "metadata": {
  "kernelspec": {
   "display_name": "Julia 0.4.2",
   "language": "julia",
   "name": "julia-0.4"
  },
  "language_info": {
   "file_extension": ".jl",
   "mimetype": "application/julia",
   "name": "julia",
   "version": "0.4.2"
  }
 },
 "nbformat": 4,
 "nbformat_minor": 0
}
