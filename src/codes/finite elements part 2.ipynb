{
 "cells": [
  {
   "cell_type": "markdown",
   "metadata": {},
   "source": [
    "## Elementos finitos linear 1D"
   ]
  },
  {
   "cell_type": "markdown",
   "metadata": {},
   "source": [
    "## Montar a matrix de massa"
   ]
  },
  {
   "cell_type": "code",
   "execution_count": 21,
   "metadata": {
    "collapsed": true
   },
   "outputs": [],
   "source": [
    "using Jacobi"
   ]
  },
  {
   "cell_type": "markdown",
   "metadata": {},
   "source": [
    "## Funções"
   ]
  },
  {
   "cell_type": "code",
   "execution_count": 22,
   "metadata": {
    "collapsed": false
   },
   "outputs": [
    {
     "data": {
      "text/plain": [
       "remap (generic function with 1 method)"
      ]
     },
     "execution_count": 22,
     "metadata": {},
     "output_type": "execute_result"
    }
   ],
   "source": [
    "remap(x,a,b) = ((1-x)*a + (1+x)*b)/2"
   ]
  },
  {
   "cell_type": "code",
   "execution_count": 23,
   "metadata": {
    "collapsed": false
   },
   "outputs": [
    {
     "data": {
      "text/plain": [
       "ψj (generic function with 1 method)"
      ]
     },
     "execution_count": 23,
     "metadata": {},
     "output_type": "execute_result"
    }
   ],
   "source": [
    "function ψj(p,E,Q)\n",
    "    if(p == 1)\n",
    "     return  (1-E)/2\n",
    "        elseif(p == 2)\n",
    "     return  (1+E)/2\n",
    "    else\n",
    "     return  (1-E)*(1+E)/4 .* jacobi(E, p-3, 1, 1)\n",
    "    end\n",
    "end "
   ]
  },
  {
   "cell_type": "code",
   "execution_count": 24,
   "metadata": {
    "collapsed": false
   },
   "outputs": [
    {
     "data": {
      "text/plain": [
       "ϕ_matrix (generic function with 1 method)"
      ]
     },
     "execution_count": 24,
     "metadata": {},
     "output_type": "execute_result"
    }
   ],
   "source": [
    "function  ϕ_matrix(ψj,Q,M)\n",
    "    ϕ = zeros(Q,M)\n",
    "    ξ = zglj(Q)\n",
    "    for i in 1:M\n",
    "        for j in 1:Q\n",
    "            ϕ[j,i] = ψj(i,ξ[j],M)\n",
    "        end\n",
    "    end\n",
    "  return ϕ\n",
    "end"
   ]
  },
  {
   "cell_type": "code",
   "execution_count": 25,
   "metadata": {
    "collapsed": false
   },
   "outputs": [
    {
     "data": {
      "text/plain": [
       "ϕ_matrix_interp (generic function with 1 method)"
      ]
     },
     "execution_count": 25,
     "metadata": {},
     "output_type": "execute_result"
    }
   ],
   "source": [
    "function  ϕ_matrix_interp(ψj,Q,M)\n",
    "    ϕ = zeros(Q,M)\n",
    "    ξ = linspace(-1,1,Q)\n",
    "    for i in 1:M\n",
    "        for j in 1:Q\n",
    "            ϕ[j,i] = ψj(i,ξ[j],M)\n",
    "        end\n",
    "    end\n",
    "  return ϕ\n",
    "end"
   ]
  },
  {
   "cell_type": "code",
   "execution_count": 26,
   "metadata": {
    "collapsed": false
   },
   "outputs": [
    {
     "data": {
      "text/plain": [
       "Me_matrix (generic function with 1 method)"
      ]
     },
     "execution_count": 26,
     "metadata": {},
     "output_type": "execute_result"
    }
   ],
   "source": [
    "function Me_matrix(ϕ,w,M,Q,a,b)\n",
    "    L = zeros(M,M)\n",
    "    jac = (b-a)/2\n",
    "    for i in 1:M\n",
    "        for j in 1:M\n",
    "           m= 0.0\n",
    "            for q in 1:Q\n",
    "                m = m + ϕ[q,i]*ϕ[q,j]*w[q]*jac\n",
    "            end\n",
    "            L[i,j] = m\n",
    "        end\n",
    "    end\n",
    "    return L\n",
    "end"
   ]
  },
  {
   "cell_type": "markdown",
   "metadata": {},
   "source": [
    "### $ϕ$ e  matriz de massa"
   ]
  },
  {
   "cell_type": "code",
   "execution_count": 27,
   "metadata": {
    "collapsed": false
   },
   "outputs": [
    {
     "data": {
      "text/plain": [
       "7x50 Array{Float64,2}:\n",
       " -1.0       -0.96      -0.92      -0.88      …  0.88      0.92      0.96    \n",
       " -0.996604  -0.956604  -0.916604  -0.876604     0.883396  0.923396  0.963396\n",
       " -0.989377  -0.949377  -0.909377  -0.869377     0.890623  0.930623  0.970623\n",
       " -0.98      -0.94      -0.9       -0.86         0.9       0.94      0.98    \n",
       " -0.970623  -0.930623  -0.890623  -0.850623     0.909377  0.949377  0.989377\n",
       " -0.963396  -0.923396  -0.883396  -0.843396  …  0.916604  0.956604  0.996604\n",
       " -0.96      -0.92      -0.88      -0.84         0.92      0.96      1.0     "
      ]
     },
     "execution_count": 27,
     "metadata": {},
     "output_type": "execute_result"
    }
   ],
   "source": [
    "Nel = 50\n",
    "I = 5\n",
    "nb = Nel + 1\n",
    "ni = (I-2)\n",
    "Q = I+2\n",
    "\n",
    "#indices locais\n",
    "ib = collect(1:2)\n",
    "ii = collect(3:I)\n",
    "\n",
    "#limites\n",
    "a = -1; \n",
    "b = 1;\n",
    "\n",
    "z = zglj(Q)\n",
    "w = wglj(z)\n",
    "ϕ = ϕ_matrix(ψj,Q,I);\n",
    "xn = [linspace(a,b,Nel+1);];\n",
    "X = zeros(Q,Nel)\n",
    "remap(x,a,b) = ((1-x)*a + (1+x)*b)/2\n",
    "for e in 1:Nel\n",
    "    X[:,e] = [remap(x,xn[e],xn[e+1]) for x in z]\n",
    "end\n",
    "X"
   ]
  },
  {
   "cell_type": "code",
   "execution_count": 28,
   "metadata": {
    "collapsed": false
   },
   "outputs": [
    {
     "data": {
      "text/plain": [
       "2x50 Array{Int64,2}:\n",
       " 1  2  3  4  5  6  7  8   9  10  11  …  42  43  44  45  46  47  48  49  50\n",
       " 2  3  4  5  6  7  8  9  10  11  12     43  44  45  46  47  48  49  50  51"
      ]
     },
     "execution_count": 28,
     "metadata": {},
     "output_type": "execute_result"
    }
   ],
   "source": [
    "\n",
    "dof_map = zeros(Int, 2, Nel)\n",
    "for i = 1:Nel\n",
    "    dof_map[1,i] = i\n",
    "    dof_map[2,i] = i+1\n",
    "end\n",
    "dof_map"
   ]
  },
  {
   "cell_type": "code",
   "execution_count": 29,
   "metadata": {
    "collapsed": true
   },
   "outputs": [],
   "source": [
    "\n",
    "using Base.LinAlg.BLAS.gemm!\n",
    "using Base.LinAlg.BLAS.gemv!\n",
    "using Base.LinAlg.LAPACK.potrf!\n",
    "using Base.LinAlg.LAPACK.potrs!"
   ]
  },
  {
   "cell_type": "markdown",
   "metadata": {},
   "source": [
    "### $ A_{bb}^* = (A_{bb} - A_{bi} A_{ii}^{-1} A_{ib})  $"
   ]
  },
  {
   "cell_type": "code",
   "execution_count": 30,
   "metadata": {
    "collapsed": false
   },
   "outputs": [],
   "source": [
    "Abb = zeros(Nel+1,Nel+1)\n",
    "M = Vector{Array{Float64,2}}(Nel)\n",
    "Mii = Vector{Array{Float64,2}}(Nel)\n",
    "for e in 1:Nel\n",
    "    Me  = Me_matrix(ϕ,w,I,Q,a,b)\n",
    "    Mbb = Me[ib,ib]\n",
    "    Mbi = Me[ib,ii]\n",
    "    Mib = Me[ii,ib]\n",
    "    Mii[e] = Me[ii,ii]\n",
    "    \n",
    "    potrf!('L',Mii[e]); #Mii^-1\n",
    "    M[e] = copy(Mib)\n",
    "    potrs!('L',Mii[e],M[e]) # M = Mii^-1 * Mbi\n",
    "    gemm!('T', 'N', -1.0, M[e], Mib, 1.0, Mbb) # Mbb = -1*M*Mib + Mbb\n",
    "    \n",
    "    for i in 1:2\n",
    "        ig = dof_map[i,e]\n",
    "        for j in 1:2\n",
    "            jg = dof_map[j,e]\n",
    "            Abb[ig,jg] += Mbb[i,j]\n",
    "        end\n",
    "    end\n",
    "end\n",
    "\n",
    "potrf!('L',Abb);\n"
   ]
  },
  {
   "cell_type": "code",
   "execution_count": 31,
   "metadata": {
    "collapsed": false
   },
   "outputs": [
    {
     "data": {
      "text/plain": [
       "51x51 Array{Float64,2}:\n",
       "  0.288675  -0.0166667   0.0        …   0.0         0.0         0.0      \n",
       " -0.057735   0.404145   -0.0166667      0.0         0.0         0.0      \n",
       "  0.0       -0.0412393   0.40616        0.0         0.0         0.0      \n",
       "  0.0        0.0        -0.0410347      0.0         0.0         0.0      \n",
       "  0.0        0.0         0.0            0.0         0.0         0.0      \n",
       "  0.0        0.0         0.0        …   0.0         0.0         0.0      \n",
       "  0.0        0.0         0.0            0.0         0.0         0.0      \n",
       "  0.0        0.0         0.0            0.0         0.0         0.0      \n",
       "  0.0        0.0         0.0            0.0         0.0         0.0      \n",
       "  0.0        0.0         0.0            0.0         0.0         0.0      \n",
       "  0.0        0.0         0.0        …   0.0         0.0         0.0      \n",
       "  0.0        0.0         0.0            0.0         0.0         0.0      \n",
       "  0.0        0.0         0.0            0.0         0.0         0.0      \n",
       "  ⋮                                 ⋱                           ⋮        \n",
       "  0.0        0.0         0.0            0.0         0.0         0.0      \n",
       "  0.0        0.0         0.0        …   0.0         0.0         0.0      \n",
       "  0.0        0.0         0.0            0.0         0.0         0.0      \n",
       "  0.0        0.0         0.0            0.0         0.0         0.0      \n",
       "  0.0        0.0         0.0            0.0         0.0         0.0      \n",
       "  0.0        0.0         0.0            0.0         0.0         0.0      \n",
       "  0.0        0.0         0.0        …   0.0         0.0         0.0      \n",
       "  0.0        0.0         0.0            0.0         0.0         0.0      \n",
       "  0.0        0.0         0.0           -0.0166667   0.0         0.0      \n",
       "  0.0        0.0         0.0            0.406181   -0.0166667   0.0      \n",
       "  0.0        0.0         0.0           -0.0410326   0.406181   -0.0166667\n",
       "  0.0        0.0         0.0        …   0.0        -0.0410326   0.285744 "
      ]
     },
     "execution_count": 31,
     "metadata": {},
     "output_type": "execute_result"
    }
   ],
   "source": [
    "Abb"
   ]
  },
  {
   "cell_type": "markdown",
   "metadata": {},
   "source": [
    "## RHS"
   ]
  },
  {
   "cell_type": "code",
   "execution_count": 32,
   "metadata": {
    "collapsed": false
   },
   "outputs": [
    {
     "data": {
      "text/plain": [
       "5x50 Array{Float64,2}:\n",
       "  0.0198949    0.0188545     0.0166294    …   0.0182387     0.0196853 \n",
       "  0.0196853    0.0182387     0.0156461        0.0188545     0.0198949 \n",
       "  0.00660366   0.00618873    0.00538493       0.00618873    0.00660366\n",
       " -4.19522e-5  -0.000123221  -0.000196747      0.000123221   4.19522e-5\n",
       " -8.94463e-6  -8.38261e-6   -7.29387e-6      -8.38261e-6   -8.94463e-6"
      ]
     },
     "execution_count": 32,
     "metadata": {},
     "output_type": "execute_result"
    }
   ],
   "source": [
    "fun(x) = cos(2*pi*x)\n",
    "#calcula F\n",
    "Fe = zeros(I,Nel)\n",
    "for e = 1:Nel\n",
    "    jac = (xn[e+1] - xn[e] )/2\n",
    "    for i in 1:I\n",
    "        temp = 0.0\n",
    "        for q in 1:Q\n",
    "            temp += fun(X[q,e])* ϕ[q,i] * w[q] * jac\n",
    "        end\n",
    "        Fe[i,e] = temp\n",
    "    end\n",
    "end\n",
    "Fe"
   ]
  },
  {
   "cell_type": "code",
   "execution_count": 33,
   "metadata": {
    "collapsed": false
   },
   "outputs": [],
   "source": [
    "B = Fe[:,1]\n",
    "Bb = B[ib]\n",
    "Bi = B[ii];"
   ]
  },
  {
   "cell_type": "markdown",
   "metadata": {},
   "source": [
    "### $f_b^* =f_b - A_{bi} A_{ii}^{-1} f_i$"
   ]
  },
  {
   "cell_type": "code",
   "execution_count": 34,
   "metadata": {
    "collapsed": false
   },
   "outputs": [
    {
     "data": {
      "text/plain": [
       "51-element Array{Float64,1}:\n",
       "  0.00134381 \n",
       "  0.00260317 \n",
       "  0.00235517 \n",
       "  0.00195918 \n",
       "  0.00144009 \n",
       "  0.000830518\n",
       "  0.000168757\n",
       " -0.000503608\n",
       " -0.00114433 \n",
       " -0.00171315 \n",
       " -0.00217432 \n",
       " -0.00249888 \n",
       " -0.00266642 \n",
       "  ⋮          \n",
       " -0.00249888 \n",
       " -0.00217432 \n",
       " -0.00171315 \n",
       " -0.00114433 \n",
       " -0.000503608\n",
       "  0.000168757\n",
       "  0.000830518\n",
       "  0.00144009 \n",
       "  0.00195918 \n",
       "  0.00235517 \n",
       "  0.00260317 \n",
       "  0.00134381 "
      ]
     },
     "execution_count": 34,
     "metadata": {},
     "output_type": "execute_result"
    }
   ],
   "source": [
    "Fb = zeros(nb)\n",
    "\n",
    "for e in 1:Nel\n",
    "    fe  = Fe[:,e]\n",
    "    fb  = fe[ib]\n",
    "    fi  = fe[ii]\n",
    "    gemv!('T',-1.0,M[e],fi, 1.0, fb) #fbb = -1*M^T*fi + fb\n",
    "\n",
    "    for i in 1:2\n",
    "        ig = dof_map[i,e]\n",
    "        Fb[ig] += fb[i]\n",
    "    end\n",
    "end\n",
    "Fb"
   ]
  },
  {
   "cell_type": "markdown",
   "metadata": {},
   "source": [
    "# Solve   $A^*_{bb}\\ u_b =\\ f^*_b$"
   ]
  },
  {
   "cell_type": "code",
   "execution_count": 35,
   "metadata": {
    "collapsed": false
   },
   "outputs": [
    {
     "data": {
      "text/plain": [
       "51x51 Array{Float64,2}:\n",
       "  0.288675  -0.0166667   0.0        …   0.0         0.0         0.0      \n",
       " -0.057735   0.404145   -0.0166667      0.0         0.0         0.0      \n",
       "  0.0       -0.0412393   0.40616        0.0         0.0         0.0      \n",
       "  0.0        0.0        -0.0410347      0.0         0.0         0.0      \n",
       "  0.0        0.0         0.0            0.0         0.0         0.0      \n",
       "  0.0        0.0         0.0        …   0.0         0.0         0.0      \n",
       "  0.0        0.0         0.0            0.0         0.0         0.0      \n",
       "  0.0        0.0         0.0            0.0         0.0         0.0      \n",
       "  0.0        0.0         0.0            0.0         0.0         0.0      \n",
       "  0.0        0.0         0.0            0.0         0.0         0.0      \n",
       "  0.0        0.0         0.0        …   0.0         0.0         0.0      \n",
       "  0.0        0.0         0.0            0.0         0.0         0.0      \n",
       "  0.0        0.0         0.0            0.0         0.0         0.0      \n",
       "  ⋮                                 ⋱                           ⋮        \n",
       "  0.0        0.0         0.0            0.0         0.0         0.0      \n",
       "  0.0        0.0         0.0        …   0.0         0.0         0.0      \n",
       "  0.0        0.0         0.0            0.0         0.0         0.0      \n",
       "  0.0        0.0         0.0            0.0         0.0         0.0      \n",
       "  0.0        0.0         0.0            0.0         0.0         0.0      \n",
       "  0.0        0.0         0.0            0.0         0.0         0.0      \n",
       "  0.0        0.0         0.0        …   0.0         0.0         0.0      \n",
       "  0.0        0.0         0.0            0.0         0.0         0.0      \n",
       "  0.0        0.0         0.0           -0.0166667   0.0         0.0      \n",
       "  0.0        0.0         0.0            0.406181   -0.0166667   0.0      \n",
       "  0.0        0.0         0.0           -0.0410326   0.406181   -0.0166667\n",
       "  0.0        0.0         0.0        …   0.0        -0.0410326   0.285744 "
      ]
     },
     "execution_count": 35,
     "metadata": {},
     "output_type": "execute_result"
    }
   ],
   "source": [
    "Abb"
   ]
  },
  {
   "cell_type": "code",
   "execution_count": 36,
   "metadata": {
    "collapsed": false
   },
   "outputs": [
    {
     "data": {
      "text/plain": [
       "51-element Array{Float64,1}:\n",
       "  0.02      \n",
       "  0.0193717 \n",
       "  0.0175261 \n",
       "  0.0145794 \n",
       "  0.0107165 \n",
       "  0.00618034\n",
       "  0.00125581\n",
       " -0.00374763\n",
       " -0.00851559\n",
       " -0.0127485 \n",
       " -0.0161803 \n",
       " -0.0185955 \n",
       " -0.0198423 \n",
       "  ⋮         \n",
       " -0.0185955 \n",
       " -0.0161803 \n",
       " -0.0127485 \n",
       " -0.00851559\n",
       " -0.00374763\n",
       "  0.00125581\n",
       "  0.00618034\n",
       "  0.0107165 \n",
       "  0.0145794 \n",
       "  0.0175261 \n",
       "  0.0193717 \n",
       "  0.02      "
      ]
     },
     "execution_count": 36,
     "metadata": {},
     "output_type": "execute_result"
    }
   ],
   "source": [
    "potrs!('L',Abb,Fb)\n",
    "Ub = Fb\n"
   ]
  },
  {
   "cell_type": "markdown",
   "metadata": {},
   "source": [
    "### $u_i = A_{ii}^{-1}f_i - A_{ii}^{-1} A_{bi}^t u_b$"
   ]
  },
  {
   "cell_type": "code",
   "execution_count": 37,
   "metadata": {
    "collapsed": false
   },
   "outputs": [
    {
     "data": {
      "text/plain": [
       "5x50 Array{Float64,2}:\n",
       "  0.02          0.0193717     0.0175261    …   0.0175261     0.0193717  \n",
       "  0.0193717     0.0175261     0.0145794        0.0193717     0.02       \n",
       "  0.000625685   0.000586371   0.000510213      0.000586371   0.000625685\n",
       " -1.65634e-6   -4.86494e-6   -7.76786e-6       4.86494e-6    1.65634e-6 \n",
       " -2.19413e-7   -2.05626e-7   -1.7892e-7       -2.05626e-7   -2.19413e-7 "
      ]
     },
     "execution_count": 37,
     "metadata": {},
     "output_type": "execute_result"
    }
   ],
   "source": [
    "U = zeros(I,Nel)\n",
    "for e in 1:Nel\n",
    "    ub  = Ub[vec(dof_map[:,e])]\n",
    "    fe  = Fe[:,e]\n",
    "    fi  = fe[ii]\n",
    "\n",
    "    potrs!('L',Mii[e],fi)\n",
    "    gemv!('N',-1.0,M[e],ub,1.0,fi) #fi = -1*M*ub + fi\n",
    "    \n",
    "    U[ib,e] = ub\n",
    "    U[ii,e] = fi\n",
    "end\n",
    "U"
   ]
  },
  {
   "cell_type": "code",
   "execution_count": 38,
   "metadata": {
    "collapsed": false
   },
   "outputs": [
    {
     "data": {
      "text/plain": [
       "7x50 Array{Float64,2}:\n",
       " 0.02       0.0193717  0.0175261  …  0.0145794  0.0175261  0.0193717\n",
       " 0.0199954  0.0192611  0.0173166     0.0148681  0.0177277  0.0194734\n",
       " 0.0199555  0.0189968  0.0168445     0.0154601  0.0181297  0.0196603\n",
       " 0.0198423  0.0185955  0.0161803     0.0161803  0.0185955  0.0198423\n",
       " 0.0196603  0.0181297  0.0154601     0.0168445  0.0189968  0.0199555\n",
       " 0.0194734  0.0177277  0.0148681  …  0.0173166  0.0192611  0.0199954\n",
       " 0.0193717  0.0175261  0.0145794     0.0175261  0.0193717  0.02     "
      ]
     },
     "execution_count": 38,
     "metadata": {},
     "output_type": "execute_result"
    }
   ],
   "source": [
    "Uh = zeros(Q,Nel)\n",
    "for e in 1:Nel\n",
    "    Uh[:,e] = ϕ*U[:,e]\n",
    "end\n",
    "Uh"
   ]
  },
  {
   "cell_type": "code",
   "execution_count": 39,
   "metadata": {
    "collapsed": false
   },
   "outputs": [],
   "source": [
    "using PyPlot"
   ]
  },
  {
   "cell_type": "code",
   "execution_count": 40,
   "metadata": {
    "collapsed": false
   },
   "outputs": [
    {
     "data": {
      "image/png": "[encoded data removed]",
      "text/plain": [
       "PyPlot.Figure(PyObject <matplotlib.figure.Figure object at 0x7f7461dcbad0>)"
      ]
     },
     "metadata": {},
     "output_type": "display_data"
    }
   ],
   "source": [
    "for e in 1:Nel\n",
    "    plot(X[:,e],Uh[:,e])\n",
    "    plot(X[:,e],fun(X[:,e]),\"o\")\n",
    "    #legend()\n",
    "end\n"
   ]
  },
  {
   "cell_type": "code",
   "execution_count": null,
   "metadata": {
    "collapsed": true
   },
   "outputs": [],
   "source": []
  },
  {
   "cell_type": "code",
   "execution_count": null,
   "metadata": {
    "collapsed": true
   },
   "outputs": [],
   "source": []
  },
  {
   "cell_type": "code",
   "execution_count": null,
   "metadata": {
    "collapsed": true
   },
   "outputs": [],
   "source": []
  },
  {
   "cell_type": "code",
   "execution_count": null,
   "metadata": {
    "collapsed": true
   },
   "outputs": [],
   "source": []
  }
 ],
 "metadata": {
  "kernelspec": {
   "display_name": "Julia 0.4.5",
   "language": "julia",
   "name": "julia-0.4"
  },
  "language_info": {
   "file_extension": ".jl",
   "mimetype": "application/julia",
   "name": "julia",
   "version": "0.4.5"
  }
 },
 "nbformat": 4,
 "nbformat_minor": 0
}
