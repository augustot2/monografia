{
 "cells": [
  {
   "cell_type": "markdown",
   "metadata": {},
   "source": [
    "## Elementos finitos linear 1D"
   ]
  },
  {
   "cell_type": "markdown",
   "metadata": {},
   "source": [
    "## Montar a matrix de massa"
   ]
  },
  {
   "cell_type": "code",
   "execution_count": 1,
   "metadata": {
    "collapsed": true
   },
   "outputs": [],
   "source": [
    "using Jacobi"
   ]
  },
  {
   "cell_type": "markdown",
   "metadata": {},
   "source": [
    "## Funções"
   ]
  },
  {
   "cell_type": "code",
   "execution_count": 2,
   "metadata": {
    "collapsed": false
   },
   "outputs": [
    {
     "data": {
      "text/plain": [
       "remap (generic function with 1 method)"
      ]
     },
     "execution_count": 2,
     "metadata": {},
     "output_type": "execute_result"
    }
   ],
   "source": [
    "remap(x,a,b) = ((1-x)*a + (1+x)*b)/2"
   ]
  },
  {
   "cell_type": "code",
   "execution_count": 3,
   "metadata": {
    "collapsed": false
   },
   "outputs": [
    {
     "data": {
      "text/plain": [
       "ψj (generic function with 1 method)"
      ]
     },
     "execution_count": 3,
     "metadata": {},
     "output_type": "execute_result"
    }
   ],
   "source": [
    "function ψj(p,E,Q)\n",
    "    if(p == 1)\n",
    "     return  (1-E)/2\n",
    "        elseif(p == 2)\n",
    "     return  (1+E)/2\n",
    "    else\n",
    "     return  (1-E)*(1+E)/4 .* jacobi(E, p-3, 1, 1)\n",
    "    end\n",
    "end "
   ]
  },
  {
   "cell_type": "code",
   "execution_count": 4,
   "metadata": {
    "collapsed": false
   },
   "outputs": [
    {
     "data": {
      "text/plain": [
       "ϕ_matrix (generic function with 1 method)"
      ]
     },
     "execution_count": 4,
     "metadata": {},
     "output_type": "execute_result"
    }
   ],
   "source": [
    "function  ϕ_matrix(ψj,Q,M)\n",
    "    ϕ = zeros(Q,M)\n",
    "    ξ = zglj(Q)\n",
    "    for i in 1:M\n",
    "        for j in 1:Q\n",
    "            ϕ[j,i] = ψj(i,ξ[j],M)\n",
    "        end\n",
    "    end\n",
    "  return ϕ\n",
    "end"
   ]
  },
  {
   "cell_type": "code",
   "execution_count": 5,
   "metadata": {
    "collapsed": false
   },
   "outputs": [
    {
     "data": {
      "text/plain": [
       "ϕ_matrix_interp (generic function with 1 method)"
      ]
     },
     "execution_count": 5,
     "metadata": {},
     "output_type": "execute_result"
    }
   ],
   "source": [
    "function  ϕ_matrix_interp(ψj,Q,M)\n",
    "    ϕ = zeros(Q,M)\n",
    "    ξ = linspace(-1,1,Q)\n",
    "    for i in 1:M\n",
    "        for j in 1:Q\n",
    "            ϕ[j,i] = ψj(i,ξ[j],M)\n",
    "        end\n",
    "    end\n",
    "  return ϕ\n",
    "end"
   ]
  },
  {
   "cell_type": "code",
   "execution_count": 31,
   "metadata": {
    "collapsed": false
   },
   "outputs": [
    {
     "data": {
      "text/plain": [
       "Me_matrix (generic function with 1 method)"
      ]
     },
     "execution_count": 31,
     "metadata": {},
     "output_type": "execute_result"
    }
   ],
   "source": [
    "function Me_matrix(ϕ,w,M,Q,a,b)\n",
    "    L = zeros(M,M)\n",
    "    jac = (b-a)/2\n",
    "    for i in 1:M\n",
    "        for j in 1:M\n",
    "           m= 0.0\n",
    "            for q in 1:Q\n",
    "                m = m + ϕ[q,i]*ϕ[q,j]*w[q]*jac\n",
    "            end\n",
    "            L[i,j] = m\n",
    "        end\n",
    "    end\n",
    "    return L\n",
    "end"
   ]
  },
  {
   "cell_type": "code",
   "execution_count": 30,
   "metadata": {
    "collapsed": false
   },
   "outputs": [
    {
     "data": {
      "text/plain": [
       "1.0"
      ]
     },
     "execution_count": 30,
     "metadata": {},
     "output_type": "execute_result"
    }
   ],
   "source": []
  },
  {
   "cell_type": "markdown",
   "metadata": {},
   "source": [
    "### $ϕ$ e  matriz de massa"
   ]
  },
  {
   "cell_type": "code",
   "execution_count": 7,
   "metadata": {
    "collapsed": false
   },
   "outputs": [
    {
     "data": {
      "text/plain": [
       "7x5 Array{Float64,2}:\n",
       " -1.0       -0.6       -0.2        0.2       0.6     \n",
       " -0.966045  -0.566045  -0.166045   0.233955  0.633955\n",
       " -0.89377   -0.49377   -0.0937698  0.30623   0.70623 \n",
       " -0.8       -0.4        0.0        0.4       0.8     \n",
       " -0.70623   -0.30623    0.0937698  0.49377   0.89377 \n",
       " -0.633955  -0.233955   0.166045   0.566045  0.966045\n",
       " -0.6       -0.2        0.2        0.6       1.0     "
      ]
     },
     "execution_count": 7,
     "metadata": {},
     "output_type": "execute_result"
    }
   ],
   "source": [
    "Nel = 5\n",
    "I = 5\n",
    "nb = Nel + 1\n",
    "ni = (I-2)\n",
    "Q = I+2\n",
    "\n",
    "#indices locais\n",
    "ib = collect(1:2)\n",
    "ii = collect(3:I)\n",
    "\n",
    "#limites\n",
    "a = -1; \n",
    "b = 1;\n",
    "\n",
    "z = zglj(Q)\n",
    "w = wglj(z)\n",
    "ϕ = ϕ_matrix(ψj,Q,I);\n",
    "xn = [linspace(a,b,Nel+1);];\n",
    "X = zeros(Q,Nel)\n",
    "remap(x,a,b) = ((1-x)*a + (1+x)*b)/2\n",
    "for e in 1:Nel\n",
    "    X[:,e] = [remap(x,xn[e],xn[e+1]) for x in z]\n",
    "end\n",
    "X"
   ]
  },
  {
   "cell_type": "code",
   "execution_count": 8,
   "metadata": {
    "collapsed": false
   },
   "outputs": [
    {
     "data": {
      "text/plain": [
       "2x5 Array{Int64,2}:\n",
       " 1  2  3  4  5\n",
       " 2  3  4  5  6"
      ]
     },
     "execution_count": 8,
     "metadata": {},
     "output_type": "execute_result"
    }
   ],
   "source": [
    "\n",
    "dof_map = zeros(Int, 2, Nel)\n",
    "for i = 1:Nel\n",
    "    dof_map[1,i] = i\n",
    "    dof_map[2,i] = i+1\n",
    "end\n",
    "dof_map"
   ]
  },
  {
   "cell_type": "code",
   "execution_count": 9,
   "metadata": {
    "collapsed": true
   },
   "outputs": [],
   "source": [
    "\n",
    "using Base.LinAlg.BLAS.gemm!\n",
    "using Base.LinAlg.BLAS.gemv!\n",
    "using Base.LinAlg.LAPACK.potrf!\n",
    "using Base.LinAlg.LAPACK.potrs!"
   ]
  },
  {
   "cell_type": "markdown",
   "metadata": {},
   "source": [
    "### $ A_{bb}^* = (A_{bb} - A_{bi} A_{ii}^{-1} A_{ib})  $"
   ]
  },
  {
   "cell_type": "code",
   "execution_count": 33,
   "metadata": {
    "collapsed": false
   },
   "outputs": [],
   "source": [
    "Abb = zeros(Nel+1,Nel+1)\n",
    "M = Vector{Array{Float64,2}}(Nel)\n",
    "Mii = Vector{Array{Float64,2}}(Nel)\n",
    "for e in 1:Nel\n",
    "    Me  = Me_matrix(ϕ,w,I,Q,a,b)\n",
    "    Mbb = Me[ib,ib]\n",
    "    Mbi = Me[ib,ii]\n",
    "    Mib = Me[ii,ib]\n",
    "    Mii[e] = Me[ii,ii]\n",
    "    \n",
    "    potrf!('L',Mii[e]); #Mii^-1\n",
    "    M[e] = copy(Mib)\n",
    "    potrs!('L',Mii[e],M[e]) # M = Mii^-1 * Mbi\n",
    "    gemm!('T', 'N', -1.0, M[e], Mib, 1.0, Mbb) # Mbb = -1*M*Mib + Mbb\n",
    "    \n",
    "    for i in 1:2\n",
    "        ig = dof_map[i,e]\n",
    "        for j in 1:2\n",
    "            jg = dof_map[j,e]\n",
    "            Abb[ig,jg] += Mbb[i,j]\n",
    "        end\n",
    "    end\n",
    "end\n",
    "\n",
    "potrf!('L',Abb);\n"
   ]
  },
  {
   "cell_type": "code",
   "execution_count": 11,
   "metadata": {
    "collapsed": false
   },
   "outputs": [
    {
     "data": {
      "text/plain": [
       "6x6 Array{Float64,2}:\n",
       " 0.0  0.0  0.0  0.0  0.0  0.0\n",
       " 0.0  0.0  0.0  0.0  0.0  0.0\n",
       " 0.0  0.0  0.0  0.0  0.0  0.0\n",
       " 0.0  0.0  0.0  0.0  0.0  0.0\n",
       " 0.0  0.0  0.0  0.0  0.0  0.0\n",
       " 0.0  0.0  0.0  0.0  0.0  0.0"
      ]
     },
     "execution_count": 11,
     "metadata": {},
     "output_type": "execute_result"
    }
   ],
   "source": [
    "Abb"
   ]
  },
  {
   "cell_type": "markdown",
   "metadata": {},
   "source": [
    "## RHS"
   ]
  },
  {
   "cell_type": "code",
   "execution_count": 12,
   "metadata": {
    "collapsed": false
   },
   "outputs": [
    {
     "data": {
      "text/plain": [
       "5x5 Array{Float64,2}:\n",
       "  0.114557    -0.164349     0.151365     -0.080565    -0.0210084 \n",
       " -0.0210084   -0.080565     0.151365     -0.164349     0.114557  \n",
       "  0.0175261   -0.045884     0.0567158    -0.045884     0.0175261 \n",
       " -0.0284294    0.0175703    8.67362e-19  -0.0175703    0.0284294 \n",
       " -0.00255244   0.00668237  -0.00825986    0.00668237  -0.00255244"
      ]
     },
     "execution_count": 12,
     "metadata": {},
     "output_type": "execute_result"
    }
   ],
   "source": [
    "fun(x) = cos(2*pi*x)\n",
    "#calcula F\n",
    "Fe = zeros(I,Nel)\n",
    "for e = 1:Nel\n",
    "    jac = (xn[e+1] - xn[e] )/2\n",
    "    for i in 1:I\n",
    "        temp = 0.0\n",
    "        for q in 1:Q\n",
    "            temp += fun(X[q,e])* ϕ[q,i] * w[q] * jac\n",
    "        end\n",
    "        Fe[i,e] = temp\n",
    "    end\n",
    "end\n",
    "Fe"
   ]
  },
  {
   "cell_type": "code",
   "execution_count": 13,
   "metadata": {
    "collapsed": false
   },
   "outputs": [],
   "source": [
    "B = Fe[:,1]\n",
    "Bb = B[ib]\n",
    "Bi = B[ii];"
   ]
  },
  {
   "cell_type": "markdown",
   "metadata": {},
   "source": [
    "### $f_b^* =f_b - A_{bi} A_{ii}^{-1} f_i$"
   ]
  },
  {
   "cell_type": "code",
   "execution_count": 14,
   "metadata": {
    "collapsed": false
   },
   "outputs": [
    {
     "ename": "LoadError",
     "evalue": "LoadError: UndefRefError: access to undefined reference\nwhile loading In[14], in expression starting on line 3",
     "output_type": "error",
     "traceback": [
      "LoadError: UndefRefError: access to undefined reference\nwhile loading In[14], in expression starting on line 3",
      "",
      " in getindex at array.jl:282",
      " [inlined code] from In[14]:7",
      " in anonymous at no file:0"
     ]
    }
   ],
   "source": [
    "Fb = zeros(nb)\n",
    "\n",
    "for e in 1:Nel\n",
    "    fe  = Fe[:,e]\n",
    "    fb  = fe[ib]\n",
    "    fi  = fe[ii]\n",
    "    gemv!('T',-1.0,M[e],fi, 1.0, fb) #fbb = -1*M^T*fi + fb\n",
    "\n",
    "    for i in 1:2\n",
    "        ig = dof_map[i,e]\n",
    "        Fb[ig] += fb[i]\n",
    "    end\n",
    "end\n",
    "Fb"
   ]
  },
  {
   "cell_type": "markdown",
   "metadata": {},
   "source": [
    "# Solve   $A^*_{bb}\\ u_b =\\ f^*_b$"
   ]
  },
  {
   "cell_type": "code",
   "execution_count": 15,
   "metadata": {
    "collapsed": false
   },
   "outputs": [
    {
     "data": {
      "text/plain": [
       "6x6 Array{Float64,2}:\n",
       " 0.0  0.0  0.0  0.0  0.0  0.0\n",
       " 0.0  0.0  0.0  0.0  0.0  0.0\n",
       " 0.0  0.0  0.0  0.0  0.0  0.0\n",
       " 0.0  0.0  0.0  0.0  0.0  0.0\n",
       " 0.0  0.0  0.0  0.0  0.0  0.0\n",
       " 0.0  0.0  0.0  0.0  0.0  0.0"
      ]
     },
     "execution_count": 15,
     "metadata": {},
     "output_type": "execute_result"
    }
   ],
   "source": [
    "Abb"
   ]
  },
  {
   "cell_type": "code",
   "execution_count": 16,
   "metadata": {
    "collapsed": false
   },
   "outputs": [
    {
     "data": {
      "text/plain": [
       "6-element Array{Float64,1}:\n",
       " NaN\n",
       " NaN\n",
       " NaN\n",
       " NaN\n",
       " NaN\n",
       " NaN"
      ]
     },
     "execution_count": 16,
     "metadata": {},
     "output_type": "execute_result"
    }
   ],
   "source": [
    "potrs!('L',Abb,Fb)\n",
    "Ub = Fb\n"
   ]
  },
  {
   "cell_type": "markdown",
   "metadata": {},
   "source": [
    "### $u_i = A_{ii}^{-1}f_i - A_{ii}^{-1} A_{bi}^t u_b$"
   ]
  },
  {
   "cell_type": "code",
   "execution_count": 17,
   "metadata": {
    "collapsed": false
   },
   "outputs": [
    {
     "ename": "LoadError",
     "evalue": "LoadError: UndefRefError: access to undefined reference\nwhile loading In[17], in expression starting on line 2",
     "output_type": "error",
     "traceback": [
      "LoadError: UndefRefError: access to undefined reference\nwhile loading In[17], in expression starting on line 2",
      ""
     ]
    }
   ],
   "source": [
    "U = zeros(I,Nel)\n",
    "for e in 1:Nel\n",
    "    ub  = Ub[vec(dof_map[:,e])]\n",
    "    fe  = Fe[:,e]\n",
    "    fi  = fe[ii]\n",
    "\n",
    "    potrs!('L',Mii[e],fi)\n",
    "    gemv!('N',-1.0,M[e],ub,1.0,fi) #fi = -1*M*ub + fi\n",
    "    \n",
    "    U[ib,e] = ub\n",
    "    U[ii,e] = fi\n",
    "end\n",
    "U"
   ]
  },
  {
   "cell_type": "code",
   "execution_count": 18,
   "metadata": {
    "collapsed": false
   },
   "outputs": [
    {
     "data": {
      "text/plain": [
       "7x5 Array{Float64,2}:\n",
       " 0.0  0.0  0.0  0.0  0.0\n",
       " 0.0  0.0  0.0  0.0  0.0\n",
       " 0.0  0.0  0.0  0.0  0.0\n",
       " 0.0  0.0  0.0  0.0  0.0\n",
       " 0.0  0.0  0.0  0.0  0.0\n",
       " 0.0  0.0  0.0  0.0  0.0\n",
       " 0.0  0.0  0.0  0.0  0.0"
      ]
     },
     "execution_count": 18,
     "metadata": {},
     "output_type": "execute_result"
    }
   ],
   "source": [
    "Uh = zeros(Q,Nel)\n",
    "for e in 1:Nel\n",
    "    Uh[:,e] = ϕ*U[:,e]\n",
    "end\n",
    "Uh"
   ]
  },
  {
   "cell_type": "code",
   "execution_count": 19,
   "metadata": {
    "collapsed": true
   },
   "outputs": [],
   "source": [
    "using PyPlot"
   ]
  },
  {
   "cell_type": "code",
   "execution_count": 20,
   "metadata": {
    "collapsed": false
   },
   "outputs": [
    {
     "data": {
      "image/png": "[encoded data removed]",
      "text/plain": [
       "PyPlot.Figure(PyObject <matplotlib.figure.Figure object at 0x7f0f70b23150>)"
      ]
     },
     "metadata": {},
     "output_type": "display_data"
    }
   ],
   "source": [
    "for e in 1:Nel\n",
    "    plot(X[:,e],Uh[:,e])\n",
    "    plot(X[:,e],fun(X[:,e]),\"o\")\n",
    "#    legend()\n",
    "end\n"
   ]
  }
 ],
 "metadata": {
  "kernelspec": {
   "display_name": "Julia 0.4.5",
   "language": "julia",
   "name": "julia-0.4"
  },
  "language_info": {
   "file_extension": ".jl",
   "mimetype": "application/julia",
   "name": "julia",
   "version": "0.4.5"
  }
 },
 "nbformat": 4,
 "nbformat_minor": 0
}
