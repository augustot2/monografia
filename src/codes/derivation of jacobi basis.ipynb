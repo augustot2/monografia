{
 "cells": [
  {
   "cell_type": "code",
   "execution_count": 1,
   "metadata": {
    "collapsed": true
   },
   "outputs": [],
   "source": [
    "using Jacobi"
   ]
  },
  {
   "cell_type": "markdown",
   "metadata": {},
   "source": [
    "# Diferenciação\n",
    "Seja u(x) um polinômio de ordem igual ou menor que P [$ u(x) \\in P_p([-1,1])$], então pode ser exatamente expressa em termos do polinômio de lagrange $h_i(x)$, por Q nós, $x_i,\\ (0 \\leq i \\leq Q-1)$"
   ]
  },
  {
   "cell_type": "code",
   "execution_count": 11,
   "metadata": {
    "collapsed": false
   },
   "outputs": [
    {
     "ename": "LoadError",
     "evalue": "LoadError: UndefVarError: i not defined\nwhile loading In[11], in expression starting on line 3",
     "output_type": "error",
     "traceback": [
      "LoadError: UndefVarError: i not defined\nwhile loading In[11], in expression starting on line 3",
      ""
     ]
    }
   ],
   "source": [
    "z = zglj(10)\n",
    "\n",
    "lagrange(i,x,z)"
   ]
  },
  {
   "cell_type": "code",
   "execution_count": 12,
   "metadata": {
    "collapsed": false
   },
   "outputs": [
    {
     "name": "stdout",
     "output_type": "stream",
     "text": [
      "search: "
     ]
    },
    {
     "data": {
      "text/latex": [
       "Compute the Lagrange polynomial\n",
       "This function computes the Lagrange polynomial at point \\texttt{x} corresponding to the \\texttt{i}-th node of the set \\texttt{z}\n",
       "There is also a modifying version \\texttt{lagrange!} used to computing the polynomials  at several points of an array \\texttt{x}\n"
      ],
      "text/markdown": [
       "Compute the Lagrange polynomial\n",
       "\n",
       "This function computes the Lagrange polynomial at point `x` corresponding to the `i`-th node of the set `z`\n",
       "\n",
       "There is also a modifying version `lagrange!` used to computing the polynomials  at several points of an array `x`\n"
      ],
      "text/plain": [
       "Compute the Lagrange polynomial\n",
       "\n",
       "This function computes the Lagrange polynomial at point `x` corresponding to the `i`-th node of the set `z`\n",
       "\n",
       "There is also a modifying version `lagrange!` used to computing the polynomials  at several points of an array `x`\n"
      ]
     },
     "execution_count": 12,
     "metadata": {},
     "output_type": "execute_result"
    },
    {
     "name": "stdout",
     "output_type": "stream",
     "text": [
      "lagrange lagrange!\n",
      "\n"
     ]
    }
   ],
   "source": [
    "?lagrange"
   ]
  }
 ],
 "metadata": {
  "kernelspec": {
   "display_name": "Julia 0.4.2",
   "language": "julia",
   "name": "julia-0.4"
  },
  "language_info": {
   "file_extension": ".jl",
   "mimetype": "application/julia",
   "name": "julia",
   "version": "0.4.2"
  }
 },
 "nbformat": 4,
 "nbformat_minor": 0
}
