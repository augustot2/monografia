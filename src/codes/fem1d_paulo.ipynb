{
 "cells": [
  {
   "cell_type": "markdown",
   "metadata": {},
   "source": [
    "#### Elementos finitos linear 1D"
   ]
  },
  {
   "cell_type": "markdown",
   "metadata": {},
   "source": [
    "## Montar a matrix de massa"
   ]
  },
  {
   "cell_type": "code",
   "execution_count": 16,
   "metadata": {
    "collapsed": false
   },
   "outputs": [
    {
     "data": {
      "text/plain": [
       "stiff_matrix (generic function with 1 method)"
      ]
     },
     "execution_count": 16,
     "metadata": {},
     "output_type": "execute_result"
    }
   ],
   "source": [
    "ϕ₁(x, a, b)  = (b-x)/(b-a)\n",
    "ϕ₂(x, a, b)  = (x-a)/(b-a)\n",
    "dϕ₁(x, a, b)  = 1/(a-b)\n",
    "dϕ₂(x, a, b)  = 1/(b-a)\n",
    "mass_matrix(a, b) = [(b-a)/3 (b-a)/6; (b-a)/6 (b-a)/3]\n",
    "stiff_matrix(a, b)= [1/(b-a) -1/(b-a);-1/(b-a) 1/(b-a) ]"
   ]
  },
  {
   "cell_type": "code",
   "execution_count": 17,
   "metadata": {
    "collapsed": false
   },
   "outputs": [
    {
     "data": {
      "text/plain": [
       "2:100"
      ]
     },
     "execution_count": 17,
     "metadata": {},
     "output_type": "execute_result"
    }
   ],
   "source": [
    "Nel = 100\n",
    "a = -1.0\n",
    "b = 1.0\n",
    "Ndof = Nel + 1\n",
    "xn = [linspace(a,b,Nel+1);];\n",
    "idx = 2:Ndof-1"
   ]
  },
  {
   "cell_type": "code",
   "execution_count": 18,
   "metadata": {
    "collapsed": false
   },
   "outputs": [
    {
     "data": {
      "text/plain": [
       "2x100 Array{Int64,2}:\n",
       " 1  2  3  4  5  6  7  8   9  10  11  12  …  93  94  95  96  97  98   99  100\n",
       " 2  3  4  5  6  7  8  9  10  11  12  13     94  95  96  97  98  99  100  101"
      ]
     },
     "execution_count": 18,
     "metadata": {},
     "output_type": "execute_result"
    }
   ],
   "source": [
    "\n",
    "dof_map = zeros(Int, 2, Nel)\n",
    "for i = 1:Nel\n",
    "    dof_map[1,i] = i\n",
    "    dof_map[2,i] = i+1\n",
    "end\n",
    "dof_map"
   ]
  },
  {
   "cell_type": "code",
   "execution_count": null,
   "metadata": {
    "collapsed": true
   },
   "outputs": [],
   "source": []
  },
  {
   "cell_type": "code",
   "execution_count": 19,
   "metadata": {
    "collapsed": false
   },
   "outputs": [
    {
     "data": {
      "text/plain": [
       "99x99 SymTridiagonal{Float64}:\n",
       " -99.9867   50.0033    0.0       0.0     …    0.0       0.0       0.0   \n",
       "  50.0033  -99.9867   50.0033    0.0          0.0       0.0       0.0   \n",
       "   0.0      50.0033  -99.9867   50.0033       0.0       0.0       0.0   \n",
       "   0.0       0.0      50.0033  -99.9867       0.0       0.0       0.0   \n",
       "   0.0       0.0       0.0      50.0033       0.0       0.0       0.0   \n",
       "   0.0       0.0       0.0       0.0     …    0.0       0.0       0.0   \n",
       "   0.0       0.0       0.0       0.0          0.0       0.0       0.0   \n",
       "   0.0       0.0       0.0       0.0          0.0       0.0       0.0   \n",
       "   0.0       0.0       0.0       0.0          0.0       0.0       0.0   \n",
       "   0.0       0.0       0.0       0.0          0.0       0.0       0.0   \n",
       "   0.0       0.0       0.0       0.0     …    0.0       0.0       0.0   \n",
       "   0.0       0.0       0.0       0.0          0.0       0.0       0.0   \n",
       "   0.0       0.0       0.0       0.0          0.0       0.0       0.0   \n",
       "   ⋮                                     ⋱                              \n",
       "   0.0       0.0       0.0       0.0          0.0       0.0       0.0   \n",
       "   0.0       0.0       0.0       0.0          0.0       0.0       0.0   \n",
       "   0.0       0.0       0.0       0.0          0.0       0.0       0.0   \n",
       "   0.0       0.0       0.0       0.0     …    0.0       0.0       0.0   \n",
       "   0.0       0.0       0.0       0.0          0.0       0.0       0.0   \n",
       "   0.0       0.0       0.0       0.0          0.0       0.0       0.0   \n",
       "   0.0       0.0       0.0       0.0          0.0       0.0       0.0   \n",
       "   0.0       0.0       0.0       0.0          0.0       0.0       0.0   \n",
       "   0.0       0.0       0.0       0.0     …   50.0033    0.0       0.0   \n",
       "   0.0       0.0       0.0       0.0        -99.9867   50.0033    0.0   \n",
       "   0.0       0.0       0.0       0.0         50.0033  -99.9867   50.0033\n",
       "   0.0       0.0       0.0       0.0          0.0      50.0033  -99.9867"
      ]
     },
     "execution_count": 19,
     "metadata": {},
     "output_type": "execute_result"
    }
   ],
   "source": [
    "\n",
    "#diags\n",
    "dl = zeros(Ndof-1)\n",
    "dp = zeros(Ndof)\n",
    "\n",
    "##\n",
    "for e = 1:Nel\n",
    "    dMe = stiff_matrix(xn[e], xn[e+1])\n",
    "    Me = mass_matrix(xn[e], xn[e+1])\n",
    "    for i = 1:2\n",
    "        ig = dof_map[i,e]\n",
    "        for k = 1:2\n",
    "            kg = dof_map[k,e]\n",
    "            if kg == ig #principal\n",
    "                dp[kg] += -dMe[k,i] + Me[k,i]\n",
    "            end\n",
    "            if kg == ig + 1 && kg > 1#low\n",
    "                dl[kg-1] += -dMe[k,i] + Me[k,i]\n",
    "            end\n",
    "        end\n",
    "    end\n",
    "end\n",
    "\n",
    "Tri_dM = SymTridiagonal(dp[2:end-1],dl[2:end-1]) "
   ]
  },
  {
   "cell_type": "markdown",
   "metadata": {},
   "source": [
    "## Montar o lado direito da equação:"
   ]
  },
  {
   "cell_type": "code",
   "execution_count": 20,
   "metadata": {
    "collapsed": false
   },
   "outputs": [
    {
     "data": {
      "text/plain": [
       "resp (generic function with 1 method)"
      ]
     },
     "execution_count": 20,
     "metadata": {},
     "output_type": "execute_result"
    }
   ],
   "source": [
    "#wolfram problem : y'' + y = -4*pi^2*cos(2*pi*x) + cos(2*pi*x),y'(-1) = 0,y'(1)=0\n",
    "fun(x) = (1.0 - 4*pi^2)*sin(2*pi*x) \n",
    "resp(x) = sin(2*pi*x)\n",
    "    "
   ]
  },
  {
   "cell_type": "code",
   "execution_count": 21,
   "metadata": {
    "collapsed": false
   },
   "outputs": [],
   "source": [
    "fe = fun(xn);"
   ]
  },
  {
   "cell_type": "code",
   "execution_count": 22,
   "metadata": {
    "collapsed": false
   },
   "outputs": [],
   "source": [
    "F = zeros(Ndof)\n",
    "for e = 1:Nel\n",
    "    Me = mass_matrix(xn[e], xn[e+1])\n",
    "    Fe = Me * fun(xn[e:(e+1)])\n",
    "    for i = 1:2\n",
    "        ig = dof_map[i,e]\n",
    "        F[ig] += Fe[i]\n",
    "    end\n",
    "end\n",
    "        \n",
    "F = F[idx];\n"
   ]
  },
  {
   "cell_type": "markdown",
   "metadata": {},
   "source": [
    "## Solução do problema"
   ]
  },
  {
   "cell_type": "code",
   "execution_count": 23,
   "metadata": {
    "collapsed": false
   },
   "outputs": [],
   "source": [
    "u = Tri_dM\\F ;"
   ]
  },
  {
   "cell_type": "code",
   "execution_count": 24,
   "metadata": {
    "collapsed": false
   },
   "outputs": [],
   "source": [
    "u = [0.0; u; 0.0];"
   ]
  },
  {
   "cell_type": "code",
   "execution_count": 25,
   "metadata": {
    "collapsed": false
   },
   "outputs": [
    {
     "data": {
      "image/png": "[encoded data removed]",
      "text/plain": [
       "PyPlot.Figure(PyObject <matplotlib.figure.Figure object at 0x7fec150d0e90>)"
      ]
     },
     "metadata": {},
     "output_type": "display_data"
    },
    {
     "data": {
      "text/plain": [
       "PyObject <matplotlib.legend.Legend object at 0x7fec1458a750>"
      ]
     },
     "execution_count": 25,
     "metadata": {},
     "output_type": "execute_result"
    }
   ],
   "source": [
    "using PyPlot\n",
    "xx = linspace(a, b, 201)\n",
    "plot(xx, resp(xx),label=\"exact\")\n",
    "plot(xn, u, \"rs-\",label = \"u\")\n",
    "legend(bbox_to_anchor=(1.05, 1), loc=2, borderaxespad=0.)"
   ]
  },
  {
   "cell_type": "code",
   "execution_count": 26,
   "metadata": {
    "collapsed": false
   },
   "outputs": [
    {
     "data": {
      "image/png": "[encoded data removed]",
      "text/plain": [
       "PyPlot.Figure(PyObject <matplotlib.figure.Figure object at 0x7fec1504a250>)"
      ]
     },
     "metadata": {},
     "output_type": "display_data"
    },
    {
     "data": {
      "text/plain": [
       "PyObject <matplotlib.legend.Legend object at 0x7fec144c3890>"
      ]
     },
     "execution_count": 26,
     "metadata": {},
     "output_type": "execute_result"
    }
   ],
   "source": [
    "e1 = u - resp(xn)\n",
    "figure()\n",
    "plot(xn, e1, \"rs-\",label=\"erro 1\")\n",
    "legend()\n",
    "maxabs(e1)\n",
    "legend(bbox_to_anchor=(1.05, 1), loc=2, borderaxespad=0.)"
   ]
  },
  {
   "cell_type": "code",
   "execution_count": 27,
   "metadata": {
    "collapsed": false
   },
   "outputs": [
    {
     "data": {
      "text/plain": [
       "2.743133555890342e-15"
      ]
     },
     "execution_count": 27,
     "metadata": {},
     "output_type": "execute_result"
    }
   ],
   "source": [
    "mean(e1)"
   ]
  },
  {
   "cell_type": "code",
   "execution_count": 28,
   "metadata": {
    "collapsed": false
   },
   "outputs": [
    {
     "data": {
      "text/plain": [
       "9.099464632651241e-7"
      ]
     },
     "execution_count": 28,
     "metadata": {},
     "output_type": "execute_result"
    }
   ],
   "source": [
    "var(e1)"
   ]
  }
 ],
 "metadata": {
  "kernelspec": {
   "display_name": "Julia 0.4.5",
   "language": "julia",
   "name": "julia-0.4"
  },
  "language_info": {
   "file_extension": ".jl",
   "mimetype": "application/julia",
   "name": "julia",
   "version": "0.4.5"
  }
 },
 "nbformat": 4,
 "nbformat_minor": 0
}
