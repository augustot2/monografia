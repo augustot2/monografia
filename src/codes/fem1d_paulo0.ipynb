{
 "cells": [
  {
   "cell_type": "markdown",
   "metadata": {},
   "source": [
    "## Elementos finitos linear 1D"
   ]
  },
  {
   "cell_type": "markdown",
   "metadata": {},
   "source": [
    "## Montar a matrix de massa"
   ]
  },
  {
   "cell_type": "code",
   "execution_count": 61,
   "metadata": {
    "collapsed": false
   },
   "outputs": [
    {
     "data": {
      "text/plain": [
       "stiff_matrix (generic function with 1 method)"
      ]
     },
     "execution_count": 61,
     "metadata": {},
     "output_type": "execute_result"
    }
   ],
   "source": [
    "ϕ₁(x, a, b)  = (b-x)/(b-a)\n",
    "ϕ₂(x, a, b)  = (x-a)/(b-a)\n",
    "dϕ₁(x, a, b)  = 1/(a-b)\n",
    "dϕ₂(x, a, b)  = 1/(b-a)\n",
    "mass_matrix(a, b) = [(b-a)/3 (b-a)/6; (b-a)/6 (b-a)/3]\n",
    "stiff_matrix(a, b)= [1/(b-a) -1/(b-a);-1/(b-a) 1/(b-a) ]"
   ]
  },
  {
   "cell_type": "code",
   "execution_count": 62,
   "metadata": {
    "collapsed": false
   },
   "outputs": [
    {
     "data": {
      "text/plain": [
       "2x2 Array{Float64,2}:\n",
       " 0.666667  0.333333\n",
       " 0.333333  0.666667"
      ]
     },
     "execution_count": 62,
     "metadata": {},
     "output_type": "execute_result"
    }
   ],
   "source": [
    "mass_matrix(-1,1)"
   ]
  },
  {
   "cell_type": "code",
   "execution_count": 63,
   "metadata": {
    "collapsed": false
   },
   "outputs": [
    {
     "data": {
      "text/plain": [
       "2x2 Array{Float64,2}:\n",
       "  1.0  -1.0\n",
       " -1.0   1.0"
      ]
     },
     "execution_count": 63,
     "metadata": {},
     "output_type": "execute_result"
    }
   ],
   "source": [
    "stiff_matrix(0,1)"
   ]
  },
  {
   "cell_type": "code",
   "execution_count": 64,
   "metadata": {
    "collapsed": false
   },
   "outputs": [
    {
     "data": {
      "image/png": "[encoded data removed]",
      "text/plain": [
       "PyPlot.Figure(PyObject <matplotlib.figure.Figure object at 0x7f0c04c6a410>)"
      ]
     },
     "metadata": {},
     "output_type": "display_data"
    },
    {
     "data": {
      "text/plain": [
       "1-element Array{Any,1}:\n",
       " PyObject <matplotlib.lines.Line2D object at 0x7f0c04a3e910>"
      ]
     },
     "execution_count": 64,
     "metadata": {},
     "output_type": "execute_result"
    }
   ],
   "source": [
    "x = linspace(-1,1,101)\n",
    "y1=[ϕ₁(x,-1,1) for x in linspace(-1,1,101)]\n",
    "plot(x,y1)"
   ]
  },
  {
   "cell_type": "code",
   "execution_count": 65,
   "metadata": {
    "collapsed": false
   },
   "outputs": [
    {
     "data": {
      "text/plain": [
       "2x2 Array{Float64,2}:\n",
       " 0.666667  0.333333\n",
       " 0.333333  0.666667"
      ]
     },
     "execution_count": 65,
     "metadata": {},
     "output_type": "execute_result"
    }
   ],
   "source": [
    "mass_matrix(-1,1)"
   ]
  },
  {
   "cell_type": "code",
   "execution_count": 66,
   "metadata": {
    "collapsed": false
   },
   "outputs": [
    {
     "data": {
      "text/plain": [
       "2x2 Array{Float64,2}:\n",
       " 0.333333  0.166667\n",
       " 0.166667  0.333333"
      ]
     },
     "execution_count": 66,
     "metadata": {},
     "output_type": "execute_result"
    }
   ],
   "source": [
    "mass_matrix(0,1)"
   ]
  },
  {
   "cell_type": "code",
   "execution_count": 67,
   "metadata": {
    "collapsed": false
   },
   "outputs": [],
   "source": [
    "Nel = 150\n",
    "a = -1.0\n",
    "b = 1.0\n",
    "Ndof = Nel + 1\n",
    "xn = [linspace(a,b,Nel+1);];\n"
   ]
  },
  {
   "cell_type": "code",
   "execution_count": 68,
   "metadata": {
    "collapsed": false
   },
   "outputs": [
    {
     "data": {
      "text/plain": [
       "2x150 Array{Int64,2}:\n",
       " 1  2  3  4  5  6  7  8   9  10  11  12  …  144  145  146  147  148  149  150\n",
       " 2  3  4  5  6  7  8  9  10  11  12  13     145  146  147  148  149  150  151"
      ]
     },
     "execution_count": 68,
     "metadata": {},
     "output_type": "execute_result"
    }
   ],
   "source": [
    "Nel = size(xn,1)-1\n",
    "dof_map = zeros(Int, 2, Nel)\n",
    "for i = 1:Nel\n",
    "    dof_map[1,i] = i\n",
    "    dof_map[2,i] = i+1\n",
    "end\n",
    "dof_map"
   ]
  },
  {
   "cell_type": "code",
   "execution_count": 69,
   "metadata": {
    "collapsed": false
   },
   "outputs": [
    {
     "data": {
      "text/plain": [
       "149x149 Array{Float64,2}:\n",
       " -149.991     75.0022     0.0     …     0.0        0.0        0.0   \n",
       "   75.0022  -149.991     75.0022        0.0        0.0        0.0   \n",
       "    0.0       75.0022  -149.991         0.0        0.0        0.0   \n",
       "    0.0        0.0       75.0022        0.0        0.0        0.0   \n",
       "    0.0        0.0        0.0           0.0        0.0        0.0   \n",
       "    0.0        0.0        0.0     …     0.0        0.0        0.0   \n",
       "    0.0        0.0        0.0           0.0        0.0        0.0   \n",
       "    0.0        0.0        0.0           0.0        0.0        0.0   \n",
       "    0.0        0.0        0.0           0.0        0.0        0.0   \n",
       "    0.0        0.0        0.0           0.0        0.0        0.0   \n",
       "    0.0        0.0        0.0     …     0.0        0.0        0.0   \n",
       "    0.0        0.0        0.0           0.0        0.0        0.0   \n",
       "    0.0        0.0        0.0           0.0        0.0        0.0   \n",
       "    ⋮                             ⋱                                 \n",
       "    0.0        0.0        0.0           0.0        0.0        0.0   \n",
       "    0.0        0.0        0.0           0.0        0.0        0.0   \n",
       "    0.0        0.0        0.0           0.0        0.0        0.0   \n",
       "    0.0        0.0        0.0     …     0.0        0.0        0.0   \n",
       "    0.0        0.0        0.0           0.0        0.0        0.0   \n",
       "    0.0        0.0        0.0           0.0        0.0        0.0   \n",
       "    0.0        0.0        0.0           0.0        0.0        0.0   \n",
       "    0.0        0.0        0.0           0.0        0.0        0.0   \n",
       "    0.0        0.0        0.0     …    75.0022     0.0        0.0   \n",
       "    0.0        0.0        0.0        -149.991     75.0022     0.0   \n",
       "    0.0        0.0        0.0          75.0022  -149.991     75.0022\n",
       "    0.0        0.0        0.0           0.0       75.0022  -149.991 "
      ]
     },
     "execution_count": 69,
     "metadata": {},
     "output_type": "execute_result"
    }
   ],
   "source": [
    "M = zeros(Ndof, Ndof)\n",
    "\n",
    "for e = 1:Nel\n",
    "    Me = mass_matrix(xn[e], xn[e+1])\n",
    "    for i = 1:2\n",
    "        ig = dof_map[i,e]\n",
    "        for k = 1:2\n",
    "            kg = dof_map[k,e]\n",
    "            M[kg,ig] += Me[k,i]\n",
    "        end\n",
    "    end\n",
    "end\n",
    "M\n",
    "\n",
    "dM = zeros(Ndof, Ndof)\n",
    "\n",
    "for e = 1:Nel\n",
    "    dMe = stiff_matrix(xn[e], xn[e+1])\n",
    "    for i = 1:2\n",
    "        ig = dof_map[i,e]\n",
    "        for k = 1:2\n",
    "            kg = dof_map[k,e]\n",
    "            dM[kg,ig] += dMe[k,i]\n",
    "        end\n",
    "    end\n",
    "end\n",
    "dM2 = dM\n",
    "dM3 = -dM + M\n",
    "idx = 2:(Ndof-1)\n",
    "dM = (-dM + M)[idx,idx]\n",
    "            "
   ]
  },
  {
   "cell_type": "code",
   "execution_count": 70,
   "metadata": {
    "collapsed": false
   },
   "outputs": [
    {
     "data": {
      "text/plain": [
       "151x151 Array{Float64,2}:\n",
       "  75.0  -75.0    0.0    0.0    0.0  …    0.0    0.0    0.0    0.0    0.0\n",
       " -75.0  150.0  -75.0    0.0    0.0       0.0    0.0    0.0    0.0    0.0\n",
       "   0.0  -75.0  150.0  -75.0    0.0       0.0    0.0    0.0    0.0    0.0\n",
       "   0.0    0.0  -75.0  150.0  -75.0       0.0    0.0    0.0    0.0    0.0\n",
       "   0.0    0.0    0.0  -75.0  150.0       0.0    0.0    0.0    0.0    0.0\n",
       "   0.0    0.0    0.0    0.0  -75.0  …    0.0    0.0    0.0    0.0    0.0\n",
       "   0.0    0.0    0.0    0.0    0.0       0.0    0.0    0.0    0.0    0.0\n",
       "   0.0    0.0    0.0    0.0    0.0       0.0    0.0    0.0    0.0    0.0\n",
       "   0.0    0.0    0.0    0.0    0.0       0.0    0.0    0.0    0.0    0.0\n",
       "   0.0    0.0    0.0    0.0    0.0       0.0    0.0    0.0    0.0    0.0\n",
       "   0.0    0.0    0.0    0.0    0.0  …    0.0    0.0    0.0    0.0    0.0\n",
       "   0.0    0.0    0.0    0.0    0.0       0.0    0.0    0.0    0.0    0.0\n",
       "   0.0    0.0    0.0    0.0    0.0       0.0    0.0    0.0    0.0    0.0\n",
       "   ⋮                                ⋱                                ⋮  \n",
       "   0.0    0.0    0.0    0.0    0.0       0.0    0.0    0.0    0.0    0.0\n",
       "   0.0    0.0    0.0    0.0    0.0  …    0.0    0.0    0.0    0.0    0.0\n",
       "   0.0    0.0    0.0    0.0    0.0       0.0    0.0    0.0    0.0    0.0\n",
       "   0.0    0.0    0.0    0.0    0.0       0.0    0.0    0.0    0.0    0.0\n",
       "   0.0    0.0    0.0    0.0    0.0       0.0    0.0    0.0    0.0    0.0\n",
       "   0.0    0.0    0.0    0.0    0.0       0.0    0.0    0.0    0.0    0.0\n",
       "   0.0    0.0    0.0    0.0    0.0  …  -75.0    0.0    0.0    0.0    0.0\n",
       "   0.0    0.0    0.0    0.0    0.0     150.0  -75.0    0.0    0.0    0.0\n",
       "   0.0    0.0    0.0    0.0    0.0     -75.0  150.0  -75.0    0.0    0.0\n",
       "   0.0    0.0    0.0    0.0    0.0       0.0  -75.0  150.0  -75.0    0.0\n",
       "   0.0    0.0    0.0    0.0    0.0       0.0    0.0  -75.0  150.0  -75.0\n",
       "   0.0    0.0    0.0    0.0    0.0  …    0.0    0.0    0.0  -75.0   75.0"
      ]
     },
     "execution_count": 70,
     "metadata": {},
     "output_type": "execute_result"
    }
   ],
   "source": [
    "dM2"
   ]
  },
  {
   "cell_type": "code",
   "execution_count": 71,
   "metadata": {
    "collapsed": false
   },
   "outputs": [
    {
     "data": {
      "text/plain": [
       "151x151 Array{Float64,2}:\n",
       " -74.9956    75.0022     0.0        0.0     …     0.0        0.0       0.0   \n",
       "  75.0022  -149.991     75.0022     0.0           0.0        0.0       0.0   \n",
       "   0.0       75.0022  -149.991     75.0022        0.0        0.0       0.0   \n",
       "   0.0        0.0       75.0022  -149.991         0.0        0.0       0.0   \n",
       "   0.0        0.0        0.0       75.0022        0.0        0.0       0.0   \n",
       "   0.0        0.0        0.0        0.0     …     0.0        0.0       0.0   \n",
       "   0.0        0.0        0.0        0.0           0.0        0.0       0.0   \n",
       "   0.0        0.0        0.0        0.0           0.0        0.0       0.0   \n",
       "   0.0        0.0        0.0        0.0           0.0        0.0       0.0   \n",
       "   0.0        0.0        0.0        0.0           0.0        0.0       0.0   \n",
       "   0.0        0.0        0.0        0.0     …     0.0        0.0       0.0   \n",
       "   0.0        0.0        0.0        0.0           0.0        0.0       0.0   \n",
       "   0.0        0.0        0.0        0.0           0.0        0.0       0.0   \n",
       "   ⋮                                        ⋱                          ⋮     \n",
       "   0.0        0.0        0.0        0.0           0.0        0.0       0.0   \n",
       "   0.0        0.0        0.0        0.0     …     0.0        0.0       0.0   \n",
       "   0.0        0.0        0.0        0.0           0.0        0.0       0.0   \n",
       "   0.0        0.0        0.0        0.0           0.0        0.0       0.0   \n",
       "   0.0        0.0        0.0        0.0           0.0        0.0       0.0   \n",
       "   0.0        0.0        0.0        0.0           0.0        0.0       0.0   \n",
       "   0.0        0.0        0.0        0.0     …     0.0        0.0       0.0   \n",
       "   0.0        0.0        0.0        0.0           0.0        0.0       0.0   \n",
       "   0.0        0.0        0.0        0.0          75.0022     0.0       0.0   \n",
       "   0.0        0.0        0.0        0.0        -149.991     75.0022    0.0   \n",
       "   0.0        0.0        0.0        0.0          75.0022  -149.991    75.0022\n",
       "   0.0        0.0        0.0        0.0     …     0.0       75.0022  -74.9956"
      ]
     },
     "execution_count": 71,
     "metadata": {},
     "output_type": "execute_result"
    }
   ],
   "source": [
    "dM3"
   ]
  },
  {
   "cell_type": "markdown",
   "metadata": {},
   "source": [
    "## Montar o lado direito da equação:"
   ]
  },
  {
   "cell_type": "code",
   "execution_count": 72,
   "metadata": {
    "collapsed": false
   },
   "outputs": [
    {
     "data": {
      "text/plain": [
       "resp (generic function with 1 method)"
      ]
     },
     "execution_count": 72,
     "metadata": {},
     "output_type": "execute_result"
    }
   ],
   "source": [
    "#wolfram problem : y'' + y = -4*pi^2*cos(2*pi*x) + cos(2*pi*x),y'(-1) = 0,y'(1)=0\n",
    "fun(x) = (1.0 - 4*pi^2)*sin(2*pi*x) \n",
    "resp(x) = sin(2*pi*x)\n"
   ]
  },
  {
   "cell_type": "code",
   "execution_count": 73,
   "metadata": {
    "collapsed": false
   },
   "outputs": [
    {
     "data": {
      "text/plain": [
       "151-element Array{Float64,1}:\n",
       "  -9.42449e-15\n",
       "  -3.21979    \n",
       "  -6.417      \n",
       "  -9.56919    \n",
       " -12.6543     \n",
       " -15.6506     \n",
       " -18.5371     \n",
       " -21.2936     \n",
       " -23.9008     \n",
       " -26.3403     \n",
       " -28.595      \n",
       " -30.6492     \n",
       " -32.4884     \n",
       "   ⋮          \n",
       "  30.6492     \n",
       "  28.595      \n",
       "  26.3403     \n",
       "  23.9008     \n",
       "  21.2936     \n",
       "  18.5371     \n",
       "  15.6506     \n",
       "  12.6543     \n",
       "   9.56919    \n",
       "   6.417      \n",
       "   3.21979    \n",
       "   9.42449e-15"
      ]
     },
     "execution_count": 73,
     "metadata": {},
     "output_type": "execute_result"
    }
   ],
   "source": [
    "fe = fun(xn)"
   ]
  },
  {
   "cell_type": "code",
   "execution_count": 74,
   "metadata": {
    "collapsed": false
   },
   "outputs": [
    {
     "data": {
      "text/plain": [
       "149-element Array{Float64,1}:\n",
       " -0.0428804\n",
       " -0.0854599\n",
       " -0.12744  \n",
       " -0.168526 \n",
       " -0.20843  \n",
       " -0.246873 \n",
       " -0.283583 \n",
       " -0.318305 \n",
       " -0.350793 \n",
       " -0.380821 \n",
       " -0.408178 \n",
       " -0.432672 \n",
       " -0.454131 \n",
       "  ⋮        \n",
       "  0.432672 \n",
       "  0.408178 \n",
       "  0.380821 \n",
       "  0.350793 \n",
       "  0.318305 \n",
       "  0.283583 \n",
       "  0.246873 \n",
       "  0.20843  \n",
       "  0.168526 \n",
       "  0.12744  \n",
       "  0.0854599\n",
       "  0.0428804"
      ]
     },
     "execution_count": 74,
     "metadata": {},
     "output_type": "execute_result"
    }
   ],
   "source": [
    "F = zeros(Ndof)\n",
    "for e = 1:Nel\n",
    "    Me = mass_matrix(xn[e], xn[e+1])\n",
    "    Fe = Me * fun(xn[e:(e+1)])\n",
    "    for i = 1:2\n",
    "        ig = dof_map[i,e]\n",
    "        F[ig] += Fe[i]\n",
    "    end\n",
    "end\n",
    "        \n",
    "F = F[idx]\n"
   ]
  },
  {
   "cell_type": "markdown",
   "metadata": {},
   "source": [
    "## Solução do problema"
   ]
  },
  {
   "cell_type": "code",
   "execution_count": 75,
   "metadata": {
    "collapsed": false
   },
   "outputs": [
    {
     "data": {
      "text/plain": [
       "149-element Array{Float64,1}:\n",
       "  0.0836276\n",
       "  0.166669 \n",
       "  0.248541 \n",
       "  0.328669 \n",
       "  0.406493 \n",
       "  0.481465 \n",
       "  0.55306  \n",
       "  0.620775 \n",
       "  0.684136 \n",
       "  0.742699 \n",
       "  0.796052 \n",
       "  0.843821 \n",
       "  0.885672 \n",
       "  ⋮        \n",
       " -0.843821 \n",
       " -0.796052 \n",
       " -0.742699 \n",
       " -0.684136 \n",
       " -0.620775 \n",
       " -0.55306  \n",
       " -0.481465 \n",
       " -0.406493 \n",
       " -0.328669 \n",
       " -0.248541 \n",
       " -0.166669 \n",
       " -0.0836276"
      ]
     },
     "execution_count": 75,
     "metadata": {},
     "output_type": "execute_result"
    }
   ],
   "source": [
    "u = dM\\F"
   ]
  },
  {
   "cell_type": "code",
   "execution_count": 76,
   "metadata": {
    "collapsed": false
   },
   "outputs": [
    {
     "data": {
      "text/plain": [
       "151-element Array{Float64,1}:\n",
       "  0.0      \n",
       "  0.0836276\n",
       "  0.166669 \n",
       "  0.248541 \n",
       "  0.328669 \n",
       "  0.406493 \n",
       "  0.481465 \n",
       "  0.55306  \n",
       "  0.620775 \n",
       "  0.684136 \n",
       "  0.742699 \n",
       "  0.796052 \n",
       "  0.843821 \n",
       "  ⋮        \n",
       " -0.796052 \n",
       " -0.742699 \n",
       " -0.684136 \n",
       " -0.620775 \n",
       " -0.55306  \n",
       " -0.481465 \n",
       " -0.406493 \n",
       " -0.328669 \n",
       " -0.248541 \n",
       " -0.166669 \n",
       " -0.0836276\n",
       "  0.0      "
      ]
     },
     "execution_count": 76,
     "metadata": {},
     "output_type": "execute_result"
    }
   ],
   "source": [
    "u = [0.0; u; 0.0]"
   ]
  },
  {
   "cell_type": "code",
   "execution_count": 77,
   "metadata": {
    "collapsed": false
   },
   "outputs": [
    {
     "data": {
      "image/png": "[encoded data removed]",
      "text/plain": [
       "PyPlot.Figure(PyObject <matplotlib.figure.Figure object at 0x7f0c04a56590>)"
      ]
     },
     "metadata": {},
     "output_type": "display_data"
    },
    {
     "data": {
      "text/plain": [
       "151-element Array{Float64,1}:\n",
       "  0.0      \n",
       "  0.0836276\n",
       "  0.166669 \n",
       "  0.248541 \n",
       "  0.328669 \n",
       "  0.406493 \n",
       "  0.481465 \n",
       "  0.55306  \n",
       "  0.620775 \n",
       "  0.684136 \n",
       "  0.742699 \n",
       "  0.796052 \n",
       "  0.843821 \n",
       "  ⋮        \n",
       " -0.796052 \n",
       " -0.742699 \n",
       " -0.684136 \n",
       " -0.620775 \n",
       " -0.55306  \n",
       " -0.481465 \n",
       " -0.406493 \n",
       " -0.328669 \n",
       " -0.248541 \n",
       " -0.166669 \n",
       " -0.0836276\n",
       "  0.0      "
      ]
     },
     "execution_count": 77,
     "metadata": {},
     "output_type": "execute_result"
    }
   ],
   "source": [
    "using PyPlot\n",
    "xx = linspace(a, b, 201)\n",
    "plot(xx, resp(xx))\n",
    "plot(xn, u, \"rs-\",label = \"u\")\n",
    "legend()\n",
    "u"
   ]
  },
  {
   "cell_type": "code",
   "execution_count": 78,
   "metadata": {
    "collapsed": false
   },
   "outputs": [
    {
     "data": {
      "text/plain": [
       "0.5877852522924731"
      ]
     },
     "execution_count": 78,
     "metadata": {},
     "output_type": "execute_result"
    }
   ],
   "source": [
    "resp(0.1)"
   ]
  },
  {
   "cell_type": "code",
   "execution_count": 79,
   "metadata": {
    "collapsed": false
   },
   "outputs": [
    {
     "data": {
      "image/png": "[encoded data removed]",
      "text/plain": [
       "PyPlot.Figure(PyObject <matplotlib.figure.Figure object at 0x7f0c0497ab50>)"
      ]
     },
     "metadata": {},
     "output_type": "display_data"
    },
    {
     "data": {
      "text/plain": [
       "PyObject <matplotlib.legend.Legend object at 0x7f0c0490e090>"
      ]
     },
     "execution_count": 79,
     "metadata": {},
     "output_type": "execute_result"
    }
   ],
   "source": [
    "e1 = u - resp(xn)\n",
    "figure()\n",
    "plot(xn, e1, \"rs-\",label=\"erro 1\")\n",
    "legend()"
   ]
  },
  {
   "cell_type": "code",
   "execution_count": null,
   "metadata": {
    "collapsed": false
   },
   "outputs": [],
   "source": []
  },
  {
   "cell_type": "code",
   "execution_count": null,
   "metadata": {
    "collapsed": false
   },
   "outputs": [],
   "source": []
  },
  {
   "cell_type": "code",
   "execution_count": null,
   "metadata": {
    "collapsed": true
   },
   "outputs": [],
   "source": []
  },
  {
   "cell_type": "code",
   "execution_count": null,
   "metadata": {
    "collapsed": true
   },
   "outputs": [],
   "source": []
  }
 ],
 "metadata": {
  "kernelspec": {
   "display_name": "Julia 0.4.2",
   "language": "julia",
   "name": "julia-0.4"
  },
  "language_info": {
   "file_extension": ".jl",
   "mimetype": "application/julia",
   "name": "julia",
   "version": "0.4.2"
  }
 },
 "nbformat": 4,
 "nbformat_minor": 0
}
