{
 "cells": [
  {
   "cell_type": "code",
   "execution_count": 4,
   "metadata": {
    "collapsed": true
   },
   "outputs": [],
   "source": [
    "using Jacobi"
   ]
  },
  {
   "cell_type": "code",
   "execution_count": 5,
   "metadata": {
    "collapsed": false
   },
   "outputs": [
    {
     "data": {
      "text/plain": [
       "test (generic function with 1 method)"
      ]
     },
     "execution_count": 5,
     "metadata": {},
     "output_type": "execute_result"
    }
   ],
   "source": [
    "ϕ₁(x, a, b)  = (b-x)/(b-a)\n",
    "ϕ₂(x, a, b)  = (x-a)/(b-a)\n",
    "dϕ₁(x, a, b)  = 1/(a-b)\n",
    "dϕ₂(x, a, b)  = 1/(b-a)\n",
    "mass_matrix(a, b) = [(b-a)/3 (b-a)/6; (b-a)/6 (b-a)/3]\n",
    "stiff_matrix(a, b)= [1/(b-a) -1/(b-a);-1/(b-a) 1/(b-a) ]\n",
    "\n",
    "fun(x) = (1.0 - 4*pi^2)*sin(2*pi*x) \n",
    "resp(x) = sin(2*pi*x)\n",
    "\n",
    "function test(Nel)\n",
    "  a = -1.0\n",
    "  b = 1.0\n",
    "  Ndof = Nel + 1\n",
    "  xn = [linspace(a,b,Nel+1);];\n",
    "  idx = 2:Ndof-1\n",
    "  dof_map = zeros(Int, 2, Nel)\n",
    "  for i = 1:Nel\n",
    "      dof_map[1,i] = i\n",
    "      dof_map[2,i] = i+1\n",
    "  end\n",
    "\n",
    "  #calcula dM\n",
    "  dl = zeros(Ndof-1)\n",
    "  dp = zeros(Ndof)\n",
    "\n",
    "  ##\n",
    "  for e = 1:Nel\n",
    "      dMe = stiff_matrix(xn[e], xn[e+1])\n",
    "      Me = mass_matrix(xn[e], xn[e+1])\n",
    "      for i = 1:2\n",
    "          ig = dof_map[i,e]\n",
    "          for k = 1:2\n",
    "              kg = dof_map[k,e]\n",
    "              if kg == ig #principal\n",
    "                  dp[kg] += -dMe[k,i] + Me[k,i]\n",
    "              end\n",
    "              if kg == ig + 1 && kg > 1#low\n",
    "                  dl[kg-1] += -dMe[k,i] + Me[k,i]\n",
    "              end\n",
    "          end\n",
    "      end\n",
    "  end\n",
    "\n",
    "  Tri_dM = SymTridiagonal(dp[2:end-1],dl[2:end-1]) \n",
    "\n",
    "    #calcula F\n",
    "    fe = fun(xn);\n",
    "    F = zeros(Ndof)\n",
    "    for e = 1:Nel\n",
    "        Me = mass_matrix(xn[e], xn[e+1])\n",
    "        Fe = Me * fun(xn[e:(e+1)])\n",
    "        for i = 1:2\n",
    "            ig = dof_map[i,e]\n",
    "            F[ig] += Fe[i]\n",
    "        end\n",
    "    end\n",
    "            \n",
    "    F = F[idx]\n",
    "    #Solução\n",
    "    u = Tri_dM\\F\n",
    "    u = [0.0; u; 0.0];\n",
    "    #calcula erro\n",
    "    e1 = u - resp(xn)\n",
    "\n",
    "    return maxabs(e1)\n",
    "end"
   ]
  },
  {
   "cell_type": "code",
   "execution_count": 6,
   "metadata": {
    "collapsed": true
   },
   "outputs": [],
   "source": [
    "using PyPlot"
   ]
  },
  {
   "cell_type": "code",
   "execution_count": 7,
   "metadata": {
    "collapsed": false
   },
   "outputs": [],
   "source": [
    "n = 5:500 # linspace(5,500,495)\n",
    "erros = Float64[test(Nel) for Nel in n]\n",
    "#loglog(n,erros)\n",
    "#title(\"erro de Nel in $n\")\n",
    "n2 = Float64[n;];\n"
   ]
  },
  {
   "cell_type": "code",
   "execution_count": 8,
   "metadata": {
    "collapsed": false,
    "scrolled": true
   },
   "outputs": [
    {
     "data": {
      "image/png": "[encoded data removed]",
      "text/plain": [
       "PyPlot.Figure(PyObject <matplotlib.figure.Figure object at 0x7fa5b21c51d0>)"
      ]
     },
     "metadata": {},
     "output_type": "display_data"
    },
    {
     "data": {
      "text/plain": [
       "PyObject <matplotlib.text.Text object at 0x7fa59fc87550>"
      ]
     },
     "execution_count": 8,
     "metadata": {},
     "output_type": "execute_result"
    }
   ],
   "source": [
    "loglog(n2,erros,\"r\")\n",
    "title(\"loglog\")"
   ]
  },
  {
   "cell_type": "code",
   "execution_count": 14,
   "metadata": {
    "collapsed": false
   },
   "outputs": [
    {
     "data": {
      "text/plain": [
       "496-element Array{Float64,1}:\n",
       " 0.297102  \n",
       " 0.237284  \n",
       " 0.217872  \n",
       " 0.18131   \n",
       " 0.146271  \n",
       " 0.117229  \n",
       " 0.102579  \n",
       " 0.076374  \n",
       " 0.0753156 \n",
       " 0.0642561 \n",
       " 0.0574396 \n",
       " 0.0510068 \n",
       " 0.0451676 \n",
       " ⋮         \n",
       " 5.64607e-5\n",
       " 5.62296e-5\n",
       " 5.60017e-5\n",
       " 5.577e-5  \n",
       " 5.55482e-5\n",
       " 5.53227e-5\n",
       " 5.51003e-5\n",
       " 5.48786e-5\n",
       " 5.46577e-5\n",
       " 5.44376e-5\n",
       " 5.42205e-5\n",
       " 5.39998e-5"
      ]
     },
     "execution_count": 14,
     "metadata": {},
     "output_type": "execute_result"
    }
   ],
   "source": [
    "erros"
   ]
  },
  {
   "cell_type": "code",
   "execution_count": 10,
   "metadata": {
    "collapsed": false
   },
   "outputs": [
    {
     "name": "stderr",
     "output_type": "stream",
     "text": [
      "INFO: Nothing to be done\n",
      "INFO: METADATA is out-of-date — you may not have the latest version of CurveFit\n",
      "INFO: Use `Pkg.update()` to get the latest versions of your packages\n"
     ]
    }
   ],
   "source": [
    "Pkg.add(\"CurveFit\");"
   ]
  },
  {
   "cell_type": "code",
   "execution_count": 11,
   "metadata": {
    "collapsed": false
   },
   "outputs": [],
   "source": [
    "using CurveFit"
   ]
  },
  {
   "cell_type": "code",
   "execution_count": 12,
   "metadata": {
    "collapsed": false
   },
   "outputs": [
    {
     "name": "stderr",
     "output_type": "stream",
     "text": [
      "WARNING: Method definition call(Polynomials.Poly, Any) in module Polynomials at /home/augusto/.julia/v0.4/Polynomials/src/Polynomials.jl:302 overwritten in module CurveFit at /home/augusto/.julia/v0.4/CurveFit/src/linfit.jl:124.\n"
     ]
    },
    {
     "data": {
      "text/plain": [
       "2-element Array{Float64,1}:\n",
       " 12.0064 \n",
       " -1.97882"
      ]
     },
     "execution_count": 12,
     "metadata": {},
     "output_type": "execute_result"
    }
   ],
   "source": [
    "typeof(erros)\n",
    "power_fit(n2,erros)"
   ]
  },
  {
   "cell_type": "code",
   "execution_count": 13,
   "metadata": {
    "collapsed": false
   },
   "outputs": [
    {
     "data": {
      "image/png": "[encoded data removed]",
      "text/plain": [
       "PyPlot.Figure(PyObject <matplotlib.figure.Figure object at 0x7fa5a1fb84d0>)"
      ]
     },
     "metadata": {},
     "output_type": "display_data"
    },
    {
     "data": {
      "text/plain": [
       "1-element Array{Any,1}:\n",
       " PyObject <matplotlib.lines.Line2D object at 0x7fa59f88efd0>"
      ]
     },
     "execution_count": 13,
     "metadata": {},
     "output_type": "execute_result"
    }
   ],
   "source": [
    "fit(x) = 12.0064*x.^-1.97882\n",
    "x = linspace(5,500,495)\n",
    "plot(x,fit(x))"
   ]
  }
 ],
 "metadata": {
  "kernelspec": {
   "display_name": "Julia 0.4.2",
   "language": "julia",
   "name": "julia-0.4"
  },
  "language_info": {
   "file_extension": ".jl",
   "mimetype": "application/julia",
   "name": "julia",
   "version": "0.4.2"
  }
 },
 "nbformat": 4,
 "nbformat_minor": 0
}
