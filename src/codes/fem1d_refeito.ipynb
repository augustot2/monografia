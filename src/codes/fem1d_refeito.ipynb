{
 "cells": [
  {
   "cell_type": "markdown",
   "metadata": {},
   "source": [
    "## Elementos finitos linear 1D"
   ]
  },
  {
   "cell_type": "markdown",
   "metadata": {},
   "source": [
    "## Montar a matrix de massa"
   ]
  },
  {
   "cell_type": "code",
   "execution_count": 57,
   "metadata": {
    "collapsed": false
   },
   "outputs": [
    {
     "data": {
      "text/plain": [
       "stiff_matrix (generic function with 1 method)"
      ]
     },
     "execution_count": 57,
     "metadata": {},
     "output_type": "execute_result"
    }
   ],
   "source": [
    "ϕ₁(x, a, b)  = (b-x)/(b-a)\n",
    "ϕ₂(x, a, b)  = (x-a)/(b-a)\n",
    "dϕ₁(x, a, b)  = 1/(a-b)\n",
    "dϕ₂(x, a, b)  = 1/(b-a)\n",
    "mass_matrix(a, b) = [(b-a)/3 (b-a)/6; (b-a)/6 (b-a)/3]\n",
    "stiff_matrix(a, b)= [2/(a-b)^2 -2/(a-b)^2;-2/(a-b)^2 2/(a-b)^2 ]"
   ]
  },
  {
   "cell_type": "code",
   "execution_count": 58,
   "metadata": {
    "collapsed": false
   },
   "outputs": [
    {
     "data": {
      "text/plain": [
       "2x2 Array{Float64,2}:\n",
       " 0.666667  0.333333\n",
       " 0.333333  0.666667"
      ]
     },
     "execution_count": 58,
     "metadata": {},
     "output_type": "execute_result"
    }
   ],
   "source": [
    "mass_matrix(-1,1)"
   ]
  },
  {
   "cell_type": "code",
   "execution_count": 59,
   "metadata": {
    "collapsed": false
   },
   "outputs": [
    {
     "data": {
      "text/plain": [
       "2x2 Array{Float64,2}:\n",
       "  0.5  -0.5\n",
       " -0.5   0.5"
      ]
     },
     "execution_count": 59,
     "metadata": {},
     "output_type": "execute_result"
    }
   ],
   "source": [
    "stiff_matrix(-1,1)"
   ]
  },
  {
   "cell_type": "code",
   "execution_count": 60,
   "metadata": {
    "collapsed": false
   },
   "outputs": [
    {
     "data": {
      "image/png": "[encoded data removed]",
      "text/plain": [
       "PyPlot.Figure(PyObject <matplotlib.figure.Figure object at 0x7f2365ee8210>)"
      ]
     },
     "metadata": {},
     "output_type": "display_data"
    },
    {
     "data": {
      "text/plain": [
       "1-element Array{Any,1}:\n",
       " PyObject <matplotlib.lines.Line2D object at 0x7f2365de7f90>"
      ]
     },
     "execution_count": 60,
     "metadata": {},
     "output_type": "execute_result"
    }
   ],
   "source": [
    "x = linspace(-1,1,101)\n",
    "y1=[ϕ₁(x,-1,1) for x in linspace(-1,1,101)]\n",
    "plot(x,y1)"
   ]
  },
  {
   "cell_type": "code",
   "execution_count": 61,
   "metadata": {
    "collapsed": false
   },
   "outputs": [
    {
     "data": {
      "text/plain": [
       "2x2 Array{Float64,2}:\n",
       " 0.666667  0.333333\n",
       " 0.333333  0.666667"
      ]
     },
     "execution_count": 61,
     "metadata": {},
     "output_type": "execute_result"
    }
   ],
   "source": [
    "mass_matrix(-1,1)"
   ]
  },
  {
   "cell_type": "code",
   "execution_count": 62,
   "metadata": {
    "collapsed": false
   },
   "outputs": [
    {
     "data": {
      "text/plain": [
       "2x2 Array{Float64,2}:\n",
       " 0.333333  0.166667\n",
       " 0.166667  0.333333"
      ]
     },
     "execution_count": 62,
     "metadata": {},
     "output_type": "execute_result"
    }
   ],
   "source": [
    "mass_matrix(0,1)"
   ]
  },
  {
   "cell_type": "code",
   "execution_count": 63,
   "metadata": {
    "collapsed": false
   },
   "outputs": [],
   "source": [
    "a = -1.0\n",
    "b = 1.0\n",
    "Nel = 5\n",
    "xn = [linspace(a,b,Nel+1);]\n",
    "Ndof = size(xn,1);"
   ]
  },
  {
   "cell_type": "code",
   "execution_count": 64,
   "metadata": {
    "collapsed": false
   },
   "outputs": [
    {
     "data": {
      "text/plain": [
       "6-element Array{Float64,1}:\n",
       " -1.0\n",
       " -0.6\n",
       " -0.2\n",
       "  0.2\n",
       "  0.6\n",
       "  1.0"
      ]
     },
     "execution_count": 64,
     "metadata": {},
     "output_type": "execute_result"
    }
   ],
   "source": [
    "xn"
   ]
  },
  {
   "cell_type": "code",
   "execution_count": 65,
   "metadata": {
    "collapsed": false
   },
   "outputs": [
    {
     "data": {
      "text/plain": [
       "2x5 Array{Int64,2}:\n",
       " 1  2  3  4  5\n",
       " 2  3  4  5  6"
      ]
     },
     "execution_count": 65,
     "metadata": {},
     "output_type": "execute_result"
    }
   ],
   "source": [
    "Nel = size(xn,1)-1\n",
    "dof_map = zeros(Int, 2, Nel)\n",
    "for i = 1:Nel\n",
    "    dof_map[1,i] = i\n",
    "    dof_map[2,i] = i+1\n",
    "end\n",
    "dof_map"
   ]
  },
  {
   "cell_type": "code",
   "execution_count": 66,
   "metadata": {
    "collapsed": false
   },
   "outputs": [
    {
     "data": {
      "text/plain": [
       "6x6 Array{Float64,2}:\n",
       "  12.3667  -12.5667    0.0       0.0       0.0       0.0   \n",
       " -12.5667   24.7333  -12.5667    0.0       0.0       0.0   \n",
       "   0.0     -12.5667   24.7333  -12.5667    0.0       0.0   \n",
       "   0.0       0.0     -12.5667   24.7333  -12.5667    0.0   \n",
       "   0.0       0.0       0.0     -12.5667   24.7333  -12.5667\n",
       "   0.0       0.0       0.0       0.0     -12.5667   12.3667"
      ]
     },
     "execution_count": 66,
     "metadata": {},
     "output_type": "execute_result"
    }
   ],
   "source": [
    "M = zeros(Ndof, Ndof)\n",
    "\n",
    "for e = 1:Nel\n",
    "    Me = mass_matrix(xn[e], xn[e+1])\n",
    "    for i = 1:2\n",
    "        ig = dof_map[i,e]\n",
    "        for k = 1:2\n",
    "            kg = dof_map[k,e]\n",
    "            M[kg,ig] += Me[k,i]\n",
    "        end\n",
    "    end\n",
    "end\n",
    "M\n",
    "\n",
    "dM = zeros(Ndof, Ndof)\n",
    "\n",
    "for e = 1:Nel\n",
    "    dMe = stiff_matrix(xn[e], xn[e+1])\n",
    "    for i = 1:2\n",
    "        ig = dof_map[i,e]\n",
    "        for k = 1:2\n",
    "            kg = dof_map[k,e]\n",
    "            dM[kg,ig] += dMe[k,i]\n",
    "        end\n",
    "    end\n",
    "end\n",
    "dM\n",
    "dM = dM - M\n",
    "            "
   ]
  },
  {
   "cell_type": "code",
   "execution_count": null,
   "metadata": {
    "collapsed": true
   },
   "outputs": [],
   "source": []
  },
  {
   "cell_type": "code",
   "execution_count": null,
   "metadata": {
    "collapsed": true
   },
   "outputs": [],
   "source": []
  },
  {
   "cell_type": "markdown",
   "metadata": {},
   "source": [
    "## Montar o lado direito da equação:"
   ]
  },
  {
   "cell_type": "code",
   "execution_count": 67,
   "metadata": {
    "collapsed": false
   },
   "outputs": [
    {
     "data": {
      "text/plain": [
       "dresp (generic function with 1 method)"
      ]
     },
     "execution_count": 67,
     "metadata": {},
     "output_type": "execute_result"
    }
   ],
   "source": [
    "#wolfram problem : y'' + y = -4*pi^2*cos(2*pi*x) + cos(2*pi*x),y'(-1) = 0,y'(1)=0\n",
    "fun(x) = -4*pi^2*cos(2*pi*x) + cos(2*pi*x)\n",
    "resp(x) = cos(2*pi*x)\n",
    "dresp(x)= -2*pi*sin(2*pi*x)\n",
    "#fun(x) = -8*pi^2*cos(2*pi*x) + 2*cos(2*pi*x)\n",
    "#resp(x) = 2*cos(2*pi*x)\n"
   ]
  },
  {
   "cell_type": "code",
   "execution_count": 68,
   "metadata": {
    "collapsed": false
   },
   "outputs": [
    {
     "data": {
      "text/plain": [
       "6-element Array{Float64,1}:\n",
       " -38.4784\n",
       "  31.1297\n",
       " -11.8905\n",
       " -11.8905\n",
       "  31.1297\n",
       " -38.4784"
      ]
     },
     "execution_count": 68,
     "metadata": {},
     "output_type": "execute_result"
    }
   ],
   "source": [
    "fe = fun(xn)"
   ]
  },
  {
   "cell_type": "code",
   "execution_count": 69,
   "metadata": {
    "collapsed": false
   },
   "outputs": [
    {
     "data": {
      "text/plain": [
       "6-element Array{Float64,1}:\n",
       " -1.0\n",
       " -0.6\n",
       " -0.2\n",
       "  0.2\n",
       "  0.6\n",
       "  1.0"
      ]
     },
     "execution_count": 69,
     "metadata": {},
     "output_type": "execute_result"
    }
   ],
   "source": [
    "xn"
   ]
  },
  {
   "cell_type": "code",
   "execution_count": 70,
   "metadata": {
    "collapsed": false
   },
   "outputs": [],
   "source": [
    "F = zeros(Ndof)\n",
    "for e = 1:Nel\n",
    "    Me = mass_matrix(xn[e], xn[e+1])\n",
    "    Fe = Me * fun(xn[e:(e+1)])\n",
    "    for i = 1:2\n",
    "        ig = dof_map[i,e]\n",
    "        F[ig] += Fe[i]\n",
    "    end\n",
    "end\n",
    "        \n",
    "\n",
    "# Calculando a integral de maneira mais exata:\n",
    "using Jacobi\n",
    "Q = 20\n",
    "z = zgj(Q)\n",
    "w = wgj(z)\n",
    "\n",
    "F2 = zeros(Ndof)\n",
    "for e = 1:Nel\n",
    "    Fe1 = 0.0\n",
    "    Fe2 = 0.0\n",
    "    a1 = xn[e]\n",
    "    b1 = xn[e+1]\n",
    "    x = ( (1-z)*a1 + (1+z)*b1 ) / 2\n",
    "    J = (b1-a1) / 2\n",
    "    for q = 1:Q\n",
    "        f = fun(x[q])\n",
    "        Fe1 += J * w[q] * f * ϕ₁(x[q], a1, b1)\n",
    "        Fe2 += J * w[q] * f * ϕ₂(x[q], a1, b1)\n",
    "    end\n",
    "    i1 = dof_map[1,e]\n",
    "    i2 = dof_map[2,e]\n",
    "    F2[i1] += Fe1\n",
    "    F2[i2] += Fe2\n",
    "end\n",
    "\n"
   ]
  },
  {
   "cell_type": "code",
   "execution_count": 71,
   "metadata": {
    "collapsed": false
   },
   "outputs": [
    {
     "data": {
      "text/plain": [
       "6-element Array{Float64,1}:\n",
       "  3.05514\n",
       " -4.94332\n",
       "  1.88818\n",
       "  1.88818\n",
       " -4.94332\n",
       "  3.05514"
      ]
     },
     "execution_count": 71,
     "metadata": {},
     "output_type": "execute_result"
    }
   ],
   "source": [
    "F = -F"
   ]
  },
  {
   "cell_type": "code",
   "execution_count": 72,
   "metadata": {
    "collapsed": false
   },
   "outputs": [
    {
     "data": {
      "text/plain": [
       "6-element Array{Float64,1}:\n",
       "  4.40799\n",
       " -7.13227\n",
       "  2.72428\n",
       "  2.72428\n",
       " -7.13227\n",
       "  4.40799"
      ]
     },
     "execution_count": 72,
     "metadata": {},
     "output_type": "execute_result"
    }
   ],
   "source": [
    "F2 = -F2"
   ]
  },
  {
   "cell_type": "markdown",
   "metadata": {},
   "source": [
    "## Solução do problema"
   ]
  },
  {
   "cell_type": "code",
   "execution_count": 73,
   "metadata": {
    "collapsed": false
   },
   "outputs": [
    {
     "data": {
      "text/plain": [
       "6-element Array{Float64,1}:\n",
       "  0.135583 \n",
       " -0.109689 \n",
       "  0.0418976\n",
       "  0.0418976\n",
       " -0.109689 \n",
       "  0.135583 "
      ]
     },
     "execution_count": 73,
     "metadata": {},
     "output_type": "execute_result"
    }
   ],
   "source": [
    "u = dM\\F"
   ]
  },
  {
   "cell_type": "code",
   "execution_count": 74,
   "metadata": {
    "collapsed": false
   },
   "outputs": [
    {
     "data": {
      "text/plain": [
       "6x2 Array{Float64,2}:\n",
       "  3.05514   4.40799\n",
       " -4.94332  -7.13227\n",
       "  1.88818   2.72428\n",
       "  1.88818   2.72428\n",
       " -4.94332  -7.13227\n",
       "  3.05514   4.40799"
      ]
     },
     "execution_count": 74,
     "metadata": {},
     "output_type": "execute_result"
    }
   ],
   "source": [
    "hcat(F,F2)"
   ]
  },
  {
   "cell_type": "code",
   "execution_count": 75,
   "metadata": {
    "collapsed": false
   },
   "outputs": [
    {
     "data": {
      "text/plain": [
       "6-element Array{Float64,1}:\n",
       "  0.195621 \n",
       " -0.158261 \n",
       "  0.0604502\n",
       "  0.0604502\n",
       " -0.158261 \n",
       "  0.195621 "
      ]
     },
     "execution_count": 75,
     "metadata": {},
     "output_type": "execute_result"
    }
   ],
   "source": [
    "u2 = dM\\F2"
   ]
  },
  {
   "cell_type": "code",
   "execution_count": 78,
   "metadata": {
    "collapsed": false
   },
   "outputs": [
    {
     "data": {
      "image/png": "[encoded data removed]",
      "text/plain": [
       "PyPlot.Figure(PyObject <matplotlib.figure.Figure object at 0x7f236634fc10>)"
      ]
     },
     "metadata": {},
     "output_type": "display_data"
    },
    {
     "data": {
      "text/plain": [
       "6-element Array{Float64,1}:\n",
       "  0.135583 \n",
       " -0.109689 \n",
       "  0.0418976\n",
       "  0.0418976\n",
       " -0.109689 \n",
       "  0.135583 "
      ]
     },
     "execution_count": 78,
     "metadata": {},
     "output_type": "execute_result"
    }
   ],
   "source": [
    "using PyPlot\n",
    "xx = linspace(a, b, 201)\n",
    "#plot(xx, resp(xx))\n",
    "plot(xn, u, \"rs-\",label = \"u\")\n",
    "plot(xn, u2, \"bo--\",label = \"u2\")\n",
    "legend()\n",
    "u"
   ]
  },
  {
   "cell_type": "code",
   "execution_count": 77,
   "metadata": {
    "collapsed": false
   },
   "outputs": [
    {
     "data": {
      "image/png": "[encoded data removed]",
      "text/plain": [
       "PyPlot.Figure(PyObject <matplotlib.figure.Figure object at 0x7f23662978d0>)"
      ]
     },
     "metadata": {},
     "output_type": "display_data"
    },
    {
     "data": {
      "text/plain": [
       "PyObject <matplotlib.legend.Legend object at 0x7f2365f9f3d0>"
      ]
     },
     "execution_count": 77,
     "metadata": {},
     "output_type": "execute_result"
    }
   ],
   "source": [
    "e1 = u - fe\n",
    "e2 = u2 - fe\n",
    "figure()\n",
    "plot(xn, e1, \"rs-\",label=\"erro 1\")\n",
    "plot(xn, e2, \"go--\",label=\"erro 2\")\n",
    "legend()"
   ]
  },
  {
   "cell_type": "code",
   "execution_count": null,
   "metadata": {
    "collapsed": false
   },
   "outputs": [],
   "source": []
  },
  {
   "cell_type": "code",
   "execution_count": null,
   "metadata": {
    "collapsed": true
   },
   "outputs": [],
   "source": []
  },
  {
   "cell_type": "code",
   "execution_count": null,
   "metadata": {
    "collapsed": true
   },
   "outputs": [],
   "source": []
  },
  {
   "cell_type": "code",
   "execution_count": null,
   "metadata": {
    "collapsed": true
   },
   "outputs": [],
   "source": []
  }
 ],
 "metadata": {
  "kernelspec": {
   "display_name": "Julia 0.4.5",
   "language": "julia",
   "name": "julia-0.4"
  },
  "language_info": {
   "file_extension": ".jl",
   "mimetype": "application/julia",
   "name": "julia",
   "version": "0.4.5"
  }
 },
 "nbformat": 4,
 "nbformat_minor": 0
}
