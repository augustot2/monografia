{
 "cells": [
  {
   "cell_type": "markdown",
   "metadata": {},
   "source": [
    "## Elementos finitos linear 1D"
   ]
  },
  {
   "cell_type": "markdown",
   "metadata": {},
   "source": [
    "## Montar a matrix de massa"
   ]
  },
  {
   "cell_type": "code",
   "execution_count": 1,
   "metadata": {
    "collapsed": false
   },
   "outputs": [
    {
     "data": {
      "text/plain": [
       "stiff_matrix (generic function with 1 method)"
      ]
     },
     "execution_count": 1,
     "metadata": {},
     "output_type": "execute_result"
    }
   ],
   "source": [
    "ϕ₁(x, a, b)  = (b-x)/(b-a)\n",
    "ϕ₂(x, a, b)  = (x-a)/(b-a)\n",
    "dϕ₁(x, a, b)  = 1/(a-b)\n",
    "dϕ₂(x, a, b)  = 1/(b-a)\n",
    "mass_matrix(a, b) = [(b-a)/3 (b-a)/6; (b-a)/6 (b-a)/3]\n",
    "stiff_matrix(a, b)= [2/(a-b)^2 -2/(a-b)^2;-2/(a-b)^2 2/(a-b)^2 ]"
   ]
  },
  {
   "cell_type": "code",
   "execution_count": 2,
   "metadata": {
    "collapsed": false
   },
   "outputs": [
    {
     "data": {
      "text/plain": [
       "2x2 Array{Float64,2}:\n",
       " 0.666667  0.333333\n",
       " 0.333333  0.666667"
      ]
     },
     "execution_count": 2,
     "metadata": {},
     "output_type": "execute_result"
    }
   ],
   "source": [
    "mass_matrix(-1,1)"
   ]
  },
  {
   "cell_type": "code",
   "execution_count": 3,
   "metadata": {
    "collapsed": false
   },
   "outputs": [
    {
     "data": {
      "text/plain": [
       "2x2 Array{Float64,2}:\n",
       "  0.5  -0.5\n",
       " -0.5   0.5"
      ]
     },
     "execution_count": 3,
     "metadata": {},
     "output_type": "execute_result"
    }
   ],
   "source": [
    "stiff_matrix(-1,1)"
   ]
  },
  {
   "cell_type": "code",
   "execution_count": 4,
   "metadata": {
    "collapsed": false
   },
   "outputs": [
    {
     "ename": "LoadError",
     "evalue": "LoadError: UndefVarError: plot not defined\nwhile loading In[4], in expression starting on line 3",
     "output_type": "error",
     "traceback": [
      "LoadError: UndefVarError: plot not defined\nwhile loading In[4], in expression starting on line 3",
      ""
     ]
    }
   ],
   "source": [
    "x = linspace(-1,1,101)\n",
    "y1=[ϕ₁(x,-1,1) for x in linspace(-1,1,101)]\n",
    "plot(x,y1)"
   ]
  },
  {
   "cell_type": "code",
   "execution_count": 5,
   "metadata": {
    "collapsed": false
   },
   "outputs": [
    {
     "data": {
      "text/plain": [
       "2x2 Array{Float64,2}:\n",
       " 0.666667  0.333333\n",
       " 0.333333  0.666667"
      ]
     },
     "execution_count": 5,
     "metadata": {},
     "output_type": "execute_result"
    }
   ],
   "source": [
    "mass_matrix(-1,1)"
   ]
  },
  {
   "cell_type": "code",
   "execution_count": 6,
   "metadata": {
    "collapsed": false
   },
   "outputs": [
    {
     "data": {
      "text/plain": [
       "2x2 Array{Float64,2}:\n",
       " 0.333333  0.166667\n",
       " 0.166667  0.333333"
      ]
     },
     "execution_count": 6,
     "metadata": {},
     "output_type": "execute_result"
    }
   ],
   "source": [
    "mass_matrix(0,1)"
   ]
  },
  {
   "cell_type": "code",
   "execution_count": 7,
   "metadata": {
    "collapsed": false
   },
   "outputs": [],
   "source": [
    "a = -1.0\n",
    "b = 1.0\n",
    "Nel =  50\n",
    "xn = [linspace(a,b,Nel+1);]\n",
    "Ndof = size(xn,1);"
   ]
  },
  {
   "cell_type": "code",
   "execution_count": 8,
   "metadata": {
    "collapsed": false
   },
   "outputs": [
    {
     "data": {
      "text/plain": [
       "51-element Array{Float64,1}:\n",
       " -1.0 \n",
       " -0.96\n",
       " -0.92\n",
       " -0.88\n",
       " -0.84\n",
       " -0.8 \n",
       " -0.76\n",
       " -0.72\n",
       " -0.68\n",
       " -0.64\n",
       " -0.6 \n",
       " -0.56\n",
       " -0.52\n",
       "  ⋮   \n",
       "  0.56\n",
       "  0.6 \n",
       "  0.64\n",
       "  0.68\n",
       "  0.72\n",
       "  0.76\n",
       "  0.8 \n",
       "  0.84\n",
       "  0.88\n",
       "  0.92\n",
       "  0.96\n",
       "  1.0 "
      ]
     },
     "execution_count": 8,
     "metadata": {},
     "output_type": "execute_result"
    }
   ],
   "source": [
    "xn"
   ]
  },
  {
   "cell_type": "code",
   "execution_count": 9,
   "metadata": {
    "collapsed": false
   },
   "outputs": [
    {
     "data": {
      "text/plain": [
       "2x50 Array{Int64,2}:\n",
       " 1  2  3  4  5  6  7  8   9  10  11  …  42  43  44  45  46  47  48  49  50\n",
       " 2  3  4  5  6  7  8  9  10  11  12     43  44  45  46  47  48  49  50  51"
      ]
     },
     "execution_count": 9,
     "metadata": {},
     "output_type": "execute_result"
    }
   ],
   "source": [
    "Nel = size(xn,1)-1\n",
    "dof_map = zeros(Int, 2, Nel)\n",
    "for i = 1:Nel\n",
    "    dof_map[1,i] = i\n",
    "    dof_map[2,i] = i+1\n",
    "end\n",
    "dof_map"
   ]
  },
  {
   "cell_type": "code",
   "execution_count": 10,
   "metadata": {
    "collapsed": false
   },
   "outputs": [
    {
     "data": {
      "text/plain": [
       "51x51 Array{Float64,2}:\n",
       "  1249.99  -1250.01      0.0       0.0   …      0.0       0.0       0.0 \n",
       " -1250.01   2499.97  -1250.01      0.0          0.0       0.0       0.0 \n",
       "     0.0   -1250.01   2499.97  -1250.01         0.0       0.0       0.0 \n",
       "     0.0       0.0   -1250.01   2499.97         0.0       0.0       0.0 \n",
       "     0.0       0.0       0.0   -1250.01         0.0       0.0       0.0 \n",
       "     0.0       0.0       0.0       0.0   …      0.0       0.0       0.0 \n",
       "     0.0       0.0       0.0       0.0          0.0       0.0       0.0 \n",
       "     0.0       0.0       0.0       0.0          0.0       0.0       0.0 \n",
       "     0.0       0.0       0.0       0.0          0.0       0.0       0.0 \n",
       "     0.0       0.0       0.0       0.0          0.0       0.0       0.0 \n",
       "     0.0       0.0       0.0       0.0   …      0.0       0.0       0.0 \n",
       "     0.0       0.0       0.0       0.0          0.0       0.0       0.0 \n",
       "     0.0       0.0       0.0       0.0          0.0       0.0       0.0 \n",
       "     ⋮                                   ⋱                          ⋮   \n",
       "     0.0       0.0       0.0       0.0          0.0       0.0       0.0 \n",
       "     0.0       0.0       0.0       0.0   …      0.0       0.0       0.0 \n",
       "     0.0       0.0       0.0       0.0          0.0       0.0       0.0 \n",
       "     0.0       0.0       0.0       0.0          0.0       0.0       0.0 \n",
       "     0.0       0.0       0.0       0.0          0.0       0.0       0.0 \n",
       "     0.0       0.0       0.0       0.0          0.0       0.0       0.0 \n",
       "     0.0       0.0       0.0       0.0   …      0.0       0.0       0.0 \n",
       "     0.0       0.0       0.0       0.0          0.0       0.0       0.0 \n",
       "     0.0       0.0       0.0       0.0      -1250.01      0.0       0.0 \n",
       "     0.0       0.0       0.0       0.0       2499.97  -1250.01      0.0 \n",
       "     0.0       0.0       0.0       0.0      -1250.01   2499.97  -1250.01\n",
       "     0.0       0.0       0.0       0.0   …      0.0   -1250.01   1249.99"
      ]
     },
     "execution_count": 10,
     "metadata": {},
     "output_type": "execute_result"
    }
   ],
   "source": [
    "M = zeros(Ndof, Ndof)\n",
    "\n",
    "for e = 1:Nel\n",
    "    Me = mass_matrix(xn[e], xn[e+1])\n",
    "    for i = 1:2\n",
    "        ig = dof_map[i,e]\n",
    "        for k = 1:2\n",
    "            kg = dof_map[k,e]\n",
    "            M[kg,ig] += Me[k,i]\n",
    "        end\n",
    "    end\n",
    "end\n",
    "M\n",
    "\n",
    "dM = zeros(Ndof, Ndof)\n",
    "\n",
    "for e = 1:Nel\n",
    "    dMe = stiff_matrix(xn[e], xn[e+1])\n",
    "    for i = 1:2\n",
    "        ig = dof_map[i,e]\n",
    "        for k = 1:2\n",
    "            kg = dof_map[k,e]\n",
    "            dM[kg,ig] += dMe[k,i]\n",
    "        end\n",
    "    end\n",
    "end\n",
    "dM\n",
    "dM = dM - M\n",
    "            "
   ]
  },
  {
   "cell_type": "code",
   "execution_count": null,
   "metadata": {
    "collapsed": true
   },
   "outputs": [],
   "source": []
  },
  {
   "cell_type": "code",
   "execution_count": null,
   "metadata": {
    "collapsed": true
   },
   "outputs": [],
   "source": []
  },
  {
   "cell_type": "markdown",
   "metadata": {},
   "source": [
    "## Montar o lado direito da equação:"
   ]
  },
  {
   "cell_type": "code",
   "execution_count": 11,
   "metadata": {
    "collapsed": false
   },
   "outputs": [
    {
     "data": {
      "text/plain": [
       "dresp (generic function with 1 method)"
      ]
     },
     "execution_count": 11,
     "metadata": {},
     "output_type": "execute_result"
    }
   ],
   "source": [
    "#wolfram problem : y'' + y = -4*pi^2*cos(2*pi*x) + cos(2*pi*x),y'(-1) = 0,y'(1)=0\n",
    "fun(x) = -4*pi^2*cos(2*pi*x) + cos(2*pi*x)\n",
    "resp(x) = cos(2*pi*x)\n",
    "dresp(x)= -2*pi*sin(2*pi*x)\n",
    "#fun(x) = -8*pi^2*cos(2*pi*x) + 2*cos(2*pi*x)\n",
    "#resp(x) = 2*cos(2*pi*x)\n"
   ]
  },
  {
   "cell_type": "code",
   "execution_count": 12,
   "metadata": {
    "collapsed": false
   },
   "outputs": [
    {
     "data": {
      "text/plain": [
       "51-element Array{Float64,1}:\n",
       " -38.4784 \n",
       " -37.2695 \n",
       " -33.7189 \n",
       " -28.0496 \n",
       " -20.6178 \n",
       " -11.8905 \n",
       "  -2.41608\n",
       "   7.21014\n",
       "  16.3833 \n",
       "  24.5271 \n",
       "  31.1297 \n",
       "  35.7763 \n",
       "  38.175  \n",
       "   ⋮      \n",
       "  35.7763 \n",
       "  31.1297 \n",
       "  24.5271 \n",
       "  16.3833 \n",
       "   7.21014\n",
       "  -2.41608\n",
       " -11.8905 \n",
       " -20.6178 \n",
       " -28.0496 \n",
       " -33.7189 \n",
       " -37.2695 \n",
       " -38.4784 "
      ]
     },
     "execution_count": 12,
     "metadata": {},
     "output_type": "execute_result"
    }
   ],
   "source": [
    "fe = fun(xn)"
   ]
  },
  {
   "cell_type": "code",
   "execution_count": 14,
   "metadata": {
    "collapsed": false
   },
   "outputs": [],
   "source": [
    "F = zeros(Ndof)\n",
    "for e = 1:Nel\n",
    "    Me = mass_matrix(xn[e], xn[e+1])\n",
    "    Fe = Me * fun(xn[e:(e+1)])\n",
    "    for i = 1:2\n",
    "        ig = dof_map[i,e]\n",
    "        F[ig] += Fe[i]\n",
    "    end\n",
    "end\n",
    "        \n",
    "\n",
    "# Calculando a integral de maneira mais exata:\n",
    "using Jacobi\n",
    "Q = 20\n",
    "z = zgj(Q)\n",
    "w = wgj(z)\n",
    "\n",
    "F2 = zeros(Ndof)\n",
    "for e = 1:Nel\n",
    "    Fe1 = 0.0\n",
    "    Fe2 = 0.0\n",
    "    a1 = xn[e]\n",
    "    b1 = xn[e+1]\n",
    "    x = ( (1-z)*a1 + (1+z)*b1 ) / 2\n",
    "    J = (b1-a1) / 2\n",
    "    for q = 1:Q\n",
    "        f = fun(x[q])\n",
    "        Fe1 += J * w[q] * f * ϕ₁(x[q], a1, b1)\n",
    "        Fe2 += J * w[q] * f * ϕ₂(x[q], a1, b1)\n",
    "    end\n",
    "    i1 = dof_map[1,e]\n",
    "    i2 = dof_map[2,e]\n",
    "    F2[i1] += Fe1\n",
    "    F2[i2] += Fe2\n",
    "end\n",
    "\n"
   ]
  },
  {
   "cell_type": "code",
   "execution_count": 15,
   "metadata": {
    "collapsed": false
   },
   "outputs": [
    {
     "data": {
      "text/plain": [
       "51-element Array{Float64,1}:\n",
       "  0.761509 \n",
       "  1.47517  \n",
       "  1.33463  \n",
       "  1.11023  \n",
       "  0.816074 \n",
       "  0.470639 \n",
       "  0.0956311\n",
       " -0.285385 \n",
       " -0.64847  \n",
       " -0.970808 \n",
       " -1.23215  \n",
       " -1.41607  \n",
       " -1.51101  \n",
       "  ⋮        \n",
       " -1.41607  \n",
       " -1.23215  \n",
       " -0.970808 \n",
       " -0.64847  \n",
       " -0.285385 \n",
       "  0.0956311\n",
       "  0.470639 \n",
       "  0.816074 \n",
       "  1.11023  \n",
       "  1.33463  \n",
       "  1.47517  \n",
       "  0.761509 "
      ]
     },
     "execution_count": 15,
     "metadata": {},
     "output_type": "execute_result"
    }
   ],
   "source": [
    "F = -F"
   ]
  },
  {
   "cell_type": "code",
   "execution_count": 16,
   "metadata": {
    "collapsed": false
   },
   "outputs": [
    {
     "data": {
      "text/plain": [
       "51-element Array{Float64,1}:\n",
       "  0.765526 \n",
       "  1.48295  \n",
       "  1.34167  \n",
       "  1.11609  \n",
       "  0.820379 \n",
       "  0.473121 \n",
       "  0.0961356\n",
       " -0.286891 \n",
       " -0.65189  \n",
       " -0.975929 \n",
       " -1.23865  \n",
       " -1.42354  \n",
       " -1.51898  \n",
       "  ⋮        \n",
       " -1.42354  \n",
       " -1.23865  \n",
       " -0.975929 \n",
       " -0.65189  \n",
       " -0.286891 \n",
       "  0.0961356\n",
       "  0.473121 \n",
       "  0.820379 \n",
       "  1.11609  \n",
       "  1.34167  \n",
       "  1.48295  \n",
       "  0.765526 "
      ]
     },
     "execution_count": 16,
     "metadata": {},
     "output_type": "execute_result"
    }
   ],
   "source": [
    "F2 = -F2"
   ]
  },
  {
   "cell_type": "markdown",
   "metadata": {},
   "source": [
    "## Solução do problema"
   ]
  },
  {
   "cell_type": "code",
   "execution_count": 17,
   "metadata": {
    "collapsed": false
   },
   "outputs": [
    {
     "data": {
      "text/plain": [
       "51-element Array{Float64,1}:\n",
       "  0.0194009 \n",
       "  0.0187914 \n",
       "  0.0170011 \n",
       "  0.0141426 \n",
       "  0.0103955 \n",
       "  0.0059952 \n",
       "  0.00121819\n",
       " -0.00363536\n",
       " -0.0082605 \n",
       " -0.0123666 \n",
       " -0.0156956 \n",
       " -0.0180385 \n",
       " -0.0192479 \n",
       "  ⋮         \n",
       " -0.0180385 \n",
       " -0.0156956 \n",
       " -0.0123666 \n",
       " -0.0082605 \n",
       " -0.00363536\n",
       "  0.00121819\n",
       "  0.0059952 \n",
       "  0.0103955 \n",
       "  0.0141426 \n",
       "  0.0170011 \n",
       "  0.0187914 \n",
       "  0.0194009 "
      ]
     },
     "execution_count": 17,
     "metadata": {},
     "output_type": "execute_result"
    }
   ],
   "source": [
    "u = dM\\F"
   ]
  },
  {
   "cell_type": "code",
   "execution_count": 18,
   "metadata": {
    "collapsed": false
   },
   "outputs": [
    {
     "data": {
      "text/plain": [
       "51x2 Array{Float64,2}:\n",
       "  0.761509    0.765526 \n",
       "  1.47517     1.48295  \n",
       "  1.33463     1.34167  \n",
       "  1.11023     1.11609  \n",
       "  0.816074    0.820379 \n",
       "  0.470639    0.473121 \n",
       "  0.0956311   0.0961356\n",
       " -0.285385   -0.286891 \n",
       " -0.64847    -0.65189  \n",
       " -0.970808   -0.975929 \n",
       " -1.23215    -1.23865  \n",
       " -1.41607    -1.42354  \n",
       " -1.51101    -1.51898  \n",
       "  ⋮                    \n",
       " -1.41607    -1.42354  \n",
       " -1.23215    -1.23865  \n",
       " -0.970808   -0.975929 \n",
       " -0.64847    -0.65189  \n",
       " -0.285385   -0.286891 \n",
       "  0.0956311   0.0961356\n",
       "  0.470639    0.473121 \n",
       "  0.816074    0.820379 \n",
       "  1.11023     1.11609  \n",
       "  1.33463     1.34167  \n",
       "  1.47517     1.48295  \n",
       "  0.761509    0.765526 "
      ]
     },
     "execution_count": 18,
     "metadata": {},
     "output_type": "execute_result"
    }
   ],
   "source": [
    "hcat(F,F2)"
   ]
  },
  {
   "cell_type": "code",
   "execution_count": 19,
   "metadata": {
    "collapsed": false
   },
   "outputs": [
    {
     "data": {
      "text/plain": [
       "51-element Array{Float64,1}:\n",
       "  0.0195032 \n",
       "  0.0188905 \n",
       "  0.0170908 \n",
       "  0.0142172 \n",
       "  0.0104503 \n",
       "  0.00602683\n",
       "  0.00122462\n",
       " -0.00365454\n",
       " -0.00830407\n",
       " -0.0124318 \n",
       " -0.0157784 \n",
       " -0.0181336 \n",
       " -0.0193494 \n",
       "  ⋮         \n",
       " -0.0181336 \n",
       " -0.0157784 \n",
       " -0.0124318 \n",
       " -0.00830407\n",
       " -0.00365454\n",
       "  0.00122462\n",
       "  0.00602683\n",
       "  0.0104503 \n",
       "  0.0142172 \n",
       "  0.0170908 \n",
       "  0.0188905 \n",
       "  0.0195032 "
      ]
     },
     "execution_count": 19,
     "metadata": {},
     "output_type": "execute_result"
    }
   ],
   "source": [
    "u2 = dM\\F2"
   ]
  },
  {
   "cell_type": "code",
   "execution_count": 20,
   "metadata": {
    "collapsed": false
   },
   "outputs": [
    {
     "data": {
      "image/png": "[encoded data removed]",
      "text/plain": [
       "PyPlot.Figure(PyObject <matplotlib.figure.Figure object at 0x7f1334644150>)"
      ]
     },
     "metadata": {},
     "output_type": "display_data"
    },
    {
     "data": {
      "text/plain": [
       "51-element Array{Float64,1}:\n",
       "  0.0194009 \n",
       "  0.0187914 \n",
       "  0.0170011 \n",
       "  0.0141426 \n",
       "  0.0103955 \n",
       "  0.0059952 \n",
       "  0.00121819\n",
       " -0.00363536\n",
       " -0.0082605 \n",
       " -0.0123666 \n",
       " -0.0156956 \n",
       " -0.0180385 \n",
       " -0.0192479 \n",
       "  ⋮         \n",
       " -0.0180385 \n",
       " -0.0156956 \n",
       " -0.0123666 \n",
       " -0.0082605 \n",
       " -0.00363536\n",
       "  0.00121819\n",
       "  0.0059952 \n",
       "  0.0103955 \n",
       "  0.0141426 \n",
       "  0.0170011 \n",
       "  0.0187914 \n",
       "  0.0194009 "
      ]
     },
     "execution_count": 20,
     "metadata": {},
     "output_type": "execute_result"
    }
   ],
   "source": [
    "using PyPlot\n",
    "xx = linspace(a, b, 201)\n",
    "#plot(xx, resp(xx))\n",
    "plot(xn, u, \"rs-\",label = \"u\")\n",
    "plot(xn, u2, \"bo--\",label = \"u2\")\n",
    "legend()\n",
    "u"
   ]
  },
  {
   "cell_type": "code",
   "execution_count": 21,
   "metadata": {
    "collapsed": false
   },
   "outputs": [
    {
     "data": {
      "image/png": "[encoded data removed]",
      "text/plain": [
       "PyPlot.Figure(PyObject <matplotlib.figure.Figure object at 0x7f1318ebe210>)"
      ]
     },
     "metadata": {},
     "output_type": "display_data"
    },
    {
     "data": {
      "text/plain": [
       "PyObject <matplotlib.legend.Legend object at 0x7f1318c099d0>"
      ]
     },
     "execution_count": 21,
     "metadata": {},
     "output_type": "execute_result"
    }
   ],
   "source": [
    "e1 = u - fe\n",
    "e2 = u2 - fe\n",
    "figure()\n",
    "plot(xn, e1, \"rs-\",label=\"erro 1\")\n",
    "plot(xn, e2, \"go--\",label=\"erro 2\")\n",
    "legend()"
   ]
  },
  {
   "cell_type": "code",
   "execution_count": null,
   "metadata": {
    "collapsed": false
   },
   "outputs": [],
   "source": []
  },
  {
   "cell_type": "code",
   "execution_count": null,
   "metadata": {
    "collapsed": true
   },
   "outputs": [],
   "source": []
  },
  {
   "cell_type": "code",
   "execution_count": null,
   "metadata": {
    "collapsed": true
   },
   "outputs": [],
   "source": []
  },
  {
   "cell_type": "code",
   "execution_count": null,
   "metadata": {
    "collapsed": true
   },
   "outputs": [],
   "source": []
  }
 ],
 "metadata": {
  "kernelspec": {
   "display_name": "Julia 0.4.5",
   "language": "julia",
   "name": "julia-0.4"
  },
  "language_info": {
   "file_extension": ".jl",
   "mimetype": "application/julia",
   "name": "julia",
   "version": "0.4.5"
  }
 },
 "nbformat": 4,
 "nbformat_minor": 0
}
