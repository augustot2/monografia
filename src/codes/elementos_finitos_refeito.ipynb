{
 "cells": [
  {
   "cell_type": "code",
   "execution_count": 1,
   "metadata": {
    "collapsed": true
   },
   "outputs": [],
   "source": [
    "using PyPlot\n",
    "using Jacobi"
   ]
  },
  {
   "cell_type": "code",
   "execution_count": 2,
   "metadata": {
    "collapsed": false
   },
   "outputs": [
    {
     "data": {
      "text/plain": [
       "dremap (generic function with 1 method)"
      ]
     },
     "execution_count": 2,
     "metadata": {},
     "output_type": "execute_result"
    }
   ],
   "source": [
    "remap(x,a,b) = ((1-x).*a + (1+x).*b)/2\n",
    "remap(x,extremos) = ((1-x).*extremos[1] + (1+x).*extremos[2])/2\n",
    "dremap(lim)   = (lim[2] - lim[1])/2"
   ]
  },
  {
   "cell_type": "code",
   "execution_count": 3,
   "metadata": {
    "collapsed": false
   },
   "outputs": [
    {
     "data": {
      "text/plain": [
       "map_matrix (generic function with 1 method)"
      ]
     },
     "execution_count": 3,
     "metadata": {},
     "output_type": "execute_result"
    }
   ],
   "source": [
    "function map_matrix(Nel)\n",
    "    nos = zglj(Nel+1)\n",
    "    matrix = zeros(Nel,2)\n",
    "    matrix[1,1],matrix[1,2]=1,2\n",
    "    for i in 2:Nel\n",
    "        matrix[i,1] = i\n",
    "        matrix[i,2] = i + 1\n",
    "    end\n",
    "    return round(Int64,matrix)\n",
    "end"
   ]
  },
  {
   "cell_type": "code",
   "execution_count": 4,
   "metadata": {
    "collapsed": false
   },
   "outputs": [
    {
     "data": {
      "text/plain": [
       "ϕ_matrix (generic function with 1 method)"
      ]
     },
     "execution_count": 4,
     "metadata": {},
     "output_type": "execute_result"
    }
   ],
   "source": [
    "function  ϕ_matrix(ψj,Q,M,z)\n",
    "    ϕ = zeros(Q,M)\n",
    "    for i in 1:M\n",
    "        for j in 1:Q\n",
    "            ϕ[j,i] = ψj(i,z[j],M)\n",
    "        end\n",
    "    end\n",
    "  return ϕ\n",
    "end "
   ]
  },
  {
   "cell_type": "code",
   "execution_count": 5,
   "metadata": {
    "collapsed": false
   },
   "outputs": [
    {
     "data": {
      "text/plain": [
       "ψ (generic function with 1 method)"
      ]
     },
     "execution_count": 5,
     "metadata": {},
     "output_type": "execute_result"
    }
   ],
   "source": [
    "function ψ(p,E,M)\n",
    "    if(p == 1)\n",
    "        return  (1-E)/2\n",
    "    elseif(p == 2)\n",
    "        return  (1+E)/2\n",
    "    end\n",
    "end "
   ]
  },
  {
   "cell_type": "code",
   "execution_count": 6,
   "metadata": {
    "collapsed": false
   },
   "outputs": [
    {
     "data": {
      "text/plain": [
       "cria_Ae (generic function with 1 method)"
      ]
     },
     "execution_count": 6,
     "metadata": {},
     "output_type": "execute_result"
    }
   ],
   "source": [
    "function cria_Ae(e,Q,M,jac,ϕ,w)\n",
    "    A = zeros(M,M)\n",
    "    #ϕ = ϕ_matrix(ψ,Q,M)\n",
    "    for i in 1:M\n",
    "        for j in 1:M\n",
    "            temp = 0.0\n",
    "            for q in 1:Q\n",
    "                temp = temp + ϕ[q,i]*ϕ[q,j]*w[q]*jac[e]\n",
    "            end\n",
    "            A[i,j] = temp\n",
    "        end\n",
    "    end\n",
    "    return A\n",
    "end"
   ]
  },
  {
   "cell_type": "code",
   "execution_count": 7,
   "metadata": {
    "collapsed": false
   },
   "outputs": [
    {
     "data": {
      "text/plain": [
       "mass_matrix (generic function with 1 method)"
      ]
     },
     "execution_count": 7,
     "metadata": {},
     "output_type": "execute_result"
    }
   ],
   "source": [
    "function mass_matrix(map,Q,M,Ne,jac,w,ϕ)\n",
    "    A   = zeros(Ne+1,Ne+1)\n",
    "    for e in 1:Ne\n",
    "        Ae= cria_Ae(e,Q,M,jac,ϕ,w)\n",
    "        for i in 1:2\n",
    "            for j in 1:2\n",
    "                ig = map[e,i]\n",
    "                jg = map[e,j]\n",
    "                A[ig,jg] += Ae[i,j]\n",
    "            end\n",
    "        end\n",
    "    end\n",
    "    return A\n",
    "end\n"
   ]
  },
  {
   "cell_type": "code",
   "execution_count": 8,
   "metadata": {
    "collapsed": false
   },
   "outputs": [
    {
     "data": {
      "text/plain": [
       "elem_matrix (generic function with 1 method)"
      ]
     },
     "execution_count": 8,
     "metadata": {},
     "output_type": "execute_result"
    }
   ],
   "source": [
    "function elem_matrix(Nel,a,b)\n",
    "    nos = zglj(Nel+1)\n",
    "    matrix = zeros(Nel,2)\n",
    "    matrix[1,1],matrix[1,2]=remap(nos[1] ,a,b),remap(nos[2] ,a,b)\n",
    "    for i in 2:Nel\n",
    "        matrix[i,1] = remap(nos[i] ,a,b)\n",
    "        matrix[i,2] = remap(nos[i+1] ,a,b)\n",
    "    end\n",
    "    return matrix\n",
    "end"
   ]
  },
  {
   "cell_type": "code",
   "execution_count": 9,
   "metadata": {
    "collapsed": false
   },
   "outputs": [
    {
     "data": {
      "text/plain": [
       "cria_Fe (generic function with 1 method)"
      ]
     },
     "execution_count": 9,
     "metadata": {},
     "output_type": "execute_result"
    }
   ],
   "source": [
    "function cria_Fe(f,e,Q,M,e_M,w,z,ϕ,jac)\n",
    "    Fe = zeros(M)\n",
    "    x  = [remap(z,e_M[1,:]) for z in z]\n",
    "    for i in 1:2\n",
    "        for q in 1:Q\n",
    "            Fe[i] += jac[e] * ϕ[q,i] * f(x[q])*w[q]\n",
    "        end\n",
    "    end\n",
    "    return Fe\n",
    "end"
   ]
  },
  {
   "cell_type": "code",
   "execution_count": 26,
   "metadata": {
    "collapsed": false
   },
   "outputs": [
    {
     "data": {
      "text/plain": [
       "fr_vector (generic function with 3 methods)"
      ]
     },
     "execution_count": 26,
     "metadata": {},
     "output_type": "execute_result"
    }
   ],
   "source": [
    "function fr_vector(fun,Nel,Q,M,e_M,wg,zg,ψ,jac)\n",
    "    fr = zeros(Nel+1)\n",
    "    map = map_matrix(Nel)\n",
    "    for e in 1:Nel\n",
    "        Fe = cria_Fe(fun,e,Q,M,e_M,wg,zg,ψ,jac)\n",
    "        #Fe = cria_Fe(f,e,Q,M,e_M,w,z,ϕ,jac)\n",
    "        for i in 1:2\n",
    "            ig = map[e,i]\n",
    "            fr[ig] += Fe[i]\n",
    "        end\n",
    "    end\n",
    "    return fr\n",
    "end"
   ]
  },
  {
   "cell_type": "code",
   "execution_count": 11,
   "metadata": {
    "collapsed": false
   },
   "outputs": [
    {
     "data": {
      "text/plain": [
       "fun (generic function with 1 method)"
      ]
     },
     "execution_count": 11,
     "metadata": {},
     "output_type": "execute_result"
    }
   ],
   "source": [
    "fun(x) = sin(2.*x.*pi)"
   ]
  },
  {
   "cell_type": "code",
   "execution_count": 35,
   "metadata": {
    "collapsed": false
   },
   "outputs": [
    {
     "ename": "LoadError",
     "evalue": "LoadError: MethodError: `getindex` has no method matching getindex(::Function, ::Int64, ::Int64)\nwhile loading In[35], in expression starting on line 17",
     "output_type": "error",
     "traceback": [
      "LoadError: MethodError: `getindex` has no method matching getindex(::Function, ::Int64, ::Int64)\nwhile loading In[35], in expression starting on line 17",
      "",
      " in cria_Fe at In[9]:6"
     ]
    }
   ],
   "source": [
    "Nel = 10\n",
    "Q   = 10\n",
    "M   = 2\n",
    "a   = -1 \n",
    "b   = 1\n",
    "z   = zglj(Q)\n",
    "w   = wglj(z)\n",
    "zg  = zglj(Nel+1)\n",
    "wg  = wglj(zg)\n",
    "ϕ   = ϕ_matrix(ψ, Q, M, z);\n",
    "e_M = elem_matrix(Nel, a, b)\n",
    "jac = [dremap(e_M[e,:]) for e in 1:Nel]\n",
    "map = map_matrix(Nel)\n",
    "M = mass_matrix(map, Q, M, Nel, jac, w, ϕ)\n",
    "#fr = fr_vector(fun,Nel,Q,M,e_M,wg,zg,ψ,jac)\n",
    "\n",
    "cria_Fe(fun,1,Q,M,e_M,wg,zg,ψ,jac)\n",
    "#uh = M\\fr"
   ]
  },
  {
   "cell_type": "code",
   "execution_count": 13,
   "metadata": {
    "collapsed": false
   },
   "outputs": [
    {
     "ename": "LoadError",
     "evalue": "LoadError: UndefVarError: uh not defined\nwhile loading In[13], in expression starting on line 1",
     "output_type": "error",
     "traceback": [
      "LoadError: UndefVarError: uh not defined\nwhile loading In[13], in expression starting on line 1",
      ""
     ]
    }
   ],
   "source": [
    "plot(zglj(Nel+1),uh)\n",
    "plot(zglj(Nel+1),fun(zglj(Nel+1)))"
   ]
  },
  {
   "cell_type": "code",
   "execution_count": null,
   "metadata": {
    "collapsed": false
   },
   "outputs": [],
   "source": []
  },
  {
   "cell_type": "code",
   "execution_count": null,
   "metadata": {
    "collapsed": true
   },
   "outputs": [],
   "source": []
  },
  {
   "cell_type": "code",
   "execution_count": null,
   "metadata": {
    "collapsed": true
   },
   "outputs": [],
   "source": []
  }
 ],
 "metadata": {
  "kernelspec": {
   "display_name": "Julia 0.4.2",
   "language": "julia",
   "name": "julia-0.4"
  },
  "language_info": {
   "file_extension": ".jl",
   "mimetype": "application/julia",
   "name": "julia",
   "version": "0.4.2"
  }
 },
 "nbformat": 4,
 "nbformat_minor": 0
}
