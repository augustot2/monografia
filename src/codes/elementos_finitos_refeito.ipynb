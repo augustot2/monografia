{
 "cells": [
  {
   "cell_type": "code",
   "execution_count": 31,
   "metadata": {
    "collapsed": true
   },
   "outputs": [],
   "source": [
    "using PyPlot\n",
    "using Jacobi"
   ]
  },
  {
   "cell_type": "code",
   "execution_count": 72,
   "metadata": {
    "collapsed": false
   },
   "outputs": [
    {
     "data": {
      "text/plain": [
       "dremap (generic function with 1 method)"
      ]
     },
     "execution_count": 72,
     "metadata": {},
     "output_type": "execute_result"
    }
   ],
   "source": [
    "remap(x,a,b) = ((1-x).*a + (1+x).*b)/2\n",
    "remap(x,extremos) = ((1-x).*extremos[1] + (1+x).*extremos[2])/2\n",
    "dremap(lim)   = (lim[2] - lim[1])/2"
   ]
  },
  {
   "cell_type": "code",
   "execution_count": 33,
   "metadata": {
    "collapsed": false
   },
   "outputs": [
    {
     "data": {
      "text/plain": [
       "map_matrix (generic function with 1 method)"
      ]
     },
     "execution_count": 33,
     "metadata": {},
     "output_type": "execute_result"
    }
   ],
   "source": [
    "function map_matrix(Nel)\n",
    "    nos = zglj(Nel+1)\n",
    "    matrix = zeros(Nel,2)\n",
    "    matrix[1,1],matrix[1,2]=1,2\n",
    "    for i in 2:Nel\n",
    "        matrix[i,1] = i\n",
    "        matrix[i,2] = i + 1\n",
    "    end\n",
    "    return round(Int64,matrix)\n",
    "end"
   ]
  },
  {
   "cell_type": "code",
   "execution_count": 34,
   "metadata": {
    "collapsed": false
   },
   "outputs": [
    {
     "data": {
      "text/plain": [
       "ϕ_matrix (generic function with 1 method)"
      ]
     },
     "execution_count": 34,
     "metadata": {},
     "output_type": "execute_result"
    }
   ],
   "source": [
    "function  ϕ_matrix(ψj,Q,M,z)\n",
    "    ϕ = zeros(Q,M)\n",
    "    for i in 1:M\n",
    "        for j in 1:Q\n",
    "            ϕ[j,i] = ψj(i,z[j],M)\n",
    "        end\n",
    "    end\n",
    "  return ϕ\n",
    "end "
   ]
  },
  {
   "cell_type": "code",
   "execution_count": 35,
   "metadata": {
    "collapsed": false
   },
   "outputs": [
    {
     "data": {
      "text/plain": [
       "ψ (generic function with 1 method)"
      ]
     },
     "execution_count": 35,
     "metadata": {},
     "output_type": "execute_result"
    }
   ],
   "source": [
    "function ψ(p,E,M)\n",
    "    if(p == 1)\n",
    "        return  (1-E)/2\n",
    "    elseif(p == 2)\n",
    "        return  (1+E)/2\n",
    "    end\n",
    "end "
   ]
  },
  {
   "cell_type": "code",
   "execution_count": 36,
   "metadata": {
    "collapsed": false
   },
   "outputs": [
    {
     "data": {
      "text/plain": [
       "cria_Ae (generic function with 1 method)"
      ]
     },
     "execution_count": 36,
     "metadata": {},
     "output_type": "execute_result"
    }
   ],
   "source": [
    "function cria_Ae(e,Q,M,jac,ϕ,w)\n",
    "    A = zeros(M,M)\n",
    "    #ϕ = ϕ_matrix(ψ,Q,M)\n",
    "    for i in 1:M\n",
    "        for j in 1:M\n",
    "            temp = 0.0\n",
    "            for q in 1:Q\n",
    "                temp = temp + ϕ[q,i]*ϕ[q,j]*w[q]*jac[e]\n",
    "            end\n",
    "            A[i,j] = temp\n",
    "        end\n",
    "    end\n",
    "    return A\n",
    "end"
   ]
  },
  {
   "cell_type": "code",
   "execution_count": null,
   "metadata": {
    "collapsed": true
   },
   "outputs": [],
   "source": []
  },
  {
   "cell_type": "code",
   "execution_count": 37,
   "metadata": {
    "collapsed": false
   },
   "outputs": [
    {
     "data": {
      "text/plain": [
       "mass_matrix (generic function with 1 method)"
      ]
     },
     "execution_count": 37,
     "metadata": {},
     "output_type": "execute_result"
    }
   ],
   "source": [
    "function mass_matrix(map,Q,M,Ne,jac,w,ϕ)\n",
    "    A   = zeros(Ne+1,Ne+1)\n",
    "    for e in 1:Ne\n",
    "        Ae= cria_Ae(e,Q,M,jac,ϕ,wglj(zglj(Q)))\n",
    "        for i in 1:2\n",
    "            for j in 1:2\n",
    "                ig = map[e,i]\n",
    "                jg = map[e,j]\n",
    "                A[ig,jg] += Ae[i,j]\n",
    "            end\n",
    "        end\n",
    "    end\n",
    "    return A\n",
    "end\n"
   ]
  },
  {
   "cell_type": "code",
   "execution_count": 38,
   "metadata": {
    "collapsed": false
   },
   "outputs": [
    {
     "ename": "LoadError",
     "evalue": "LoadError: BoundsError: attempt to access 3-element Array{Any,1}:\n 0.172673\n 0.327327\n 0.327327\n  at index [4]\nwhile loading In[38], in expression starting on line 7",
     "output_type": "error",
     "traceback": [
      "LoadError: BoundsError: attempt to access 3-element Array{Any,1}:\n 0.172673\n 0.327327\n 0.327327\n  at index [4]\nwhile loading In[38], in expression starting on line 7",
      "",
      " in cria_Ae at In[36]:8",
      " in mass_matrix at In[37]:4"
     ]
    }
   ],
   "source": [
    "map = map_matrix(5)\n",
    "z = zglj(10)\n",
    "w = wglj(z)\n",
    "\n",
    "jac = [dremap(e_M[e,:]) for e in 1:Nel]\n",
    "ϕ = ϕ_matrix(ψ, 10, 2, zglj(10))\n",
    "mass_matrix(map,10,2,5,jac,w,ϕ)"
   ]
  },
  {
   "cell_type": "code",
   "execution_count": 39,
   "metadata": {
    "collapsed": false
   },
   "outputs": [
    {
     "data": {
      "text/plain": [
       "elem_matrix (generic function with 1 method)"
      ]
     },
     "execution_count": 39,
     "metadata": {},
     "output_type": "execute_result"
    }
   ],
   "source": [
    "function elem_matrix(Nel,a,b)\n",
    "    nos = zglj(Nel+1)\n",
    "    matrix = zeros(Nel,2)\n",
    "    matrix[1,1],matrix[1,2]=remap(nos[1] ,a,b),remap(nos[2] ,a,b)\n",
    "    for i in 2:Nel\n",
    "        matrix[i,1] = remap(nos[i] ,a,b)\n",
    "        matrix[i,2] = remap(nos[i+1] ,a,b)\n",
    "    end\n",
    "    return matrix\n",
    "end"
   ]
  },
  {
   "cell_type": "code",
   "execution_count": 324,
   "metadata": {
    "collapsed": false
   },
   "outputs": [
    {
     "data": {
      "text/plain": [
       "cria_Fe (generic function with 1 method)"
      ]
     },
     "execution_count": 324,
     "metadata": {},
     "output_type": "execute_result"
    }
   ],
   "source": [
    "function cria_Fe(f,e,Q,M,e_M,w,z,ϕ,jac)\n",
    "    Fe = zeros(M)\n",
    "    x  = [remap(z,e_M[1,:]) for z in z]\n",
    "    for i in 1:2\n",
    "        for q in 1:Q\n",
    "       #     Fe[i] += jac[e] .* ϕ[q,i] #* f(x[q]) *w[q]\n",
    "        end\n",
    "    end\n",
    "    return Fe\n",
    "end"
   ]
  },
  {
   "cell_type": "code",
   "execution_count": null,
   "metadata": {
    "collapsed": true
   },
   "outputs": [],
   "source": [
    "x  = [remap(z,e_M[1,:]) for z in z]\n",
    "ϕ\n",
    "Fe = zeros(2)\n",
    "for i in 1:2\n",
    "    for q in 1:10\n",
    "        Fe[i] += jac[1]*ϕ[q,i]*fun(x[q])*w[q]\n",
    "    end\n",
    "end\n",
    "Fe"
   ]
  },
  {
   "cell_type": "code",
   "execution_count": 177,
   "metadata": {
    "collapsed": false
   },
   "outputs": [
    {
     "data": {
      "text/plain": [
       "3-element Array{Float64,1}:\n",
       " 2.0\n",
       " 2.0\n",
       " 2.0"
      ]
     },
     "execution_count": 177,
     "metadata": {},
     "output_type": "execute_result"
    }
   ],
   "source": [
    "l = zeros(3)\n",
    "for i in 1:3\n",
    "    for j in 1:2\n",
    "        l[i] += 1\n",
    "    end\n",
    "end\n",
    "l"
   ]
  },
  {
   "cell_type": "code",
   "execution_count": 67,
   "metadata": {
    "collapsed": false
   },
   "outputs": [
    {
     "data": {
      "text/plain": [
       "fr_vector2 (generic function with 1 method)"
      ]
     },
     "execution_count": 67,
     "metadata": {},
     "output_type": "execute_result"
    }
   ],
   "source": [
    "function fr_vector2(fun,Nel,Q,M,e_M,wg,zg,ψ,jac)\n",
    "    fr = zeros(Nel+1)\n",
    "    map = map_matrix(Nel)\n",
    "    for e in 1:Nel\n",
    "        Fe = cria_Fe(fun,e,Q,M,e_M,wglj(zglj(Q)),zglj(Q),ψ,jac)\n",
    "        for i in 1:2\n",
    "            ig = map[e,i]\n",
    "            fr[ig] += Fe[i]\n",
    "        end\n",
    "    end\n",
    "    return fr\n",
    "end"
   ]
  },
  {
   "cell_type": "code",
   "execution_count": 61,
   "metadata": {
    "collapsed": false
   },
   "outputs": [
    {
     "data": {
      "text/plain": [
       "fun (generic function with 1 method)"
      ]
     },
     "execution_count": 61,
     "metadata": {},
     "output_type": "execute_result"
    }
   ],
   "source": [
    "fun(x) = sin(2.*x.*pi)"
   ]
  },
  {
   "cell_type": "code",
   "execution_count": 235,
   "metadata": {
    "collapsed": false
   },
   "outputs": [
    {
     "ename": "LoadError",
     "evalue": "LoadError: MethodError: `convert` has no method matching convert(::Type{Array{T,N}}, ::Type{Float64}, ::Int64, ::Array{Float64,2})\nThis may have arisen from a call to the constructor Array{T,N}(...),\nsince type constructors fall back to convert methods.\nClosest candidates are:\n  Array{T}(::Type{T}, ::Integer)\n  Array{T}(::Type{T}, ::Integer, !Matched::Integer)\n  Array{T}(::Type{T}, ::Integer, !Matched::Integer, !Matched::Integer)\n  ...\nwhile loading In[235], in expression starting on line 10",
     "output_type": "error",
     "traceback": [
      "LoadError: MethodError: `convert` has no method matching convert(::Type{Array{T,N}}, ::Type{Float64}, ::Int64, ::Array{Float64,2})\nThis may have arisen from a call to the constructor Array{T,N}(...),\nsince type constructors fall back to convert methods.\nClosest candidates are:\n  Array{T}(::Type{T}, ::Integer)\n  Array{T}(::Type{T}, ::Integer, !Matched::Integer)\n  Array{T}(::Type{T}, ::Integer, !Matched::Integer, !Matched::Integer)\n  ...\nwhile loading In[235], in expression starting on line 10",
      "",
      " in call at essentials.jl:57",
      " in ϕ_matrix at In[34]:2"
     ]
    }
   ],
   "source": [
    "Nel = 2\n",
    "Q   = 100\n",
    "Modal   = 2\n",
    "a   = -1 \n",
    "b   = 1\n",
    "z   = zglj(Q)\n",
    "w   = wglj(z)\n",
    "zg  = zglj(Nel+1)\n",
    "wg  = wglj(zg)\n",
    "ϕ   = ϕ_matrix(ψ, Q, M, z);\n",
    "e_M = elem_matrix(Nel, a, b)\n",
    "jac = [dremap(e_M[e,:]) for e in 1:Nel]\n",
    "map = map_matrix(Nel)\n",
    "M_matrix = mass_matrix(map, Q, Modal, Nel, jac, w, ϕ)\n",
    "\n",
    "#fr = fr_vector(fun,Nel,Q,M,e_M,wg,zg,ψ,jac)\n",
    "\n",
    "#uh = M\\fr\n"
   ]
  },
  {
   "cell_type": "code",
   "execution_count": null,
   "metadata": {
    "collapsed": false
   },
   "outputs": [],
   "source": []
  },
  {
   "cell_type": "code",
   "execution_count": 44,
   "metadata": {
    "collapsed": false
   },
   "outputs": [
    {
     "ename": "LoadError",
     "evalue": "LoadError: UndefVarError: uh not defined\nwhile loading In[44], in expression starting on line 1",
     "output_type": "error",
     "traceback": [
      "LoadError: UndefVarError: uh not defined\nwhile loading In[44], in expression starting on line 1",
      ""
     ]
    }
   ],
   "source": [
    "plot(zglj(Nel+1),uh)\n",
    "plot(zglj(Nel+1),fun(zglj(Nel+1)))"
   ]
  },
  {
   "cell_type": "code",
   "execution_count": null,
   "metadata": {
    "collapsed": false
   },
   "outputs": [],
   "source": []
  },
  {
   "cell_type": "code",
   "execution_count": null,
   "metadata": {
    "collapsed": true
   },
   "outputs": [],
   "source": []
  },
  {
   "cell_type": "code",
   "execution_count": null,
   "metadata": {
    "collapsed": true
   },
   "outputs": [],
   "source": []
  }
 ],
 "metadata": {
  "kernelspec": {
   "display_name": "Julia 0.4.2",
   "language": "julia",
   "name": "julia-0.4"
  },
  "language_info": {
   "file_extension": ".jl",
   "mimetype": "application/julia",
   "name": "julia",
   "version": "0.4.2"
  }
 },
 "nbformat": 4,
 "nbformat_minor": 0
}
