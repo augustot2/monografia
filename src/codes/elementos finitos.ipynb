{
 "cells": [
  {
   "cell_type": "code",
   "execution_count": 1,
   "metadata": {
    "collapsed": true
   },
   "outputs": [],
   "source": [
    "using PyPlot"
   ]
  },
  {
   "cell_type": "code",
   "execution_count": 2,
   "metadata": {
    "collapsed": true
   },
   "outputs": [],
   "source": [
    "using Jacobi"
   ]
  },
  {
   "cell_type": "code",
   "execution_count": 173,
   "metadata": {
    "collapsed": false
   },
   "outputs": [
    {
     "data": {
      "text/html": [
       "2 methods for generic function <b>dremap</b>:<ul><li> dremap(lim) at In[173]:4<li> dremap(x, a, b) at In[173]:3</ul>"
      ],
      "text/plain": [
       "# 2 methods for generic function \"dremap\":\n",
       "dremap(lim) at In[173]:4\n",
       "dremap(x, a, b) at In[173]:3"
      ]
     },
     "execution_count": 173,
     "metadata": {},
     "output_type": "execute_result"
    }
   ],
   "source": [
    "remap(x,a,b) = ((1-x).*a + (1+x).*b)/2\n",
    "remap(x,ab) = ((1-x).*ab[1] + (1+x).*ab[2])/2\n",
    "dremap(x,a,b) = (b-a)/2\n",
    "dremap(lim)   = (lim[2] - lim[1])/2\n",
    "\n",
    "methods(dremap)"
   ]
  },
  {
   "cell_type": "code",
   "execution_count": 174,
   "metadata": {
    "collapsed": false
   },
   "outputs": [
    {
     "data": {
      "text/plain": [
       "ϕ_matrix (generic function with 1 method)"
      ]
     },
     "execution_count": 174,
     "metadata": {},
     "output_type": "execute_result"
    }
   ],
   "source": [
    "function  ϕ_matrix(ψj,Q,M)\n",
    "    ϕ = zeros(Q,M)\n",
    "    ξ = zglj(Q)\n",
    "    for i in 1:M\n",
    "        for j in 1:Q\n",
    "            ϕ[j,i] = ψj(i,ξ[j],M)\n",
    "        end\n",
    "    end\n",
    "  return ϕ\n",
    "end "
   ]
  },
  {
   "cell_type": "code",
   "execution_count": 175,
   "metadata": {
    "collapsed": false
   },
   "outputs": [
    {
     "data": {
      "text/plain": [
       "map_matrix (generic function with 1 method)"
      ]
     },
     "execution_count": 175,
     "metadata": {},
     "output_type": "execute_result"
    }
   ],
   "source": [
    "function map_matrix(Nel)\n",
    "    nos = zglj(Nel+1)\n",
    "    matrix = zeros(Nel,2)\n",
    "    matrix[1,1],matrix[1,2]=1,2\n",
    "    for i in 2:Nel\n",
    "        matrix[i,1] = i\n",
    "        matrix[i,2] = i + 1\n",
    "    end\n",
    "    return round(Int64,matrix)\n",
    "end"
   ]
  },
  {
   "cell_type": "code",
   "execution_count": 176,
   "metadata": {
    "collapsed": false
   },
   "outputs": [
    {
     "data": {
      "text/plain": [
       "ψ (generic function with 1 method)"
      ]
     },
     "execution_count": 176,
     "metadata": {},
     "output_type": "execute_result"
    }
   ],
   "source": [
    "function ψ(p,E,M)\n",
    "    if(p == 1)\n",
    "        return  (1-E)/2\n",
    "    elseif(p == 2)\n",
    "        return  (1+E)/2\n",
    "    end\n",
    "end "
   ]
  },
  {
   "cell_type": "code",
   "execution_count": 177,
   "metadata": {
    "collapsed": false
   },
   "outputs": [
    {
     "data": {
      "text/plain": [
       "cria_Ae (generic function with 2 methods)"
      ]
     },
     "execution_count": 177,
     "metadata": {},
     "output_type": "execute_result"
    }
   ],
   "source": [
    "function cria_Ae(e,M,Q,e_M,jac)\n",
    "    A = zeros(M,M)\n",
    "    ξ = zglj(Q)\n",
    "    w = wglj(ξ)\n",
    "    ϕ = ϕ_matrix(ψ,Q,M)\n",
    "    for i in 1:M\n",
    "        for j in 1:M\n",
    "            temp = 0.0\n",
    "            for q in 1:Q\n",
    "                temp = temp + ϕ[q,i]*ϕ[q,j]*w[q]*jac\n",
    "            end\n",
    "            A[i,j] = temp\n",
    "        end\n",
    "    end\n",
    "    return A\n",
    "end"
   ]
  },
  {
   "cell_type": "code",
   "execution_count": 178,
   "metadata": {
    "collapsed": false
   },
   "outputs": [
    {
     "data": {
      "text/plain": [
       "2x2 Array{Float64,2}:\n",
       " 0.333333  0.166667\n",
       " 0.166667  0.333333"
      ]
     },
     "execution_count": 178,
     "metadata": {},
     "output_type": "execute_result"
    }
   ],
   "source": [
    "cria_Ae(1,2,100,e_M,.5,ψ)\n",
    "\n",
    "#e_M = elem_matrix(2, -1, 1, remap)\n",
    "\n"
   ]
  },
  {
   "cell_type": "code",
   "execution_count": 179,
   "metadata": {
    "collapsed": false
   },
   "outputs": [
    {
     "data": {
      "text/plain": [
       "mass_matrix (generic function with 1 method)"
      ]
     },
     "execution_count": 179,
     "metadata": {},
     "output_type": "execute_result"
    }
   ],
   "source": [
    "function mass_matrix(map,Nl,Q,Ne,e_M,jac)\n",
    "    z   = zglj(Q)\n",
    "    w   = wglj(z,.0,.0)\n",
    "    A   = zeros(Ne+1,Ne+1)\n",
    "    for e in 1:Ne\n",
    "        Ae= cria_Ae(e,Nl,Q,e_M,jac(e_M[e,:]))\n",
    "        for i in 1:2\n",
    "            for j in 1:2\n",
    "                ig = map[e,i]\n",
    "                jg = map[e,j]\n",
    "                A[ig,jg] += Ae[i,j]\n",
    "            end\n",
    "        end\n",
    "    end\n",
    "    return A\n",
    "end\n"
   ]
  },
  {
   "cell_type": "code",
   "execution_count": 180,
   "metadata": {
    "collapsed": false
   },
   "outputs": [
    {
     "data": {
      "text/plain": [
       "elem_matrix (generic function with 1 method)"
      ]
     },
     "execution_count": 180,
     "metadata": {},
     "output_type": "execute_result"
    }
   ],
   "source": [
    "function elem_matrix(Nel,a,b,remap)\n",
    "    nos = zglj(Nel+1)\n",
    "    matrix = zeros(Nel,2)\n",
    "    matrix[1,1],matrix[1,2]=remap(nos[1] ,a,b),remap(nos[2] ,a,b)\n",
    "    for i in 2:Nel\n",
    "        matrix[i,1] = remap(nos[i] ,a,b)\n",
    "        matrix[i,2] = remap(nos[i+1] ,a,b)\n",
    "    end\n",
    "    return matrix\n",
    "end"
   ]
  },
  {
   "cell_type": "code",
   "execution_count": 181,
   "metadata": {
    "collapsed": false
   },
   "outputs": [
    {
     "data": {
      "text/plain": [
       "3x2 Array{Float64,2}:\n",
       " -1.0       -0.447214\n",
       " -0.447214   0.447214\n",
       "  0.447214   1.0     "
      ]
     },
     "execution_count": 181,
     "metadata": {},
     "output_type": "execute_result"
    }
   ],
   "source": [
    "remap2(x,a,b) = x\n",
    "elem_matrix(3,-1,1,remap2)"
   ]
  },
  {
   "cell_type": "code",
   "execution_count": 182,
   "metadata": {
    "collapsed": false
   },
   "outputs": [
    {
     "data": {
      "text/plain": [
       "ϕ_matrix2 (generic function with 1 method)"
      ]
     },
     "execution_count": 182,
     "metadata": {},
     "output_type": "execute_result"
    }
   ],
   "source": [
    "function  ϕ_matrix2(ψj,Q,M)\n",
    "    ϕ = zeros(Q,M)\n",
    "    ξ = zglj(Q)\n",
    "    for i in 1:M\n",
    "        for j in 1:Q\n",
    "            ϕ[j,i] = ψj(i,ξ[j],M)\n",
    "        end\n",
    "    end\n",
    "  return ϕ\n",
    "end"
   ]
  },
  {
   "cell_type": "code",
   "execution_count": 183,
   "metadata": {
    "collapsed": false
   },
   "outputs": [
    {
     "data": {
      "text/plain": [
       "ψj2 (generic function with 1 method)"
      ]
     },
     "execution_count": 183,
     "metadata": {},
     "output_type": "execute_result"
    }
   ],
   "source": [
    "function ψj2(p,E,Q)\n",
    "    if(p == 1)\n",
    "     return  (1-E)/2\n",
    "        elseif(p == 2)\n",
    "     return  (1+E)/2\n",
    "    else\n",
    "     return  (1-E)*(1+E)/4 .* jacobi(E, p-3, 1, 1)\n",
    "    end\n",
    "end "
   ]
  },
  {
   "cell_type": "code",
   "execution_count": 13,
   "metadata": {
    "collapsed": false
   },
   "outputs": [
    {
     "data": {
      "text/plain": [
       "2x2 Array{Int64,2}:\n",
       " 1  2\n",
       " 2  3"
      ]
     },
     "execution_count": 13,
     "metadata": {},
     "output_type": "execute_result"
    }
   ],
   "source": [
    "map_matrix(2)"
   ]
  },
  {
   "cell_type": "code",
   "execution_count": 126,
   "metadata": {
    "collapsed": false
   },
   "outputs": [
    {
     "data": {
      "text/plain": [
       "cria_Fe (generic function with 1 method)"
      ]
     },
     "execution_count": 126,
     "metadata": {},
     "output_type": "execute_result"
    }
   ],
   "source": [
    "function cria_Fe(f,e,Q,Ne,e_M::Array,ψ,dremap)\n",
    "    Fe = zeros(2)\n",
    "    ξ  = zglj(Q)\n",
    "    for i in 1:2\n",
    "        for q in 1:Q\n",
    "            Fe[i] += dremap(e_M[e,:])*ψ(i,ξ[q],0)*f(remap(ξ[q],e_M[e,:]))\n",
    "        end\n",
    "    end\n",
    "    return Fe\n",
    "end"
   ]
  },
  {
   "cell_type": "code",
   "execution_count": 193,
   "metadata": {
    "collapsed": false
   },
   "outputs": [
    {
     "data": {
      "text/plain": [
       "2-element Array{Float64,1}:\n",
       " 0.713687\n",
       " 1.48407 "
      ]
     },
     "execution_count": 193,
     "metadata": {},
     "output_type": "execute_result"
    }
   ],
   "source": [
    "nel = 4\n",
    "e_M = elem_matrix(nel,-1,1,remap)\n",
    "cria_Fe(fun,1,20,2,e_M,ψ,dremap)"
   ]
  },
  {
   "cell_type": "code",
   "execution_count": 172,
   "metadata": {
    "collapsed": false
   },
   "outputs": [
    {
     "data": {
      "text/plain": [
       "fr_vector (generic function with 2 methods)"
      ]
     },
     "execution_count": 172,
     "metadata": {},
     "output_type": "execute_result"
    }
   ],
   "source": [
    "function fr_vector(fun,Nel,Q,e_M,ψ,dremap)\n",
    "    fr = zeros(Nel+1)\n",
    "    map = map_matrix(Nel)\n",
    "    \n",
    "    for e in 1:Nel\n",
    "        Fe = cria_Fe(fun,e,Q,Nel,e_M,ψ,dremap)\n",
    "        for i in 1:2\n",
    "            ig = map[e,i]\n",
    "            fr[ig] += Fe[i]\n",
    "        end\n",
    "    end\n",
    "    return fr\n",
    "end"
   ]
  },
  {
   "cell_type": "code",
   "execution_count": 171,
   "metadata": {
    "collapsed": false
   },
   "outputs": [
    {
     "data": {
      "text/plain": [
       "1x3 Array{Float64,2}:\n",
       " 0.0235442  1.66349e-17  -0.0235442"
      ]
     },
     "execution_count": 171,
     "metadata": {},
     "output_type": "execute_result"
    }
   ],
   "source": [
    "Nel = 2\n",
    "Q = 100\n",
    "M = 2\n",
    "a = -1\n",
    "b = 1\n",
    "#########################\n",
    "fun(x) = sin(x*2*pi)\n",
    "#########################\n",
    "dremap2(e_M)= (e_M[1]-e_M[2])*0 +1\n",
    "e_M = elem_matrix(Nel,a,b,remap)\n",
    "z   = zglj(Nel+1)\n",
    "w   = wglj(z,.0,.0)\n",
    "map = map_matrix(Nel)\n",
    "M   = mass_matrix(map,M,Q,Nel,e_M,dremap)\n",
    "fr = fr_vector(fun,map,Nel,Q,e_M,ψ,dremap)\n",
    "\n",
    "\n",
    "ue = fun(remap(zglj(Nel+1),a,b))'\n",
    "uh = fr\\M\n",
    "#ue - uh"
   ]
  },
  {
   "cell_type": "code",
   "execution_count": 140,
   "metadata": {
    "collapsed": false
   },
   "outputs": [
    {
     "data": {
      "text/plain": [
       "1x3 Array{Float64,2}:\n",
       " 2.44929e-16  0.0  -2.44929e-16"
      ]
     },
     "execution_count": 140,
     "metadata": {},
     "output_type": "execute_result"
    }
   ],
   "source": [
    "ue"
   ]
  },
  {
   "cell_type": "code",
   "execution_count": 129,
   "metadata": {
    "collapsed": false
   },
   "outputs": [
    {
     "data": {
      "text/plain": [
       "1x4 Array{Float64,2}:\n",
       " 2.44929e-16  -0.325619  0.325619  -2.44929e-16"
      ]
     },
     "execution_count": 129,
     "metadata": {},
     "output_type": "execute_result"
    }
   ],
   "source": [
    "fun(remap(zglj(Nel+1),a,b))'"
   ]
  },
  {
   "cell_type": "code",
   "execution_count": 118,
   "metadata": {
    "collapsed": false
   },
   "outputs": [
    {
     "data": {
      "image/png": "[encoded data removed]",
      "text/plain": [
       "PyPlot.Figure(PyObject <matplotlib.figure.Figure object at 0x7fc9e7bdf4d0>)"
      ]
     },
     "metadata": {},
     "output_type": "display_data"
    },
    {
     "data": {
      "text/plain": [
       "PyObject <matplotlib.legend.Legend object at 0x7fc9e7b75210>"
      ]
     },
     "execution_count": 118,
     "metadata": {},
     "output_type": "execute_result"
    }
   ],
   "source": [
    "\n",
    "plot(z,uh',label=\"aprox\")\n",
    "plot(z,fun(remap(zglj(Nel+1),a,b)),label=\"exact\")\n",
    "legend()"
   ]
  },
  {
   "cell_type": "code",
   "execution_count": null,
   "metadata": {
    "collapsed": true
   },
   "outputs": [],
   "source": []
  },
  {
   "cell_type": "code",
   "execution_count": null,
   "metadata": {
    "collapsed": true
   },
   "outputs": [],
   "source": []
  }
 ],
 "metadata": {
  "kernelspec": {
   "display_name": "Julia 0.4.2",
   "language": "julia",
   "name": "julia-0.4"
  },
  "language_info": {
   "file_extension": ".jl",
   "mimetype": "application/julia",
   "name": "julia",
   "version": "0.4.2"
  }
 },
 "nbformat": 4,
 "nbformat_minor": 0
}
